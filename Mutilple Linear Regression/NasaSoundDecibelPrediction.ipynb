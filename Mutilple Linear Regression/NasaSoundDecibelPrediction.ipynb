{
  "nbformat": 4,
  "nbformat_minor": 0,
  "metadata": {
    "colab": {
      "name": "NasaSoundDecibelPrediction.ipynb",
      "provenance": [],
      "collapsed_sections": []
    },
    "kernelspec": {
      "name": "python3",
      "display_name": "Python 3"
    }
  },
  "cells": [
    {
      "cell_type": "markdown",
      "metadata": {
        "id": "Pw5a2EjeNnYz"
      },
      "source": [
        "Dataset is taken from UCI Machine Repository https://archive.ics.uci.edu/ml/datasets/Airfoil+Self-Noise# Donor: Dr Roberto Lopez robertolopez '@' intelnics.com Intelnics\n",
        "\n",
        "Creators: Thomas F. Brooks, D. Stuart Pope and Michael A. Marcolini NASA\n",
        "\n",
        "The NASA data set comprises different size NACA 0012 airfoils at various wind tunnel speeds and angles of attack. The task is to predict the Scaled cound pressure level in decibels.\n",
        "\n"
      ]
    },
    {
      "cell_type": "code",
      "metadata": {
        "id": "wEGJOQdWL9-s"
      },
      "source": [
        "import pandas as pd\n",
        "import numpy as np\n",
        "import sklearn\n",
        "import seaborn as sns\n",
        "import matplotlib.pyplot as plt\n",
        "from sklearn.model_selection import train_test_split\n",
        "from sklearn.linear_model import LinearRegression\n",
        "from sklearn.metrics import mean_squared_error,mean_absolute_error"
      ],
      "execution_count": 132,
      "outputs": []
    },
    {
      "cell_type": "markdown",
      "metadata": {
        "id": "0VM4shaMMoF5"
      },
      "source": [
        "Reading the dataset"
      ]
    },
    {
      "cell_type": "code",
      "metadata": {
        "id": "RLGKYYwIMea3"
      },
      "source": [
        "pd.set_option('max_columns',10)\n",
        "\n",
        "dataset=pd.read_csv(\"/content/airfoil_self_noise.dat\",sep=\"\\t\",names=[\"Frequency\",\"Angle of attack\",\"Chord length\",\"Free-stream velocity\",\"Suction side displacement\" ,\"Scaled sound pressure level\"])\n",
        "\n",
        "#Checking for shape and head/tail and info of data\n",
        "print(dataset.head())\n",
        "print(dataset.tail())\n",
        "print(dataset.info())\n",
        "print(dataset.shape)\n",
        "\n",
        "#Checking for presence of any null value, there are no null values present in dataset\n",
        "print(dataset.isnull().any())\n"
      ],
      "execution_count": null,
      "outputs": []
    },
    {
      "cell_type": "code",
      "metadata": {
        "id": "5XBEAdW0WRgr"
      },
      "source": [
        "# Finding the correlation among various varaibles to check for multi-colinearity among independent variables\n",
        "corelation=dataset.corr()\n",
        "print(corelation)\n",
        "print(sns.heatmap(corelation))\n",
        "\n",
        "\"\"\"Since no co-relation value is highter than 7 or less than -7, \n",
        "no high multi-colinearity exists between independent variables \"\"\""
      ],
      "execution_count": null,
      "outputs": []
    },
    {
      "cell_type": "code",
      "metadata": {
        "id": "F-72VPw6Mes7"
      },
      "source": [
        "#Splitting the dataset in train data and test data using train_test_split from sklearn\n",
        "X=dataset.iloc[:,:-1].values\n",
        "y=dataset.iloc[:,-1].values\n",
        "\n",
        "X_train, X_test, y_train, y_test =train_test_split(X,y,random_state=42,test_size=.2,shuffle=True)"
      ],
      "execution_count": 135,
      "outputs": []
    },
    {
      "cell_type": "code",
      "metadata": {
        "id": "6VonmMaDPM1-"
      },
      "source": [
        "print(X_train.shape)\n",
        "print(X_test.shape)\n",
        "print(y_train.shape)\n",
        "print(y_test.shape)"
      ],
      "execution_count": null,
      "outputs": []
    },
    {
      "cell_type": "code",
      "metadata": {
        "id": "2Vrb9zd1PM5c"
      },
      "source": [
        "# Always After splitting, perform the feature scaling\n",
        "from sklearn.preprocessing import StandardScaler\n",
        "scalar=StandardScaler()\n",
        "X_train=scalar.fit_transform(X_train)\n",
        "X_test=scalar.transform(X_test)"
      ],
      "execution_count": 137,
      "outputs": []
    },
    {
      "cell_type": "code",
      "metadata": {
        "id": "l5ZXz4BLPM_7"
      },
      "source": [
        "# Building a Multi Linear Regression model\n",
        "linear=LinearRegression()\n",
        "linear.fit(X_train,y_train)\n",
        "pd.set_option('precision',2)\n",
        "predcitedvalue=linear.predict(X_test)\n"
      ],
      "execution_count": 138,
      "outputs": []
    },
    {
      "cell_type": "code",
      "metadata": {
        "colab": {
          "base_uri": "https://localhost:8080/"
        },
        "id": "4nfT6zs8PNFM",
        "outputId": "920e86c4-7fb3-4f54-85b3-e5e5a9e3e804"
      },
      "source": [
        "# print the cofficient and intercepts\n",
        "print(linear.coef_)\n",
        "print(linear.intercept_)\n",
        "# printing the root mean squared error\n",
        "print(mean_squared_error(y_test,predcitedvalue,squared=False))\n",
        "print(mean_absolute_error(y_test,predcitedvalue))"
      ],
      "execution_count": 139,
      "outputs": [
        {
          "output_type": "stream",
          "text": [
            "[-4.05944704 -2.36673679 -3.21995215  1.526901   -1.81559015]\n",
            "124.87696006655574\n",
            "4.704109194974886\n",
            "3.6724145641788013\n"
          ],
          "name": "stdout"
        }
      ]
    },
    {
      "cell_type": "code",
      "metadata": {
        "colab": {
          "base_uri": "https://localhost:8080/"
        },
        "id": "a1VhhPoeSn8l",
        "outputId": "db53e0d6-1271-4c29-eb6e-c0fec92b10b5"
      },
      "source": [
        "# making a new dataframe where orginal values and predicted values are stored\n",
        "newdataframe=pd.DataFrame([predcitedvalue,y_test]).T\n",
        "\n",
        "newdataframe.columns=[\"predictedvalue\",\"originalvalue\"]\n",
        "newdataframe[\"newcol\"]=newdataframe.originalvalue-newdataframe.predictedvalue\n",
        "print(newdataframe)"
      ],
      "execution_count": 141,
      "outputs": [
        {
          "output_type": "stream",
          "text": [
            "     predictedvalue  originalvalue  newcol\n",
            "0            124.16         125.05    0.88\n",
            "1            119.72         118.77   -0.95\n",
            "2            120.30         120.23   -0.06\n",
            "3            129.62         137.05    7.43\n",
            "4            129.76         134.56    4.80\n",
            "..              ...            ...     ...\n",
            "296          129.12         136.54    7.42\n",
            "297          119.48         116.66   -2.82\n",
            "298          131.91         125.40   -6.50\n",
            "299          118.24         130.48   12.24\n",
            "300          129.90         128.71   -1.18\n",
            "\n",
            "[301 rows x 3 columns]\n"
          ],
          "name": "stdout"
        }
      ]
    }
  ]
}