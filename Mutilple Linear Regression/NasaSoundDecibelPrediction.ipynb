{
  "nbformat": 4,
  "nbformat_minor": 0,
  "metadata": {
    "colab": {
      "name": "NasaSoundDecibelPrediction.ipynb",
      "provenance": [],
      "collapsed_sections": []
    },
    "kernelspec": {
      "name": "python3",
      "display_name": "Python 3"
    }
  },
  "cells": [
    {
      "cell_type": "markdown",
      "metadata": {
        "id": "Pw5a2EjeNnYz"
      },
      "source": [
        "Dataset is taken from UCI Machine Repository https://archive.ics.uci.edu/ml/datasets/Airfoil+Self-Noise# Donor: Dr Roberto Lopez robertolopez '@' intelnics.com Intelnics\n",
        "\n",
        "Creators: Thomas F. Brooks, D. Stuart Pope and Michael A. Marcolini NASA\n",
        "\n",
        "The NASA data set comprises different size NACA 0012 airfoils at various wind tunnel speeds and angles of attack. The task is to predict the Scaled cound pressure level in decibels.\n"
      ]
    },
    {
      "cell_type": "code",
      "metadata": {
        "id": "wEGJOQdWL9-s"
      },
      "source": [
        "import pandas as pd\n",
        "import numpy as np\n",
        "import sklearn\n",
        "import seaborn as sns\n",
        "import matplotlib.pyplot as plt\n",
        "from sklearn.model_selection import train_test_split\n",
        "from sklearn.metrics import mean_squared_error,mean_absolute_error,r2_score"
      ],
      "execution_count": 20,
      "outputs": []
    },
    {
      "cell_type": "markdown",
      "metadata": {
        "id": "0VM4shaMMoF5"
      },
      "source": [
        "**Reading the dataset**"
      ]
    },
    {
      "cell_type": "code",
      "metadata": {
        "id": "RLGKYYwIMea3"
      },
      "source": [
        "pd.set_option('max_columns',10)\n",
        "\n",
        "dataset=pd.read_csv(\"/content/airfoil_self_noise.dat\",sep=\"\\t\",names=[\"Frequency\",\"Angle of attack\",\"Chord length\",\"Free-stream velocity\",\"Suction side displacement\" ,\"Scaled sound pressure level\"])\n",
        "\n",
        "#Checking for shape and head/tail and info of data\n",
        "print(dataset.head())\n",
        "print(dataset.tail())\n",
        "print(dataset.info())\n",
        "print(dataset.shape)\n",
        "\n",
        "#Checking for presence of any null value, there are no null values present in dataset\n",
        "print(dataset.isnull().any())\n"
      ],
      "execution_count": null,
      "outputs": []
    },
    {
      "cell_type": "code",
      "metadata": {
        "id": "5XBEAdW0WRgr"
      },
      "source": [
        "# Finding the correlation among various varaibles to check for multi-colinearity among independent variables\n",
        "corelation=dataset.corr()\n",
        "print(corelation)\n",
        "print(sns.heatmap(corelation))\n",
        "\n",
        "\"\"\"Since no co-relation value is highter than 7 or less than -7, \n",
        "no high multi-colinearity exists between independent variables \"\"\""
      ],
      "execution_count": null,
      "outputs": []
    },
    {
      "cell_type": "code",
      "metadata": {
        "id": "F-72VPw6Mes7"
      },
      "source": [
        "#Splitting the dataset in train data and test data using train_test_split from sklearn\n",
        "X=dataset.iloc[:,:-1].values\n",
        "y=dataset.iloc[:,-1].values\n",
        "\n",
        "X_train, X_test, y_train, y_test =train_test_split(X,y,random_state=42,test_size=.2,shuffle=True)"
      ],
      "execution_count": 23,
      "outputs": []
    },
    {
      "cell_type": "code",
      "metadata": {
        "id": "6VonmMaDPM1-"
      },
      "source": [
        "print(X_train.shape)\n",
        "print(X_test.shape)\n",
        "print(y_train.shape)\n",
        "print(y_test.shape)"
      ],
      "execution_count": null,
      "outputs": []
    },
    {
      "cell_type": "code",
      "metadata": {
        "id": "2Vrb9zd1PM5c"
      },
      "source": [
        "# Always After splitting, perform the feature scaling\n",
        "from sklearn.preprocessing import StandardScaler\n",
        "scalar=StandardScaler()\n",
        "X_train=scalar.fit_transform(X_train)\n",
        "X_test=scalar.transform(X_test)"
      ],
      "execution_count": 25,
      "outputs": []
    },
    {
      "cell_type": "markdown",
      "metadata": {
        "id": "nF7QLoAI8L3f"
      },
      "source": [
        "# **Building a Multi Linear Regression model**"
      ]
    },
    {
      "cell_type": "code",
      "metadata": {
        "id": "l5ZXz4BLPM_7"
      },
      "source": [
        "from sklearn.linear_model import LinearRegression\n",
        "linear=LinearRegression()\n",
        "linear.fit(X_train,y_train)\n",
        "pd.set_option('precision',2)\n",
        "predcitedvalue=linear.predict(X_test)\n"
      ],
      "execution_count": 26,
      "outputs": []
    },
    {
      "cell_type": "code",
      "metadata": {
        "colab": {
          "base_uri": "https://localhost:8080/"
        },
        "id": "4nfT6zs8PNFM",
        "outputId": "4536cfb9-6a6d-4119-9ebc-461b9acbafb0"
      },
      "source": [
        "# print the cofficient and intercepts\n",
        "print(f'Linear Cofficients are {linear.coef_}')\n",
        "print(f'The line intercept is {linear.intercept_}')\n",
        "\n",
        "# printing the root mean squared error\n",
        "print(f'The Mean_squared_error is { mean_squared_error(y_test,predcitedvalue,squared=False)}')\n",
        "print(f'The Mean_absolute_error is { mean_absolute_error(y_test,predcitedvalue)}')\n",
        "print(f'R2 Score is {r2_score(y_test,predcitedvalue)}')"
      ],
      "execution_count": 27,
      "outputs": [
        {
          "output_type": "stream",
          "text": [
            "Linear Cofficients are [-4.05944704 -2.36673679 -3.21995215  1.526901   -1.81559015]\n",
            "The line intercept is 124.87696006655574\n",
            "The Mean_squared_error is 4.704109194974886\n",
            "The Mean_absolute_error is 3.6724145641788013\n",
            "R2 Score is 0.5582979754897286\n"
          ],
          "name": "stdout"
        }
      ]
    },
    {
      "cell_type": "code",
      "metadata": {
        "id": "a1VhhPoeSn8l"
      },
      "source": [
        "# making a new dataframe where orginal values and predicted values are stored\n",
        "newdataframe=pd.DataFrame([predcitedvalue,y_test]).T\n",
        "\n",
        "newdataframe.columns=[\"predictedvalue\",\"originalvalue\"]\n",
        "newdataframe[\"newcol\"]=newdataframe.originalvalue-newdataframe.predictedvalue\n",
        "print(newdataframe)"
      ],
      "execution_count": null,
      "outputs": []
    },
    {
      "cell_type": "markdown",
      "metadata": {
        "id": "hiQXZgwB79Pu"
      },
      "source": [
        "**The R2 Score in case of Linear Regression is very less, The model is not a goof fit, We will now try Decision Tree Regressor**"
      ]
    },
    {
      "cell_type": "markdown",
      "metadata": {
        "id": "YRcE_V9f8Ur8"
      },
      "source": [
        "# **Building a Decision Tree Regressor**"
      ]
    },
    {
      "cell_type": "code",
      "metadata": {
        "id": "3rnaSoD98ZTH"
      },
      "source": [
        "from sklearn.tree import DecisionTreeRegressor\n",
        "decisionregressor=DecisionTreeRegressor(random_state=23)\n",
        "decisionregressor.fit(X_train,y_train)\n",
        "predvalue_decision=decisionregressor.predict(X_test)"
      ],
      "execution_count": 31,
      "outputs": []
    },
    {
      "cell_type": "code",
      "metadata": {
        "colab": {
          "base_uri": "https://localhost:8080/"
        },
        "id": "RY4ROR-D8ZWP",
        "outputId": "73d3c638-ed2a-403d-f09e-c42e9207b4f1"
      },
      "source": [
        "# printing the root mean squared error\n",
        "print(f'The Mean_squared_error is { mean_squared_error(y_test,predvalue_decision,squared=False)}')\n",
        "print(f'The Mean_absolute_error is { mean_absolute_error(y_test,predvalue_decision)}')\n",
        "print(f'R2 Score is {r2_score(y_test,predvalue_decision)}')"
      ],
      "execution_count": 32,
      "outputs": [
        {
          "output_type": "stream",
          "text": [
            "The Mean_squared_error is 2.619758695235585\n",
            "The Mean_absolute_error is 1.8362790697674412\n",
            "R2 Score is 0.8630073766926125\n"
          ],
          "name": "stdout"
        }
      ]
    },
    {
      "cell_type": "markdown",
      "metadata": {
        "id": "T9LMH6ll9TQ8"
      },
      "source": [
        "**R2 Score has significantly improved by using Decision Tree Regressor as compared to Linear Regression Model. We can now further try to use Random Forest Regressor**"
      ]
    },
    {
      "cell_type": "code",
      "metadata": {
        "id": "vG-rbzsF9eC5"
      },
      "source": [
        "from sklearn.ensemble import RandomForestRegressor\n",
        "randomRegressor=RandomForestRegressor(random_state=23,n_estimators=30)\n",
        "randomRegressor.fit(X_train,y_train)\n",
        "predvalue_Random=randomRegressor.predict(X_test)"
      ],
      "execution_count": 34,
      "outputs": []
    },
    {
      "cell_type": "code",
      "metadata": {
        "colab": {
          "base_uri": "https://localhost:8080/"
        },
        "id": "w99rGgln9zH3",
        "outputId": "78ff5222-b266-44b9-804b-a1a9ca35e0ca"
      },
      "source": [
        "# printing the root mean squared error\n",
        "print(f'The Mean_squared_error is { mean_squared_error(y_test,predvalue_Random,squared=False)}')\n",
        "print(f'The Mean_absolute_error is { mean_absolute_error(y_test,predvalue_Random)}')\n",
        "print(f'R2 Score is {r2_score(y_test,predvalue_Random)}')"
      ],
      "execution_count": 35,
      "outputs": [
        {
          "output_type": "stream",
          "text": [
            "The Mean_squared_error is 1.9190851296815714\n",
            "The Mean_absolute_error is 1.3578409745293467\n",
            "R2 Score is 0.9264871802042807\n"
          ],
          "name": "stdout"
        }
      ]
    },
    {
      "cell_type": "markdown",
      "metadata": {
        "id": "W2HxKWW_-Dl9"
      },
      "source": [
        "**Accuracy of predicted results have improved with R2score equal to .92 using Random Forest Classifier . We can further hypertune using the increased number of random trees**"
      ]
    }
  ]
}