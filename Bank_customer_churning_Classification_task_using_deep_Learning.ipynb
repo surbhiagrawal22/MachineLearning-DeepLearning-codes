{
  "nbformat": 4,
  "nbformat_minor": 0,
  "metadata": {
    "colab": {
      "name": "Bank customer churning Classification task using deep Learning.ipynb",
      "provenance": [],
      "authorship_tag": "ABX9TyNOpNHN2bGxLH3GQrwh+CSz",
      "include_colab_link": true
    },
    "kernelspec": {
      "display_name": "Python 3",
      "name": "python3"
    }
  },
  "cells": [
    {
      "cell_type": "markdown",
      "metadata": {
        "id": "view-in-github",
        "colab_type": "text"
      },
      "source": [
        "<a href=\"https://colab.research.google.com/github/surbhiagrawal22/MachineLearning-DeepLearning-codes/blob/master/Bank_customer_churning_Classification_task_using_deep_Learning.ipynb\" target=\"_parent\"><img src=\"https://colab.research.google.com/assets/colab-badge.svg\" alt=\"Open In Colab\"/></a>"
      ]
    },
    {
      "cell_type": "code",
      "metadata": {
        "id": "sAqs-O3x9oCt"
      },
      "source": [
        "import tensorflow as tf\n",
        "from tensorflow import keras\n",
        "import pandas as pd\n",
        "import numpy as np\n",
        "import matplotlib.pyplot as plt\n",
        "import sklearn\n",
        "from sklearn.metrics import classification_report,confusion_matrix\n",
        "from sklearn.model_selection import train_test_split\n",
        "from sklearn.preprocessing import StandardScaler\n",
        "from sklearn.preprocessing import LabelEncoder,OneHotEncoder"
      ],
      "execution_count": null,
      "outputs": []
    },
    {
      "cell_type": "markdown",
      "metadata": {
        "id": "KDDkodu3-l4Q"
      },
      "source": [
        "Reading the Dataset and analysing basic details about dataset"
      ]
    },
    {
      "cell_type": "code",
      "metadata": {
        "colab": {
          "background_save": true
        },
        "id": "aEZV9lnH-N8t"
      },
      "source": [
        "pd.set_option(\"display.max_columns\",None)\n",
        "\n",
        "data_df=pd.read_csv(\"https://raw.githubusercontent.com/krishnaik06/Complete-Deep-Learning/master/ANN/Churn_Modelling.csv\")\n",
        "\n",
        "print(data_df.head())\n",
        "print(data_df.tail(5))\n",
        "print(data_df.sample(5))\n"
      ],
      "execution_count": null,
      "outputs": []
    },
    {
      "cell_type": "code",
      "metadata": {
        "id": "2wwYuOf6-OC_"
      },
      "source": [
        "# checking for presence of any null values in dataset\n",
        "print(data_df.info())\n",
        "print(data_df.describe())"
      ],
      "execution_count": null,
      "outputs": []
    },
    {
      "cell_type": "code",
      "metadata": {
        "id": "rfKCnEjB-Od9"
      },
      "source": [
        "encoder=OneHotEncoder()\n",
        "new_geography= encoder.fit_transform(data_df[[\"Geography\"]]).toarray()\n",
        "new_gender=encoder.fit_transform(data_df[[\"Gender\"]]).toarray()\n",
        "data_df=data_df.join(pd.DataFrame(new_geography,columns=encoder.categories_)  )\n",
        "print(data_df)\n",
        "# print(new_geography)\n",
        "# print(new_gender)"
      ],
      "execution_count": null,
      "outputs": []
    },
    {
      "cell_type": "code",
      "metadata": {
        "id": "2AVhXau--OoP"
      },
      "source": [
        "print(data_df[\"Gender\"].value_counts())\n",
        "print(data_df[\"Geography\"].value_counts())\n",
        "\n",
        "print(data_df[\"Exited\"].value_counts()) # as we see the value counts for exited, the dataset is imbalanced"
      ],
      "execution_count": null,
      "outputs": []
    },
    {
      "cell_type": "code",
      "metadata": {
        "id": "aK6EGbX5-O8d"
      },
      "source": [
        "# defining the response variable and independent varaibles\n",
        "X=data_df.drop([\"Exited\",\"RowNumber\",  \"CustomerId\" ,  \"Surname\"],axis=1)\n",
        "y=data_df[\"Exited\"]\n",
        "print(X.head())\n",
        "print(y.head())"
      ],
      "execution_count": null,
      "outputs": []
    },
    {
      "cell_type": "code",
      "metadata": {
        "id": "X0ueoHup-PJA"
      },
      "source": [
        "# performing train test split\n",
        "state=6\n",
        "X_train,X_test,y_train,y_test=train_test_split(X,y,test_size=.2,random_state=state,stratify=y)\n",
        "print(X_train.shape)\n",
        "print(X_test.shape)\n",
        "print(y_train.shape)\n",
        "print(y_test.shape)\n",
        "print(y_train.value_counts())\n",
        "print(y_test.value_counts())"
      ],
      "execution_count": null,
      "outputs": []
    }
  ]
}