{
  "nbformat": 4,
  "nbformat_minor": 0,
  "metadata": {
    "colab": {
      "name": "Bank customer churning Classification task using deep Learning.ipynb",
      "provenance": [],
      "authorship_tag": "ABX9TyM6l0jw5scMwVQsEzCLEXHS",
      "include_colab_link": true
    },
    "kernelspec": {
      "name": "python3",
      "display_name": "Python 3"
    }
  },
  "cells": [
    {
      "cell_type": "markdown",
      "metadata": {
        "id": "view-in-github",
        "colab_type": "text"
      },
      "source": [
        "<a href=\"https://colab.research.google.com/github/surbhiagrawal22/rep0/blob/master/Bank_customer_churning_Classification_task_using_deep_Learning.ipynb\" target=\"_parent\"><img src=\"https://colab.research.google.com/assets/colab-badge.svg\" alt=\"Open In Colab\"/></a>"
      ]
    },
    {
      "cell_type": "code",
      "metadata": {
        "id": "sAqs-O3x9oCt"
      },
      "source": [
        "import tensorflow as tf\n",
        "from tensorflow import keras\n",
        "import pandas as pd\n",
        "import numpy as np\n",
        "import matplotlib.pyplot as plt\n",
        "import sklearn\n",
        "from sklearn.metrics import classification_report,confusion_matrix,accuracy_score,recall_score,precision_score\n",
        "from sklearn.model_selection import train_test_split\n",
        "from sklearn.preprocessing import StandardScaler\n",
        "from sklearn.preprocessing import LabelEncoder,OneHotEncoder\n",
        "from tensorflow.keras.models import Sequential\n",
        "from tensorflow.keras.layers import Dense,Flatten,Dropout,LeakyReLU"
      ],
      "execution_count": 129,
      "outputs": []
    },
    {
      "cell_type": "markdown",
      "metadata": {
        "id": "KDDkodu3-l4Q"
      },
      "source": [
        "Reading the Dataset and analysing basic details about dataset"
      ]
    },
    {
      "cell_type": "code",
      "metadata": {
        "colab": {
          "base_uri": "https://localhost:8080/"
        },
        "id": "aEZV9lnH-N8t",
        "outputId": "054692f9-d5b2-4fbd-bbc2-3d862089fd58"
      },
      "source": [
        "pd.set_option(\"display.max_columns\",None)\n",
        "\n",
        "data_df=pd.read_csv(\"https://raw.githubusercontent.com/krishnaik06/Complete-Deep-Learning/master/ANN/Churn_Modelling.csv\")\n",
        "\n",
        "print(data_df.head())\n",
        "print(data_df.tail(5))\n",
        "print(data_df.sample(5))\n"
      ],
      "execution_count": 130,
      "outputs": [
        {
          "output_type": "stream",
          "text": [
            "   RowNumber  CustomerId   Surname  CreditScore Geography  Gender  Age  \\\n",
            "0          1    15634602  Hargrave          619    France  Female   42   \n",
            "1          2    15647311      Hill          608     Spain  Female   41   \n",
            "2          3    15619304      Onio          502    France  Female   42   \n",
            "3          4    15701354      Boni          699    France  Female   39   \n",
            "4          5    15737888  Mitchell          850     Spain  Female   43   \n",
            "\n",
            "   Tenure    Balance  NumOfProducts  HasCrCard  IsActiveMember  \\\n",
            "0       2       0.00              1          1               1   \n",
            "1       1   83807.86              1          0               1   \n",
            "2       8  159660.80              3          1               0   \n",
            "3       1       0.00              2          0               0   \n",
            "4       2  125510.82              1          1               1   \n",
            "\n",
            "   EstimatedSalary  Exited  \n",
            "0        101348.88       1  \n",
            "1        112542.58       0  \n",
            "2        113931.57       1  \n",
            "3         93826.63       0  \n",
            "4         79084.10       0  \n",
            "      RowNumber  CustomerId    Surname  CreditScore Geography  Gender  Age  \\\n",
            "9995       9996    15606229   Obijiaku          771    France    Male   39   \n",
            "9996       9997    15569892  Johnstone          516    France    Male   35   \n",
            "9997       9998    15584532        Liu          709    France  Female   36   \n",
            "9998       9999    15682355  Sabbatini          772   Germany    Male   42   \n",
            "9999      10000    15628319     Walker          792    France  Female   28   \n",
            "\n",
            "      Tenure    Balance  NumOfProducts  HasCrCard  IsActiveMember  \\\n",
            "9995       5       0.00              2          1               0   \n",
            "9996      10   57369.61              1          1               1   \n",
            "9997       7       0.00              1          0               1   \n",
            "9998       3   75075.31              2          1               0   \n",
            "9999       4  130142.79              1          1               0   \n",
            "\n",
            "      EstimatedSalary  Exited  \n",
            "9995         96270.64       0  \n",
            "9996        101699.77       0  \n",
            "9997         42085.58       1  \n",
            "9998         92888.52       1  \n",
            "9999         38190.78       0  \n",
            "      RowNumber  CustomerId         Surname  CreditScore Geography  Gender  \\\n",
            "3840       3841    15662884          Naylor          739   Germany    Male   \n",
            "6442       6443    15719212           T'ien          491    France    Male   \n",
            "3578       3579    15711618           Chang          704   Germany  Female   \n",
            "8135       8136    15716605  Chukwufumnanya          710   Germany  Female   \n",
            "6123       6124    15714493         Francis          465     Spain  Female   \n",
            "\n",
            "      Age  Tenure    Balance  NumOfProducts  HasCrCard  IsActiveMember  \\\n",
            "3840   58       1  110597.76              1          0               1   \n",
            "6442   33       5   83134.30              1          1               0   \n",
            "3578   39       1  124640.51              1          1               0   \n",
            "8135   24       7  103099.17              2          1               0   \n",
            "6123   33       6       0.00              2          1               1   \n",
            "\n",
            "      EstimatedSalary  Exited  \n",
            "3840        160122.66       1  \n",
            "6442        187946.55       0  \n",
            "3578        116511.12       1  \n",
            "8135        173276.62       0  \n",
            "6123         95500.98       0  \n"
          ],
          "name": "stdout"
        }
      ]
    },
    {
      "cell_type": "code",
      "metadata": {
        "colab": {
          "base_uri": "https://localhost:8080/"
        },
        "id": "2wwYuOf6-OC_",
        "outputId": "1895db14-84cd-496e-bbfc-b9ffb51d9b1d"
      },
      "source": [
        "# checking for presence of any null values in dataset\n",
        "print(data_df.info())\n",
        "print(data_df.describe())"
      ],
      "execution_count": 131,
      "outputs": [
        {
          "output_type": "stream",
          "text": [
            "<class 'pandas.core.frame.DataFrame'>\n",
            "RangeIndex: 10000 entries, 0 to 9999\n",
            "Data columns (total 14 columns):\n",
            " #   Column           Non-Null Count  Dtype  \n",
            "---  ------           --------------  -----  \n",
            " 0   RowNumber        10000 non-null  int64  \n",
            " 1   CustomerId       10000 non-null  int64  \n",
            " 2   Surname          10000 non-null  object \n",
            " 3   CreditScore      10000 non-null  int64  \n",
            " 4   Geography        10000 non-null  object \n",
            " 5   Gender           10000 non-null  object \n",
            " 6   Age              10000 non-null  int64  \n",
            " 7   Tenure           10000 non-null  int64  \n",
            " 8   Balance          10000 non-null  float64\n",
            " 9   NumOfProducts    10000 non-null  int64  \n",
            " 10  HasCrCard        10000 non-null  int64  \n",
            " 11  IsActiveMember   10000 non-null  int64  \n",
            " 12  EstimatedSalary  10000 non-null  float64\n",
            " 13  Exited           10000 non-null  int64  \n",
            "dtypes: float64(2), int64(9), object(3)\n",
            "memory usage: 1.1+ MB\n",
            "None\n",
            "         RowNumber    CustomerId   CreditScore           Age        Tenure  \\\n",
            "count  10000.00000  1.000000e+04  10000.000000  10000.000000  10000.000000   \n",
            "mean    5000.50000  1.569094e+07    650.528800     38.921800      5.012800   \n",
            "std     2886.89568  7.193619e+04     96.653299     10.487806      2.892174   \n",
            "min        1.00000  1.556570e+07    350.000000     18.000000      0.000000   \n",
            "25%     2500.75000  1.562853e+07    584.000000     32.000000      3.000000   \n",
            "50%     5000.50000  1.569074e+07    652.000000     37.000000      5.000000   \n",
            "75%     7500.25000  1.575323e+07    718.000000     44.000000      7.000000   \n",
            "max    10000.00000  1.581569e+07    850.000000     92.000000     10.000000   \n",
            "\n",
            "             Balance  NumOfProducts    HasCrCard  IsActiveMember  \\\n",
            "count   10000.000000   10000.000000  10000.00000    10000.000000   \n",
            "mean    76485.889288       1.530200      0.70550        0.515100   \n",
            "std     62397.405202       0.581654      0.45584        0.499797   \n",
            "min         0.000000       1.000000      0.00000        0.000000   \n",
            "25%         0.000000       1.000000      0.00000        0.000000   \n",
            "50%     97198.540000       1.000000      1.00000        1.000000   \n",
            "75%    127644.240000       2.000000      1.00000        1.000000   \n",
            "max    250898.090000       4.000000      1.00000        1.000000   \n",
            "\n",
            "       EstimatedSalary        Exited  \n",
            "count     10000.000000  10000.000000  \n",
            "mean     100090.239881      0.203700  \n",
            "std       57510.492818      0.402769  \n",
            "min          11.580000      0.000000  \n",
            "25%       51002.110000      0.000000  \n",
            "50%      100193.915000      0.000000  \n",
            "75%      149388.247500      0.000000  \n",
            "max      199992.480000      1.000000  \n"
          ],
          "name": "stdout"
        }
      ]
    },
    {
      "cell_type": "code",
      "metadata": {
        "id": "rfKCnEjB-Od9"
      },
      "source": [
        "# for performing machin elearning, we are converting out categorical feature into dummy variable\n",
        "encoder_geography=OneHotEncoder()\n",
        "encoder_gender=OneHotEncoder()\n",
        "new_geography= encoder_geography.fit_transform(data_df[[\"Geography\"]]).toarray()\n",
        "new_gender=encoder_gender.fit_transform(data_df[[\"Gender\"]]).toarray()\n",
        "data_df=data_df.join(pd.DataFrame(new_geography,columns=encoder_geography.categories_)  )\n",
        "data_df=data_df.join(pd.DataFrame(new_gender,columns=encoder_gender.categories_)  )\n"
      ],
      "execution_count": 132,
      "outputs": []
    },
    {
      "cell_type": "code",
      "metadata": {
        "colab": {
          "base_uri": "https://localhost:8080/"
        },
        "id": "2AVhXau--OoP",
        "outputId": "2f523d3e-e56d-472a-80c2-a4cde5a63d64"
      },
      "source": [
        "print(data_df)\n",
        "# dropping \"Gender\",\"Geography\" columns from dataset \n",
        "data_df.drop([\"Gender\",\"Geography\"],inplace=True,axis=1)\n",
        "\n",
        "print(data_df[\"Exited\"].value_counts()) # as we see the value counts for exited, the dataset is imbalanced\n",
        "print(data_df.columns)"
      ],
      "execution_count": 133,
      "outputs": [
        {
          "output_type": "stream",
          "text": [
            "      RowNumber  CustomerId    Surname  CreditScore Geography  Gender  Age  \\\n",
            "0             1    15634602   Hargrave          619    France  Female   42   \n",
            "1             2    15647311       Hill          608     Spain  Female   41   \n",
            "2             3    15619304       Onio          502    France  Female   42   \n",
            "3             4    15701354       Boni          699    France  Female   39   \n",
            "4             5    15737888   Mitchell          850     Spain  Female   43   \n",
            "...         ...         ...        ...          ...       ...     ...  ...   \n",
            "9995       9996    15606229   Obijiaku          771    France    Male   39   \n",
            "9996       9997    15569892  Johnstone          516    France    Male   35   \n",
            "9997       9998    15584532        Liu          709    France  Female   36   \n",
            "9998       9999    15682355  Sabbatini          772   Germany    Male   42   \n",
            "9999      10000    15628319     Walker          792    France  Female   28   \n",
            "\n",
            "      Tenure    Balance  NumOfProducts  HasCrCard  IsActiveMember  \\\n",
            "0          2       0.00              1          1               1   \n",
            "1          1   83807.86              1          0               1   \n",
            "2          8  159660.80              3          1               0   \n",
            "3          1       0.00              2          0               0   \n",
            "4          2  125510.82              1          1               1   \n",
            "...      ...        ...            ...        ...             ...   \n",
            "9995       5       0.00              2          1               0   \n",
            "9996      10   57369.61              1          1               1   \n",
            "9997       7       0.00              1          0               1   \n",
            "9998       3   75075.31              2          1               0   \n",
            "9999       4  130142.79              1          1               0   \n",
            "\n",
            "      EstimatedSalary  Exited  (France,)  (Germany,)  (Spain,)  (Female,)  \\\n",
            "0           101348.88       1        1.0         0.0       0.0        1.0   \n",
            "1           112542.58       0        0.0         0.0       1.0        1.0   \n",
            "2           113931.57       1        1.0         0.0       0.0        1.0   \n",
            "3            93826.63       0        1.0         0.0       0.0        1.0   \n",
            "4            79084.10       0        0.0         0.0       1.0        1.0   \n",
            "...               ...     ...        ...         ...       ...        ...   \n",
            "9995         96270.64       0        1.0         0.0       0.0        0.0   \n",
            "9996        101699.77       0        1.0         0.0       0.0        0.0   \n",
            "9997         42085.58       1        1.0         0.0       0.0        1.0   \n",
            "9998         92888.52       1        0.0         1.0       0.0        0.0   \n",
            "9999         38190.78       0        1.0         0.0       0.0        1.0   \n",
            "\n",
            "      (Male,)  \n",
            "0         0.0  \n",
            "1         0.0  \n",
            "2         0.0  \n",
            "3         0.0  \n",
            "4         0.0  \n",
            "...       ...  \n",
            "9995      1.0  \n",
            "9996      1.0  \n",
            "9997      0.0  \n",
            "9998      1.0  \n",
            "9999      0.0  \n",
            "\n",
            "[10000 rows x 19 columns]\n",
            "0    7963\n",
            "1    2037\n",
            "Name: Exited, dtype: int64\n",
            "Index([      'RowNumber',      'CustomerId',         'Surname',\n",
            "           'CreditScore',             'Age',          'Tenure',\n",
            "               'Balance',   'NumOfProducts',       'HasCrCard',\n",
            "        'IsActiveMember', 'EstimatedSalary',          'Exited',\n",
            "             ('France',),      ('Germany',),        ('Spain',),\n",
            "             ('Female',),         ('Male',)],\n",
            "      dtype='object')\n"
          ],
          "name": "stdout"
        }
      ]
    },
    {
      "cell_type": "code",
      "metadata": {
        "colab": {
          "base_uri": "https://localhost:8080/"
        },
        "id": "aK6EGbX5-O8d",
        "outputId": "a52406a1-f6cd-4018-f6a3-446aca664069"
      },
      "source": [
        "# defining the response variable and independent varaibles\n",
        "X=data_df.drop([\"Exited\",\"RowNumber\",  \"CustomerId\" ,  \"Surname\"],axis=1)\n",
        "y=data_df[\"Exited\"]\n",
        "print(X.head())\n",
        "print(y.head())"
      ],
      "execution_count": 134,
      "outputs": [
        {
          "output_type": "stream",
          "text": [
            "   CreditScore  Age  Tenure    Balance  NumOfProducts  HasCrCard  \\\n",
            "0          619   42       2       0.00              1          1   \n",
            "1          608   41       1   83807.86              1          0   \n",
            "2          502   42       8  159660.80              3          1   \n",
            "3          699   39       1       0.00              2          0   \n",
            "4          850   43       2  125510.82              1          1   \n",
            "\n",
            "   IsActiveMember  EstimatedSalary  (France,)  (Germany,)  (Spain,)  \\\n",
            "0               1        101348.88        1.0         0.0       0.0   \n",
            "1               1        112542.58        0.0         0.0       1.0   \n",
            "2               0        113931.57        1.0         0.0       0.0   \n",
            "3               0         93826.63        1.0         0.0       0.0   \n",
            "4               1         79084.10        0.0         0.0       1.0   \n",
            "\n",
            "   (Female,)  (Male,)  \n",
            "0        1.0      0.0  \n",
            "1        1.0      0.0  \n",
            "2        1.0      0.0  \n",
            "3        1.0      0.0  \n",
            "4        1.0      0.0  \n",
            "0    1\n",
            "1    0\n",
            "2    1\n",
            "3    0\n",
            "4    0\n",
            "Name: Exited, dtype: int64\n"
          ],
          "name": "stdout"
        }
      ]
    },
    {
      "cell_type": "code",
      "metadata": {
        "colab": {
          "base_uri": "https://localhost:8080/"
        },
        "id": "X0ueoHup-PJA",
        "outputId": "63f71941-6210-4fa4-d0a9-38ce9e963d4f"
      },
      "source": [
        "# performing train test split\n",
        "state=6\n",
        "X_train,X_test,y_train,y_test=train_test_split(X,y,test_size=.2,random_state=state,stratify=y)\n",
        "print(X_train.shape)\n",
        "print(X_test.shape)\n",
        "print(y_train.shape)\n",
        "print(y_test.shape)\n",
        "print(y_train.value_counts())\n",
        "print(y_test.value_counts())"
      ],
      "execution_count": 135,
      "outputs": [
        {
          "output_type": "stream",
          "text": [
            "(8000, 13)\n",
            "(2000, 13)\n",
            "(8000,)\n",
            "(2000,)\n",
            "0    6370\n",
            "1    1630\n",
            "Name: Exited, dtype: int64\n",
            "0    1593\n",
            "1     407\n",
            "Name: Exited, dtype: int64\n"
          ],
          "name": "stdout"
        }
      ]
    },
    {
      "cell_type": "code",
      "metadata": {
        "id": "ENRwotmoJR_S"
      },
      "source": [
        "# standardinse the data\n",
        "standard=StandardScaler()\n",
        "X_train=standard.fit_transform(X_train)\n",
        "X_test=standard.fit_transform(X_test)"
      ],
      "execution_count": 136,
      "outputs": []
    },
    {
      "cell_type": "code",
      "metadata": {
        "id": "IZwt23DDJkBF"
      },
      "source": [
        "# defining Depp neyral leyaers to rpedict churning \n",
        "\n",
        "# Usage in a Keras layer:\n",
        "\n",
        "model=Sequential()\n",
        "\n",
        "initializer = tf.keras.initializers.HeNormal()\n",
        "initializer_GlorotUniform = tf.keras.initializers.GlorotUniform()\n",
        "initializer_Hey_uniform = tf.keras.initializers.HeUniform()\n",
        "\n",
        "# creating first layer\n",
        "model.add(Dense(units=10,kernel_initializer=initializer,input_dim=X_train.shape[1],activation=\"relu\"))\n",
        "# creating second hidden layer\n",
        "model.add(Dense(units=15,kernel_initializer=initializer_Hey_uniform,activation=\"relu\"))\n",
        "model.add(Dense(units=25,kernel_initializer=initializer_Hey_uniform,activation=\"relu\"))\n",
        "# creating final output layer\n",
        "model.add(Dense(1,kernel_initializer=initializer_GlorotUniform,activation=\"sigmoid\"))"
      ],
      "execution_count": 147,
      "outputs": []
    },
    {
      "cell_type": "code",
      "metadata": {
        "id": "_HNx0CfEeewN",
        "outputId": "86a5d075-ba8c-440a-c137-c0a7ca4d8474",
        "colab": {
          "base_uri": "https://localhost:8080/"
        }
      },
      "source": [
        "# prinitng the differnt model layers\n",
        "print(model.summary())"
      ],
      "execution_count": 148,
      "outputs": [
        {
          "output_type": "stream",
          "text": [
            "Model: \"sequential_13\"\n",
            "_________________________________________________________________\n",
            "Layer (type)                 Output Shape              Param #   \n",
            "=================================================================\n",
            "dense_33 (Dense)             (None, 10)                140       \n",
            "_________________________________________________________________\n",
            "dense_34 (Dense)             (None, 15)                165       \n",
            "_________________________________________________________________\n",
            "dense_35 (Dense)             (None, 25)                400       \n",
            "_________________________________________________________________\n",
            "dense_36 (Dense)             (None, 1)                 26        \n",
            "=================================================================\n",
            "Total params: 731\n",
            "Trainable params: 731\n",
            "Non-trainable params: 0\n",
            "_________________________________________________________________\n",
            "None\n"
          ],
          "name": "stdout"
        }
      ]
    },
    {
      "cell_type": "code",
      "metadata": {
        "colab": {
          "base_uri": "https://localhost:8080/"
        },
        "id": "b3tCV5EmJo2b",
        "outputId": "7e4f22bc-eb3f-4330-c647-55d59c060996"
      },
      "source": [
        "model.compile(optimizer=\"Adam\",loss=\"binary_crossentropy\",metrics=[\"accuracy\"])\n",
        "fitted_model=model.fit(X_train,y_train,verbose=1,epochs=20,batch_size=100,validation_split=.1)\n"
      ],
      "execution_count": 149,
      "outputs": [
        {
          "output_type": "stream",
          "text": [
            "Epoch 1/20\n",
            "72/72 [==============================] - 0s 3ms/step - loss: 0.5595 - accuracy: 0.7515 - val_loss: 0.5139 - val_accuracy: 0.7862\n",
            "Epoch 2/20\n",
            "72/72 [==============================] - 0s 1ms/step - loss: 0.5056 - accuracy: 0.7944 - val_loss: 0.4918 - val_accuracy: 0.7987\n",
            "Epoch 3/20\n",
            "72/72 [==============================] - 0s 1ms/step - loss: 0.4826 - accuracy: 0.7968 - val_loss: 0.4889 - val_accuracy: 0.7875\n",
            "Epoch 4/20\n",
            "72/72 [==============================] - 0s 1ms/step - loss: 0.4626 - accuracy: 0.8010 - val_loss: 0.4673 - val_accuracy: 0.7975\n",
            "Epoch 5/20\n",
            "72/72 [==============================] - 0s 1ms/step - loss: 0.4460 - accuracy: 0.8079 - val_loss: 0.4571 - val_accuracy: 0.7925\n",
            "Epoch 6/20\n",
            "72/72 [==============================] - 0s 2ms/step - loss: 0.4345 - accuracy: 0.8093 - val_loss: 0.4488 - val_accuracy: 0.8012\n",
            "Epoch 7/20\n",
            "72/72 [==============================] - 0s 1ms/step - loss: 0.4243 - accuracy: 0.8144 - val_loss: 0.4378 - val_accuracy: 0.8025\n",
            "Epoch 8/20\n",
            "72/72 [==============================] - 0s 1ms/step - loss: 0.4147 - accuracy: 0.8192 - val_loss: 0.4299 - val_accuracy: 0.8050\n",
            "Epoch 9/20\n",
            "72/72 [==============================] - 0s 2ms/step - loss: 0.4057 - accuracy: 0.8228 - val_loss: 0.4186 - val_accuracy: 0.8112\n",
            "Epoch 10/20\n",
            "72/72 [==============================] - 0s 2ms/step - loss: 0.3970 - accuracy: 0.8279 - val_loss: 0.4118 - val_accuracy: 0.8138\n",
            "Epoch 11/20\n",
            "72/72 [==============================] - 0s 1ms/step - loss: 0.3879 - accuracy: 0.8336 - val_loss: 0.4017 - val_accuracy: 0.8238\n",
            "Epoch 12/20\n",
            "72/72 [==============================] - 0s 1ms/step - loss: 0.3789 - accuracy: 0.8417 - val_loss: 0.3924 - val_accuracy: 0.8300\n",
            "Epoch 13/20\n",
            "72/72 [==============================] - 0s 1ms/step - loss: 0.3715 - accuracy: 0.8442 - val_loss: 0.3894 - val_accuracy: 0.8175\n",
            "Epoch 14/20\n",
            "72/72 [==============================] - 0s 1ms/step - loss: 0.3651 - accuracy: 0.8486 - val_loss: 0.3793 - val_accuracy: 0.8238\n",
            "Epoch 15/20\n",
            "72/72 [==============================] - 0s 1ms/step - loss: 0.3597 - accuracy: 0.8518 - val_loss: 0.3740 - val_accuracy: 0.8275\n",
            "Epoch 16/20\n",
            "72/72 [==============================] - 0s 1ms/step - loss: 0.3550 - accuracy: 0.8539 - val_loss: 0.3676 - val_accuracy: 0.8363\n",
            "Epoch 17/20\n",
            "72/72 [==============================] - 0s 1ms/step - loss: 0.3516 - accuracy: 0.8569 - val_loss: 0.3632 - val_accuracy: 0.8388\n",
            "Epoch 18/20\n",
            "72/72 [==============================] - 0s 1ms/step - loss: 0.3489 - accuracy: 0.8571 - val_loss: 0.3609 - val_accuracy: 0.8413\n",
            "Epoch 19/20\n",
            "72/72 [==============================] - 0s 1ms/step - loss: 0.3459 - accuracy: 0.8608 - val_loss: 0.3564 - val_accuracy: 0.8475\n",
            "Epoch 20/20\n",
            "72/72 [==============================] - 0s 1ms/step - loss: 0.3438 - accuracy: 0.8628 - val_loss: 0.3539 - val_accuracy: 0.8450\n"
          ],
          "name": "stdout"
        }
      ]
    },
    {
      "cell_type": "code",
      "metadata": {
        "colab": {
          "base_uri": "https://localhost:8080/",
          "height": 402
        },
        "id": "vG0TEIApftnH",
        "outputId": "e0daa7ee-93c1-4337-8c2b-4383951a9c78"
      },
      "source": [
        "hist=fitted_model.history\n",
        "# print(hist)\n",
        "loss=hist[\"loss\"]\n",
        "accuracy=hist[\"accuracy\"]\n",
        "val_loss=hist[\"val_loss\"]\n",
        "val_accuracy=hist[\"val_accuracy\"]\n",
        "print(loss)\n",
        "print(accuracy)\n",
        "print(val_loss)\n",
        "print(val_accuracy)\n",
        "plt.figure(figsize=[20,20])\n",
        "fig,ax=plt.subplots(1,2)\n",
        "ax[0].plot(loss,label=\"training loss\",color=\"red\")\n",
        "ax[0].plot(val_loss,label=\"validation loss\",color=\"blue\")\n",
        "ax[0].legend()\n",
        "ax[0].set_xlabel(\"Number of epcohs\")\n",
        "ax[0].set_ylabel(\"Loss\")\n",
        "ax[0].set_title(\"Loss\")\n",
        "ax[1].plot(accuracy,label=\"accuracy\",color=\"red\")\n",
        "ax[1].plot(val_accuracy,label=\"val_accuracy\",color=\"blue\")\n",
        "ax[1].set_xlabel(\"Number of epcohs\")\n",
        "ax[1].set_ylabel(\"Accuracy\")\n",
        "ax[1].set_title(\"Accuracy\")\n",
        "plt.legend()\n",
        "plt.tight_layout()\n",
        "plt.show()"
      ],
      "execution_count": 161,
      "outputs": [
        {
          "output_type": "stream",
          "text": [
            "[0.5594552159309387, 0.5055599808692932, 0.4825834631919861, 0.4625866413116455, 0.44596409797668457, 0.43450653553009033, 0.4242628216743469, 0.4147007167339325, 0.4056777358055115, 0.3969849646091461, 0.3878695070743561, 0.37887048721313477, 0.3714725375175476, 0.36508601903915405, 0.35971298813819885, 0.3549669682979584, 0.35161712765693665, 0.34885090589523315, 0.3459492623806, 0.3438231647014618]\n",
            "[0.7515277862548828, 0.7944444417953491, 0.7968055605888367, 0.8009722232818604, 0.8079166412353516, 0.8093055486679077, 0.8144444227218628, 0.8191666603088379, 0.8227777481079102, 0.82791668176651, 0.8336111307144165, 0.8416666388511658, 0.8441666960716248, 0.8486111164093018, 0.851805567741394, 0.8538888692855835, 0.8569444417953491, 0.8570833206176758, 0.8608333468437195, 0.8627777695655823]\n",
            "[0.5138522982597351, 0.49176475405693054, 0.48891791701316833, 0.46728843450546265, 0.45712581276893616, 0.44881048798561096, 0.4378172755241394, 0.42994439601898193, 0.41857802867889404, 0.41181889176368713, 0.4017311930656433, 0.3923511207103729, 0.3894420862197876, 0.37930089235305786, 0.37404388189315796, 0.3676028549671173, 0.3631986379623413, 0.36085712909698486, 0.35635390877723694, 0.35385483503341675]\n",
            "[0.7862499952316284, 0.7987499833106995, 0.7875000238418579, 0.7975000143051147, 0.7925000190734863, 0.8012499809265137, 0.8025000095367432, 0.8050000071525574, 0.8112499713897705, 0.8137500286102295, 0.8237500190734863, 0.8299999833106995, 0.8174999952316284, 0.8237500190734863, 0.8274999856948853, 0.8362500071525574, 0.8387500047683716, 0.8412500023841858, 0.8475000262260437, 0.8450000286102295]\n"
          ],
          "name": "stdout"
        },
        {
          "output_type": "display_data",
          "data": {
            "text/plain": [
              "<Figure size 1440x1440 with 0 Axes>"
            ]
          },
          "metadata": {
            "tags": []
          }
        },
        {
          "output_type": "display_data",
          "data": {
            "image/png": "[encoded data removed]",
            "text/plain": [
              "<Figure size 432x288 with 2 Axes>"
            ]
          },
          "metadata": {
            "tags": [],
            "needs_background": "light"
          }
        }
      ]
    },
    {
      "cell_type": "code",
      "metadata": {
        "id": "vqFyKzBZxAmv",
        "outputId": "be9a443f-74c4-4992-ce9a-b2306d6945ae",
        "colab": {
          "base_uri": "https://localhost:8080/"
        }
      },
      "source": [
        "# predicting the values\n",
        "pred=model.predict(X_test)\n",
        "print(pred)\n",
        "pred=(pred>.5)\n",
        "print(pred)\n",
        " # buildign confustion matrix\n",
        "confusion_matrix_= confusion_matrix(y_test,pred)\n",
        "print(confusion_matrix_)\n",
        "\n",
        "print(classification_report(y_test,pred))\n"
      ],
      "execution_count": 163,
      "outputs": [
        {
          "output_type": "stream",
          "text": [
            "[[0.0133996 ]\n",
            " [0.24125478]\n",
            " [0.03096652]\n",
            " ...\n",
            " [0.10152364]\n",
            " [0.03883988]\n",
            " [0.01867279]]\n",
            "[[False]\n",
            " [False]\n",
            " [False]\n",
            " ...\n",
            " [False]\n",
            " [False]\n",
            " [False]]\n",
            "[[1521   72]\n",
            " [ 216  191]]\n",
            "              precision    recall  f1-score   support\n",
            "\n",
            "           0       0.88      0.95      0.91      1593\n",
            "           1       0.73      0.47      0.57       407\n",
            "\n",
            "    accuracy                           0.86      2000\n",
            "   macro avg       0.80      0.71      0.74      2000\n",
            "weighted avg       0.85      0.86      0.84      2000\n",
            "\n"
          ],
          "name": "stdout"
        }
      ]
    },
    {
      "cell_type": "markdown",
      "metadata": {
        "id": "qVfBNGCsw4et"
      },
      "source": [
        "Trying differnet model with differnt parameters epochs, batch size, differnt layers and differnt kernel_initailiser"
      ]
    },
    {
      "cell_type": "code",
      "metadata": {
        "id": "JEIqG5TmgeWS",
        "outputId": "f1b2fca2-f5df-446b-86ef-e98e5b7c01f0",
        "colab": {
          "base_uri": "https://localhost:8080/"
        }
      },
      "source": [
        "classifier = Sequential()\n",
        "\n",
        "# Adding the input layer and the first hidden layer\n",
        "classifier.add(Dense(units=  6, kernel_initializer = 'he_uniform',activation='relu',input_dim = 13))\n",
        "\n",
        "# Adding the second hidden layer\n",
        "classifier.add(Dense(units=6, kernel_initializer=  'he_uniform',activation='relu'))\n",
        "# Adding the output layer\n",
        "classifier.add(Dense(units= 1, kernel_initializer= 'glorot_uniform', activation = 'sigmoid'))\n",
        "\n",
        "# Compiling the ANN\n",
        "classifier.compile(optimizer = 'Adamax', loss = 'binary_crossentropy', metrics = ['accuracy'])\n",
        "\n",
        "# Fitting the ANN to the Training set\n",
        "model_history=classifier.fit(X_train, y_train,validation_split=0.33, batch_size = 10, epochs = 100)"
      ],
      "execution_count": 157,
      "outputs": [
        {
          "output_type": "stream",
          "text": [
            "Epoch 1/100\n",
            "536/536 [==============================] - 1s 1ms/step - loss: 0.6458 - accuracy: 0.6686 - val_loss: 0.5592 - val_accuracy: 0.7690\n",
            "Epoch 2/100\n",
            "536/536 [==============================] - 1s 1ms/step - loss: 0.5161 - accuracy: 0.7959 - val_loss: 0.5129 - val_accuracy: 0.7883\n",
            "Epoch 3/100\n",
            "536/536 [==============================] - 1s 1ms/step - loss: 0.4883 - accuracy: 0.7988 - val_loss: 0.4906 - val_accuracy: 0.7906\n",
            "Epoch 4/100\n",
            "536/536 [==============================] - 1s 1ms/step - loss: 0.4731 - accuracy: 0.8001 - val_loss: 0.4764 - val_accuracy: 0.7914\n",
            "Epoch 5/100\n",
            "536/536 [==============================] - 1s 1ms/step - loss: 0.4623 - accuracy: 0.8003 - val_loss: 0.4659 - val_accuracy: 0.7921\n",
            "Epoch 6/100\n",
            "536/536 [==============================] - 1s 1ms/step - loss: 0.4541 - accuracy: 0.8013 - val_loss: 0.4576 - val_accuracy: 0.7948\n",
            "Epoch 7/100\n",
            "536/536 [==============================] - 1s 1ms/step - loss: 0.4474 - accuracy: 0.8029 - val_loss: 0.4510 - val_accuracy: 0.7963\n",
            "Epoch 8/100\n",
            "536/536 [==============================] - 1s 1ms/step - loss: 0.4419 - accuracy: 0.8044 - val_loss: 0.4458 - val_accuracy: 0.7974\n",
            "Epoch 9/100\n",
            "536/536 [==============================] - 1s 1ms/step - loss: 0.4372 - accuracy: 0.8061 - val_loss: 0.4416 - val_accuracy: 0.7997\n",
            "Epoch 10/100\n",
            "536/536 [==============================] - 1s 1ms/step - loss: 0.4332 - accuracy: 0.8074 - val_loss: 0.4375 - val_accuracy: 0.8005\n",
            "Epoch 11/100\n",
            "536/536 [==============================] - 1s 1ms/step - loss: 0.4296 - accuracy: 0.8082 - val_loss: 0.4338 - val_accuracy: 0.8023\n",
            "Epoch 12/100\n",
            "536/536 [==============================] - 1s 1ms/step - loss: 0.4263 - accuracy: 0.8097 - val_loss: 0.4309 - val_accuracy: 0.8031\n",
            "Epoch 13/100\n",
            "536/536 [==============================] - 1s 1ms/step - loss: 0.4235 - accuracy: 0.8113 - val_loss: 0.4281 - val_accuracy: 0.8035\n",
            "Epoch 14/100\n",
            "536/536 [==============================] - 1s 1ms/step - loss: 0.4205 - accuracy: 0.8115 - val_loss: 0.4251 - val_accuracy: 0.8054\n",
            "Epoch 15/100\n",
            "536/536 [==============================] - 1s 1ms/step - loss: 0.4174 - accuracy: 0.8123 - val_loss: 0.4219 - val_accuracy: 0.8073\n",
            "Epoch 16/100\n",
            "536/536 [==============================] - 1s 1ms/step - loss: 0.4142 - accuracy: 0.8141 - val_loss: 0.4183 - val_accuracy: 0.8084\n",
            "Epoch 17/100\n",
            "536/536 [==============================] - 1s 1ms/step - loss: 0.4108 - accuracy: 0.8155 - val_loss: 0.4149 - val_accuracy: 0.8095\n",
            "Epoch 18/100\n",
            "536/536 [==============================] - 1s 1ms/step - loss: 0.4075 - accuracy: 0.8164 - val_loss: 0.4117 - val_accuracy: 0.8095\n",
            "Epoch 19/100\n",
            "536/536 [==============================] - 1s 1ms/step - loss: 0.4044 - accuracy: 0.8177 - val_loss: 0.4083 - val_accuracy: 0.8107\n",
            "Epoch 20/100\n",
            "536/536 [==============================] - 1s 1ms/step - loss: 0.4012 - accuracy: 0.8179 - val_loss: 0.4047 - val_accuracy: 0.8111\n",
            "Epoch 21/100\n",
            "536/536 [==============================] - 1s 1ms/step - loss: 0.3979 - accuracy: 0.8177 - val_loss: 0.4011 - val_accuracy: 0.8107\n",
            "Epoch 22/100\n",
            "536/536 [==============================] - 1s 1ms/step - loss: 0.3947 - accuracy: 0.8184 - val_loss: 0.3978 - val_accuracy: 0.8114\n",
            "Epoch 23/100\n",
            "536/536 [==============================] - 1s 1ms/step - loss: 0.3916 - accuracy: 0.8192 - val_loss: 0.3946 - val_accuracy: 0.8133\n",
            "Epoch 24/100\n",
            "536/536 [==============================] - 1s 1ms/step - loss: 0.3886 - accuracy: 0.8205 - val_loss: 0.3918 - val_accuracy: 0.8137\n",
            "Epoch 25/100\n",
            "536/536 [==============================] - 1s 1ms/step - loss: 0.3858 - accuracy: 0.8212 - val_loss: 0.3889 - val_accuracy: 0.8145\n",
            "Epoch 26/100\n",
            "536/536 [==============================] - 1s 1ms/step - loss: 0.3829 - accuracy: 0.8216 - val_loss: 0.3860 - val_accuracy: 0.8156\n",
            "Epoch 27/100\n",
            "536/536 [==============================] - 1s 1ms/step - loss: 0.3801 - accuracy: 0.8224 - val_loss: 0.3836 - val_accuracy: 0.8171\n",
            "Epoch 28/100\n",
            "536/536 [==============================] - 1s 1ms/step - loss: 0.3777 - accuracy: 0.8224 - val_loss: 0.3815 - val_accuracy: 0.8179\n",
            "Epoch 29/100\n",
            "536/536 [==============================] - 1s 1ms/step - loss: 0.3753 - accuracy: 0.8227 - val_loss: 0.3797 - val_accuracy: 0.8190\n",
            "Epoch 30/100\n",
            "536/536 [==============================] - 1s 1ms/step - loss: 0.3729 - accuracy: 0.8225 - val_loss: 0.3777 - val_accuracy: 0.8198\n",
            "Epoch 31/100\n",
            "536/536 [==============================] - 1s 1ms/step - loss: 0.3710 - accuracy: 0.8229 - val_loss: 0.3762 - val_accuracy: 0.8205\n",
            "Epoch 32/100\n",
            "536/536 [==============================] - 1s 1ms/step - loss: 0.3693 - accuracy: 0.8225 - val_loss: 0.3751 - val_accuracy: 0.8209\n",
            "Epoch 33/100\n",
            "536/536 [==============================] - 1s 1ms/step - loss: 0.3677 - accuracy: 0.8227 - val_loss: 0.3740 - val_accuracy: 0.8209\n",
            "Epoch 34/100\n",
            "536/536 [==============================] - 1s 1ms/step - loss: 0.3661 - accuracy: 0.8227 - val_loss: 0.3726 - val_accuracy: 0.8201\n",
            "Epoch 35/100\n",
            "536/536 [==============================] - 1s 1ms/step - loss: 0.3650 - accuracy: 0.8341 - val_loss: 0.3716 - val_accuracy: 0.8349\n",
            "Epoch 36/100\n",
            "536/536 [==============================] - 1s 1ms/step - loss: 0.3638 - accuracy: 0.8414 - val_loss: 0.3711 - val_accuracy: 0.8357\n",
            "Epoch 37/100\n",
            "536/536 [==============================] - 1s 1ms/step - loss: 0.3629 - accuracy: 0.8446 - val_loss: 0.3704 - val_accuracy: 0.8353\n",
            "Epoch 38/100\n",
            "536/536 [==============================] - 1s 1ms/step - loss: 0.3619 - accuracy: 0.8453 - val_loss: 0.3692 - val_accuracy: 0.8364\n",
            "Epoch 39/100\n",
            "536/536 [==============================] - 1s 1ms/step - loss: 0.3611 - accuracy: 0.8466 - val_loss: 0.3684 - val_accuracy: 0.8376\n",
            "Epoch 40/100\n",
            "536/536 [==============================] - 1s 1ms/step - loss: 0.3602 - accuracy: 0.8474 - val_loss: 0.3678 - val_accuracy: 0.8376\n",
            "Epoch 41/100\n",
            "536/536 [==============================] - 1s 1ms/step - loss: 0.3594 - accuracy: 0.8487 - val_loss: 0.3671 - val_accuracy: 0.8387\n",
            "Epoch 42/100\n",
            "536/536 [==============================] - 1s 1ms/step - loss: 0.3585 - accuracy: 0.8507 - val_loss: 0.3665 - val_accuracy: 0.8406\n",
            "Epoch 43/100\n",
            "536/536 [==============================] - 1s 1ms/step - loss: 0.3577 - accuracy: 0.8518 - val_loss: 0.3658 - val_accuracy: 0.8417\n",
            "Epoch 44/100\n",
            "536/536 [==============================] - 1s 1ms/step - loss: 0.3570 - accuracy: 0.8524 - val_loss: 0.3653 - val_accuracy: 0.8432\n",
            "Epoch 45/100\n",
            "536/536 [==============================] - 1s 1ms/step - loss: 0.3563 - accuracy: 0.8530 - val_loss: 0.3650 - val_accuracy: 0.8440\n",
            "Epoch 46/100\n",
            "536/536 [==============================] - 1s 1ms/step - loss: 0.3554 - accuracy: 0.8539 - val_loss: 0.3645 - val_accuracy: 0.8448\n",
            "Epoch 47/100\n",
            "536/536 [==============================] - 1s 1ms/step - loss: 0.3548 - accuracy: 0.8543 - val_loss: 0.3639 - val_accuracy: 0.8440\n",
            "Epoch 48/100\n",
            "536/536 [==============================] - 1s 1ms/step - loss: 0.3540 - accuracy: 0.8548 - val_loss: 0.3634 - val_accuracy: 0.8451\n",
            "Epoch 49/100\n",
            "536/536 [==============================] - 1s 1ms/step - loss: 0.3533 - accuracy: 0.8569 - val_loss: 0.3628 - val_accuracy: 0.8455\n",
            "Epoch 50/100\n",
            "536/536 [==============================] - 1s 1ms/step - loss: 0.3527 - accuracy: 0.8571 - val_loss: 0.3627 - val_accuracy: 0.8448\n",
            "Epoch 51/100\n",
            "536/536 [==============================] - 1s 1ms/step - loss: 0.3521 - accuracy: 0.8571 - val_loss: 0.3624 - val_accuracy: 0.8455\n",
            "Epoch 52/100\n",
            "536/536 [==============================] - 1s 1ms/step - loss: 0.3516 - accuracy: 0.8569 - val_loss: 0.3620 - val_accuracy: 0.8448\n",
            "Epoch 53/100\n",
            "536/536 [==============================] - 1s 1ms/step - loss: 0.3510 - accuracy: 0.8580 - val_loss: 0.3618 - val_accuracy: 0.8470\n",
            "Epoch 54/100\n",
            "536/536 [==============================] - 1s 1ms/step - loss: 0.3504 - accuracy: 0.8572 - val_loss: 0.3608 - val_accuracy: 0.8466\n",
            "Epoch 55/100\n",
            "536/536 [==============================] - 1s 1ms/step - loss: 0.3500 - accuracy: 0.8576 - val_loss: 0.3603 - val_accuracy: 0.8482\n",
            "Epoch 56/100\n",
            "536/536 [==============================] - 1s 1ms/step - loss: 0.3493 - accuracy: 0.8584 - val_loss: 0.3603 - val_accuracy: 0.8478\n",
            "Epoch 57/100\n",
            "536/536 [==============================] - 1s 1ms/step - loss: 0.3489 - accuracy: 0.8582 - val_loss: 0.3597 - val_accuracy: 0.8482\n",
            "Epoch 58/100\n",
            "536/536 [==============================] - 1s 1ms/step - loss: 0.3484 - accuracy: 0.8599 - val_loss: 0.3595 - val_accuracy: 0.8485\n",
            "Epoch 59/100\n",
            "536/536 [==============================] - 1s 1ms/step - loss: 0.3479 - accuracy: 0.8597 - val_loss: 0.3591 - val_accuracy: 0.8493\n",
            "Epoch 60/100\n",
            "536/536 [==============================] - 1s 1ms/step - loss: 0.3474 - accuracy: 0.8606 - val_loss: 0.3589 - val_accuracy: 0.8489\n",
            "Epoch 61/100\n",
            "536/536 [==============================] - 1s 1ms/step - loss: 0.3470 - accuracy: 0.8614 - val_loss: 0.3580 - val_accuracy: 0.8497\n",
            "Epoch 62/100\n",
            "536/536 [==============================] - 1s 1ms/step - loss: 0.3465 - accuracy: 0.8621 - val_loss: 0.3577 - val_accuracy: 0.8493\n",
            "Epoch 63/100\n",
            "536/536 [==============================] - 1s 1ms/step - loss: 0.3461 - accuracy: 0.8621 - val_loss: 0.3574 - val_accuracy: 0.8501\n",
            "Epoch 64/100\n",
            "536/536 [==============================] - 1s 1ms/step - loss: 0.3455 - accuracy: 0.8625 - val_loss: 0.3575 - val_accuracy: 0.8519\n",
            "Epoch 65/100\n",
            "536/536 [==============================] - 1s 1ms/step - loss: 0.3454 - accuracy: 0.8621 - val_loss: 0.3568 - val_accuracy: 0.8519\n",
            "Epoch 66/100\n",
            "536/536 [==============================] - 1s 1ms/step - loss: 0.3448 - accuracy: 0.8638 - val_loss: 0.3566 - val_accuracy: 0.8519\n",
            "Epoch 67/100\n",
            "536/536 [==============================] - 1s 1ms/step - loss: 0.3444 - accuracy: 0.8642 - val_loss: 0.3564 - val_accuracy: 0.8519\n",
            "Epoch 68/100\n",
            "536/536 [==============================] - 1s 1ms/step - loss: 0.3441 - accuracy: 0.8645 - val_loss: 0.3559 - val_accuracy: 0.8527\n",
            "Epoch 69/100\n",
            "536/536 [==============================] - 1s 1ms/step - loss: 0.3437 - accuracy: 0.8653 - val_loss: 0.3556 - val_accuracy: 0.8531\n",
            "Epoch 70/100\n",
            "536/536 [==============================] - 1s 1ms/step - loss: 0.3433 - accuracy: 0.8643 - val_loss: 0.3553 - val_accuracy: 0.8527\n",
            "Epoch 71/100\n",
            "536/536 [==============================] - 1s 1ms/step - loss: 0.3430 - accuracy: 0.8662 - val_loss: 0.3550 - val_accuracy: 0.8531\n",
            "Epoch 72/100\n",
            "536/536 [==============================] - 1s 1ms/step - loss: 0.3425 - accuracy: 0.8655 - val_loss: 0.3551 - val_accuracy: 0.8531\n",
            "Epoch 73/100\n",
            "536/536 [==============================] - 1s 1ms/step - loss: 0.3423 - accuracy: 0.8656 - val_loss: 0.3546 - val_accuracy: 0.8535\n",
            "Epoch 74/100\n",
            "536/536 [==============================] - 1s 1ms/step - loss: 0.3418 - accuracy: 0.8649 - val_loss: 0.3546 - val_accuracy: 0.8546\n",
            "Epoch 75/100\n",
            "536/536 [==============================] - 1s 1ms/step - loss: 0.3416 - accuracy: 0.8649 - val_loss: 0.3541 - val_accuracy: 0.8538\n",
            "Epoch 76/100\n",
            "536/536 [==============================] - 1s 1ms/step - loss: 0.3413 - accuracy: 0.8651 - val_loss: 0.3534 - val_accuracy: 0.8542\n",
            "Epoch 77/100\n",
            "536/536 [==============================] - 1s 1ms/step - loss: 0.3411 - accuracy: 0.8647 - val_loss: 0.3532 - val_accuracy: 0.8542\n",
            "Epoch 78/100\n",
            "536/536 [==============================] - 1s 1ms/step - loss: 0.3408 - accuracy: 0.8653 - val_loss: 0.3530 - val_accuracy: 0.8550\n",
            "Epoch 79/100\n",
            "536/536 [==============================] - 1s 1ms/step - loss: 0.3404 - accuracy: 0.8655 - val_loss: 0.3530 - val_accuracy: 0.8538\n",
            "Epoch 80/100\n",
            "536/536 [==============================] - 1s 1ms/step - loss: 0.3402 - accuracy: 0.8658 - val_loss: 0.3528 - val_accuracy: 0.8542\n",
            "Epoch 81/100\n",
            "536/536 [==============================] - 1s 1ms/step - loss: 0.3399 - accuracy: 0.8666 - val_loss: 0.3524 - val_accuracy: 0.8538\n",
            "Epoch 82/100\n",
            "536/536 [==============================] - 1s 1ms/step - loss: 0.3398 - accuracy: 0.8660 - val_loss: 0.3524 - val_accuracy: 0.8542\n",
            "Epoch 83/100\n",
            "536/536 [==============================] - 1s 1ms/step - loss: 0.3395 - accuracy: 0.8660 - val_loss: 0.3524 - val_accuracy: 0.8546\n",
            "Epoch 84/100\n",
            "536/536 [==============================] - 1s 1ms/step - loss: 0.3393 - accuracy: 0.8660 - val_loss: 0.3521 - val_accuracy: 0.8535\n",
            "Epoch 85/100\n",
            "536/536 [==============================] - 1s 1ms/step - loss: 0.3392 - accuracy: 0.8658 - val_loss: 0.3523 - val_accuracy: 0.8542\n",
            "Epoch 86/100\n",
            "536/536 [==============================] - 1s 1ms/step - loss: 0.3390 - accuracy: 0.8666 - val_loss: 0.3519 - val_accuracy: 0.8535\n",
            "Epoch 87/100\n",
            "536/536 [==============================] - 1s 1ms/step - loss: 0.3388 - accuracy: 0.8673 - val_loss: 0.3516 - val_accuracy: 0.8535\n",
            "Epoch 88/100\n",
            "536/536 [==============================] - 1s 1ms/step - loss: 0.3386 - accuracy: 0.8675 - val_loss: 0.3515 - val_accuracy: 0.8546\n",
            "Epoch 89/100\n",
            "536/536 [==============================] - 1s 1ms/step - loss: 0.3383 - accuracy: 0.8675 - val_loss: 0.3514 - val_accuracy: 0.8546\n",
            "Epoch 90/100\n",
            "536/536 [==============================] - 1s 1ms/step - loss: 0.3382 - accuracy: 0.8668 - val_loss: 0.3515 - val_accuracy: 0.8542\n",
            "Epoch 91/100\n",
            "536/536 [==============================] - 1s 1ms/step - loss: 0.3379 - accuracy: 0.8675 - val_loss: 0.3511 - val_accuracy: 0.8557\n",
            "Epoch 92/100\n",
            "536/536 [==============================] - 1s 1ms/step - loss: 0.3378 - accuracy: 0.8675 - val_loss: 0.3516 - val_accuracy: 0.8550\n",
            "Epoch 93/100\n",
            "536/536 [==============================] - 1s 1ms/step - loss: 0.3376 - accuracy: 0.8670 - val_loss: 0.3510 - val_accuracy: 0.8542\n",
            "Epoch 94/100\n",
            "536/536 [==============================] - 1s 1ms/step - loss: 0.3375 - accuracy: 0.8662 - val_loss: 0.3510 - val_accuracy: 0.8550\n",
            "Epoch 95/100\n",
            "536/536 [==============================] - 1s 1ms/step - loss: 0.3372 - accuracy: 0.8673 - val_loss: 0.3507 - val_accuracy: 0.8550\n",
            "Epoch 96/100\n",
            "536/536 [==============================] - 1s 1ms/step - loss: 0.3371 - accuracy: 0.8666 - val_loss: 0.3507 - val_accuracy: 0.8550\n",
            "Epoch 97/100\n",
            "536/536 [==============================] - 1s 1ms/step - loss: 0.3368 - accuracy: 0.8675 - val_loss: 0.3504 - val_accuracy: 0.8561\n",
            "Epoch 98/100\n",
            "536/536 [==============================] - 1s 1ms/step - loss: 0.3368 - accuracy: 0.8673 - val_loss: 0.3502 - val_accuracy: 0.8569\n",
            "Epoch 99/100\n",
            "536/536 [==============================] - 1s 1ms/step - loss: 0.3367 - accuracy: 0.8664 - val_loss: 0.3504 - val_accuracy: 0.8554\n",
            "Epoch 100/100\n",
            "536/536 [==============================] - 1s 1ms/step - loss: 0.3364 - accuracy: 0.8673 - val_loss: 0.3503 - val_accuracy: 0.8569\n"
          ],
          "name": "stdout"
        }
      ]
    },
    {
      "cell_type": "code",
      "metadata": {
        "id": "WbNq7RLruzmd",
        "outputId": "62ade357-8b1f-4013-f1e7-c7b9d1d3f8d5",
        "colab": {
          "base_uri": "https://localhost:8080/",
          "height": 402
        }
      },
      "source": [
        "hist=model_history.history\n",
        "# print(hist)\n",
        "loss=hist[\"loss\"]\n",
        "accuracy=hist[\"accuracy\"]\n",
        "val_loss=hist[\"val_loss\"]\n",
        "val_accuracy=hist[\"val_accuracy\"]\n",
        "print(loss)\n",
        "print(accuracy)\n",
        "print(val_loss)\n",
        "print(val_accuracy)\n",
        "plt.figure(figsize=[20,20])\n",
        "fig,ax=plt.subplots(1,2)\n",
        "ax[0].plot(loss,label=\"training loss\",color=\"red\")\n",
        "ax[0].plot(val_loss,label=\"validation loss\",color=\"blue\")\n",
        "ax[0].legend()\n",
        "ax[0].set_xlabel(\"Number of epcohs\")\n",
        "ax[1].plot(accuracy,label=\"accuracy\",color=\"red\")\n",
        "ax[1].plot(val_accuracy,label=\"val_accuracy\",color=\"blue\")\n",
        "ax[1].set_xlabel(\"Number of epcohs\")\n",
        "plt.legend()\n",
        "plt.tight_layout()\n",
        "plt.show()"
      ],
      "execution_count": 158,
      "outputs": [
        {
          "output_type": "stream",
          "text": [
            "[0.6457929015159607, 0.5161489248275757, 0.48831459879875183, 0.47305238246917725, 0.46228697896003723, 0.4540683925151825, 0.44743838906288147, 0.44194453954696655, 0.43721914291381836, 0.4331744313240051, 0.4295680820941925, 0.4263451099395752, 0.42345911264419556, 0.4205370843410492, 0.41740238666534424, 0.4141574501991272, 0.41076070070266724, 0.40753182768821716, 0.40444064140319824, 0.4011843800544739, 0.39793860912323, 0.39472508430480957, 0.391585111618042, 0.38863807916641235, 0.38578659296035767, 0.3829042613506317, 0.3801136314868927, 0.37768036127090454, 0.3753403425216675, 0.372882217168808, 0.3710445165634155, 0.36926403641700745, 0.3676932156085968, 0.366121768951416, 0.36495763063430786, 0.36375692486763, 0.36288148164749146, 0.36192357540130615, 0.36108332872390747, 0.36022576689720154, 0.3593842089176178, 0.358499139547348, 0.3577440679073334, 0.3569636046886444, 0.35627105832099915, 0.35544487833976746, 0.3548494279384613, 0.35399818420410156, 0.35326912999153137, 0.35266128182411194, 0.35206401348114014, 0.3515872657299042, 0.3510170876979828, 0.35038647055625916, 0.34998130798339844, 0.34932753443717957, 0.34885114431381226, 0.34840312600135803, 0.34788447618484497, 0.34736740589141846, 0.3469671607017517, 0.34653162956237793, 0.3460835814476013, 0.3455013036727905, 0.3453618884086609, 0.3448449373245239, 0.3444381058216095, 0.3440576195716858, 0.3437386155128479, 0.34332841634750366, 0.343036949634552, 0.3424752354621887, 0.34228625893592834, 0.3417973220348358, 0.3416357934474945, 0.3413148522377014, 0.3410643935203552, 0.34078097343444824, 0.34042105078697205, 0.34015533328056335, 0.33994776010513306, 0.3398398458957672, 0.33952242136001587, 0.3393121361732483, 0.3391525149345398, 0.33896178007125854, 0.33875253796577454, 0.3385924696922302, 0.3383045792579651, 0.33817964792251587, 0.33794254064559937, 0.3377721905708313, 0.3375866115093231, 0.3375130891799927, 0.3371562957763672, 0.33707955479621887, 0.3368399739265442, 0.3368335962295532, 0.33667296171188354, 0.3364086151123047]\n",
            "[0.6685948967933655, 0.7958574295043945, 0.7988430857658386, 0.8001492619514465, 0.8003358840942383, 0.8012688755989075, 0.8029482960700989, 0.8044411540031433, 0.8061205744743347, 0.8074267506599426, 0.8081731796264648, 0.8096659779548645, 0.8113453984260559, 0.8115320205688477, 0.8122783899307251, 0.8141444325447083, 0.8154506683349609, 0.8163836598396301, 0.8176898956298828, 0.8178764581680298, 0.8176898956298828, 0.8184362649917603, 0.8191826939582825, 0.8204888701438904, 0.8212352991104126, 0.8216084837913513, 0.8223549127578735, 0.8223549127578735, 0.8227280974388123, 0.8225415349006653, 0.822914719581604, 0.8225415349006653, 0.8227280974388123, 0.8227280974388123, 0.8341108560562134, 0.8413883447647095, 0.8445605635643005, 0.845306932926178, 0.8466131687164307, 0.8473595976829529, 0.8486657738685608, 0.8507184386253357, 0.8518380522727966, 0.8523978590965271, 0.8529576659202576, 0.8538906574249268, 0.8542638421058655, 0.854823648929596, 0.8568762540817261, 0.8570628762245178, 0.8570628762245178, 0.8568762540817261, 0.857995867729187, 0.8572494983673096, 0.8576226830482483, 0.8583691120147705, 0.8581824898719788, 0.8598619103431702, 0.8596752882003784, 0.8606083393096924, 0.8613547086715698, 0.862101137638092, 0.862101137638092, 0.8624743223190308, 0.862101137638092, 0.8637805581092834, 0.8641537427902222, 0.8645269870758057, 0.8652733564376831, 0.8643403649330139, 0.8662064075469971, 0.8654599785804749, 0.8656466007232666, 0.8649001717567444, 0.8649001717567444, 0.8650867938995361, 0.8647135496139526, 0.8652733564376831, 0.8654599785804749, 0.8658331632614136, 0.8665795922279358, 0.8660197854042053, 0.8660197854042053, 0.8660197854042053, 0.8658331632614136, 0.8665795922279358, 0.867326021194458, 0.867512583732605, 0.867512583732605, 0.8667662143707275, 0.867512583732605, 0.867512583732605, 0.8669527769088745, 0.8662064075469971, 0.867326021194458, 0.8665795922279358, 0.867512583732605, 0.867326021194458, 0.866392970085144, 0.867326021194458]\n",
            "[0.5592358708381653, 0.5128862857818604, 0.4905867278575897, 0.4764057993888855, 0.46589499711990356, 0.4576312005519867, 0.45103389024734497, 0.44577571749687195, 0.44155174493789673, 0.4375247359275818, 0.43384242057800293, 0.43094420433044434, 0.42805907130241394, 0.4251282215118408, 0.42187777161598206, 0.41830989718437195, 0.41488218307495117, 0.4117267429828644, 0.40830716490745544, 0.404703289270401, 0.4010769724845886, 0.39780089259147644, 0.39461714029312134, 0.3918389081954956, 0.38892409205436707, 0.38596588373184204, 0.3836042881011963, 0.3815283477306366, 0.379653662443161, 0.3776853680610657, 0.3761894106864929, 0.3750564455986023, 0.37399426102638245, 0.3725668787956238, 0.3715646266937256, 0.3710562288761139, 0.370366632938385, 0.369223028421402, 0.3683558404445648, 0.3677579164505005, 0.36705756187438965, 0.3664737343788147, 0.3658280372619629, 0.36527711153030396, 0.3649745583534241, 0.3644971251487732, 0.36390992999076843, 0.3633878231048584, 0.36277487874031067, 0.3627421259880066, 0.3624034523963928, 0.3619530200958252, 0.36175650358200073, 0.36079636216163635, 0.3603042662143707, 0.36026546359062195, 0.35969778895378113, 0.3595164120197296, 0.35913974046707153, 0.35893625020980835, 0.35800278186798096, 0.35770297050476074, 0.3573880195617676, 0.3575454354286194, 0.35684534907341003, 0.3566037714481354, 0.35635998845100403, 0.3558785617351532, 0.35563865303993225, 0.355329304933548, 0.35504135489463806, 0.3550928235054016, 0.3546259105205536, 0.3545975685119629, 0.35412243008613586, 0.3534184694290161, 0.3532164692878723, 0.3529857397079468, 0.3529975414276123, 0.35284456610679626, 0.3524285554885864, 0.3524460792541504, 0.3524065911769867, 0.35206565260887146, 0.3522513210773468, 0.35194939374923706, 0.3516066074371338, 0.35154783725738525, 0.3513982892036438, 0.3515131175518036, 0.35110312700271606, 0.35155513882637024, 0.3509542644023895, 0.3510035574436188, 0.3506564795970917, 0.35073503851890564, 0.3503963351249695, 0.35015976428985596, 0.3503502309322357, 0.35027647018432617]\n",
            "[0.7690268754959106, 0.788337767124176, 0.79060959815979, 0.7913669347763062, 0.7921242117881775, 0.7947747111320496, 0.7962892651557922, 0.7974252104759216, 0.7996971011161804, 0.8004543781280518, 0.8023476004600525, 0.8031048774719238, 0.8034835457801819, 0.8053767681121826, 0.8072699904441833, 0.8084059357643127, 0.8095418214797974, 0.8095418214797974, 0.8106777667999268, 0.8110564351081848, 0.8106777667999268, 0.8114350438117981, 0.8133282661437988, 0.8137069344520569, 0.8144642114639282, 0.8156001567840576, 0.8171147108078003, 0.8178720474243164, 0.819007933139801, 0.8197652697563171, 0.8205225467681885, 0.8209011554718018, 0.8209011554718018, 0.8201438784599304, 0.8349109888076782, 0.8356683254241943, 0.8352896571159363, 0.8364256024360657, 0.8375615477561951, 0.8375615477561951, 0.8386974334716797, 0.8405906558036804, 0.8417266011238098, 0.8432412147521973, 0.8439984917640686, 0.8447557687759399, 0.8439984917640686, 0.845134437084198, 0.8455130457878113, 0.8447557687759399, 0.8455130457878113, 0.8447557687759399, 0.8470276594161987, 0.8466489911079407, 0.8481635451316833, 0.8477849364280701, 0.8481635451316833, 0.8485422134399414, 0.8492994904518127, 0.8489208817481995, 0.8496781587600708, 0.8492994904518127, 0.8500567674636841, 0.8519499897956848, 0.8519499897956848, 0.8519499897956848, 0.8519499897956848, 0.8527073264122009, 0.8530859351158142, 0.8527073264122009, 0.8530859351158142, 0.8530859351158142, 0.8534646034240723, 0.8546005487442017, 0.8538432121276855, 0.8542218804359436, 0.8542218804359436, 0.8549791574478149, 0.8538432121276855, 0.8542218804359436, 0.8538432121276855, 0.8542218804359436, 0.8546005487442017, 0.8534646034240723, 0.8542218804359436, 0.8534646034240723, 0.8534646034240723, 0.8546005487442017, 0.8546005487442017, 0.8542218804359436, 0.8557364344596863, 0.8549791574478149, 0.8542218804359436, 0.8549791574478149, 0.8549791574478149, 0.8549791574478149, 0.8561151027679443, 0.8568723797798157, 0.855357825756073, 0.8568723797798157]\n"
          ],
          "name": "stdout"
        },
        {
          "output_type": "display_data",
          "data": {
            "text/plain": [
              "<Figure size 1440x1440 with 0 Axes>"
            ]
          },
          "metadata": {
            "tags": []
          }
        },
        {
          "output_type": "display_data",
          "data": {
            "image/png": "[encoded data removed]",
            "text/plain": [
              "<Figure size 432x288 with 2 Axes>"
            ]
          },
          "metadata": {
            "tags": [],
            "needs_background": "light"
          }
        }
      ]
    },
    {
      "cell_type": "code",
      "metadata": {
        "id": "sni9r0Clx2Nv",
        "outputId": "fff4043a-b533-4dea-d37d-65111aaffb05",
        "colab": {
          "base_uri": "https://localhost:8080/"
        }
      },
      "source": [
        "# predicting the values\n",
        "pred=classifier.predict(X_test)\n",
        "print(pred)\n",
        "pred=(pred>.5)\n",
        "print(pred)\n",
        " # buildign confustion matrix\n",
        "confusion_matrix_= confusion_matrix(y_test,pred)\n",
        "print(confusion_matrix_)\n",
        "\n",
        "print(classification_report(y_test,pred))"
      ],
      "execution_count": 164,
      "outputs": [
        {
          "output_type": "stream",
          "text": [
            "[[0.00701559]\n",
            " [0.29978997]\n",
            " [0.0177955 ]\n",
            " ...\n",
            " [0.084353  ]\n",
            " [0.00752565]\n",
            " [0.00143555]]\n",
            "[[False]\n",
            " [False]\n",
            " [False]\n",
            " ...\n",
            " [False]\n",
            " [False]\n",
            " [False]]\n",
            "[[1524   69]\n",
            " [ 228  179]]\n",
            "              precision    recall  f1-score   support\n",
            "\n",
            "           0       0.87      0.96      0.91      1593\n",
            "           1       0.72      0.44      0.55       407\n",
            "\n",
            "    accuracy                           0.85      2000\n",
            "   macro avg       0.80      0.70      0.73      2000\n",
            "weighted avg       0.84      0.85      0.84      2000\n",
            "\n"
          ],
          "name": "stdout"
        }
      ]
    },
    {
      "cell_type": "markdown",
      "metadata": {
        "id": "lODb43-HyG1r"
      },
      "source": [
        "Building a model with Dropout layer"
      ]
    },
    {
      "cell_type": "code",
      "metadata": {
        "id": "-m5WWf4nyFvC"
      },
      "source": [
        "# defining Depp neyral leyaers to rpedict churning \n",
        "\n",
        "# Usage in a Keras layer:\n",
        "\n",
        "model_drop=Sequential()\n",
        "\n",
        "initializer = tf.keras.initializers.HeNormal()\n",
        "initializer_GlorotUniform = tf.keras.initializers.GlorotUniform()\n",
        "initializer_Hey_uniform = tf.keras.initializers.HeUniform()\n",
        "\n",
        "# creating first layer\n",
        "model_drop.add(Dense(units=10,kernel_initializer=initializer,input_dim=X_train.shape[1],activation=\"relu\"))\n",
        "model_drop.add(Dropout(.2))\n",
        "# creating second hidden layer\n",
        "model_drop.add(Dense(units=15,kernel_initializer=initializer_Hey_uniform,activation=\"relu\"))\n",
        "model_drop.add(Dropout(.1))\n",
        "# creating thired hidden layer\n",
        "model_drop.add(Dense(units=25,kernel_initializer=initializer_Hey_uniform,activation=\"relu\"))\n",
        "model_drop.add(Dropout(.3))\n",
        "# creating final output layer\n",
        "model_drop.add(Dense(1,kernel_initializer=initializer_GlorotUniform,activation=\"sigmoid\"))"
      ],
      "execution_count": 165,
      "outputs": []
    },
    {
      "cell_type": "code",
      "metadata": {
        "id": "BxEXHdErymA9"
      },
      "source": [
        ""
      ],
      "execution_count": null,
      "outputs": []
    },
    {
      "cell_type": "code",
      "metadata": {
        "colab": {
          "base_uri": "https://localhost:8080/"
        },
        "id": "cZDTHZgGymbD",
        "outputId": "2421fed2-19e5-4427-af40-9500dc5cdac3"
      },
      "source": [
        "model_drop.compile(optimizer=\"Adam\",loss=\"binary_crossentropy\",metrics=[\"accuracy\"])\n",
        "fitted_model_drop=model_drop.fit(X_train,y_train,verbose=1,epochs=20,batch_size=100,validation_split=.1)\n"
      ],
      "execution_count": 166,
      "outputs": [
        {
          "output_type": "stream",
          "text": [
            "Epoch 1/20\n",
            "72/72 [==============================] - 0s 3ms/step - loss: 0.6591 - accuracy: 0.7342 - val_loss: 0.5446 - val_accuracy: 0.7975\n",
            "Epoch 2/20\n",
            "72/72 [==============================] - 0s 1ms/step - loss: 0.5721 - accuracy: 0.7765 - val_loss: 0.5156 - val_accuracy: 0.7975\n",
            "Epoch 3/20\n",
            "72/72 [==============================] - 0s 1ms/step - loss: 0.5405 - accuracy: 0.7881 - val_loss: 0.4954 - val_accuracy: 0.7975\n",
            "Epoch 4/20\n",
            "72/72 [==============================] - 0s 1ms/step - loss: 0.5151 - accuracy: 0.7949 - val_loss: 0.4806 - val_accuracy: 0.7975\n",
            "Epoch 5/20\n",
            "72/72 [==============================] - 0s 1ms/step - loss: 0.5008 - accuracy: 0.7965 - val_loss: 0.4712 - val_accuracy: 0.7975\n",
            "Epoch 6/20\n",
            "72/72 [==============================] - 0s 1ms/step - loss: 0.4863 - accuracy: 0.7969 - val_loss: 0.4606 - val_accuracy: 0.8000\n",
            "Epoch 7/20\n",
            "72/72 [==============================] - 0s 1ms/step - loss: 0.4762 - accuracy: 0.7993 - val_loss: 0.4508 - val_accuracy: 0.8000\n",
            "Epoch 8/20\n",
            "72/72 [==============================] - 0s 1ms/step - loss: 0.4739 - accuracy: 0.8028 - val_loss: 0.4445 - val_accuracy: 0.8025\n",
            "Epoch 9/20\n",
            "72/72 [==============================] - 0s 1ms/step - loss: 0.4622 - accuracy: 0.8067 - val_loss: 0.4372 - val_accuracy: 0.8012\n",
            "Epoch 10/20\n",
            "72/72 [==============================] - 0s 1ms/step - loss: 0.4566 - accuracy: 0.8106 - val_loss: 0.4308 - val_accuracy: 0.8100\n",
            "Epoch 11/20\n",
            "72/72 [==============================] - 0s 1ms/step - loss: 0.4489 - accuracy: 0.8142 - val_loss: 0.4240 - val_accuracy: 0.8125\n",
            "Epoch 12/20\n",
            "72/72 [==============================] - 0s 1ms/step - loss: 0.4426 - accuracy: 0.8104 - val_loss: 0.4188 - val_accuracy: 0.8150\n",
            "Epoch 13/20\n",
            "72/72 [==============================] - 0s 2ms/step - loss: 0.4342 - accuracy: 0.8182 - val_loss: 0.4122 - val_accuracy: 0.8163\n",
            "Epoch 14/20\n",
            "72/72 [==============================] - 0s 1ms/step - loss: 0.4335 - accuracy: 0.8171 - val_loss: 0.4075 - val_accuracy: 0.8150\n",
            "Epoch 15/20\n",
            "72/72 [==============================] - 0s 1ms/step - loss: 0.4321 - accuracy: 0.8193 - val_loss: 0.4036 - val_accuracy: 0.8213\n",
            "Epoch 16/20\n",
            "72/72 [==============================] - 0s 1ms/step - loss: 0.4324 - accuracy: 0.8232 - val_loss: 0.3987 - val_accuracy: 0.8200\n",
            "Epoch 17/20\n",
            "72/72 [==============================] - 0s 1ms/step - loss: 0.4277 - accuracy: 0.8235 - val_loss: 0.3948 - val_accuracy: 0.8275\n",
            "Epoch 18/20\n",
            "72/72 [==============================] - 0s 1ms/step - loss: 0.4213 - accuracy: 0.8233 - val_loss: 0.3926 - val_accuracy: 0.8263\n",
            "Epoch 19/20\n",
            "72/72 [==============================] - 0s 1ms/step - loss: 0.4161 - accuracy: 0.8269 - val_loss: 0.3896 - val_accuracy: 0.8300\n",
            "Epoch 20/20\n",
            "72/72 [==============================] - 0s 1ms/step - loss: 0.4188 - accuracy: 0.8219 - val_loss: 0.3847 - val_accuracy: 0.8338\n"
          ],
          "name": "stdout"
        }
      ]
    },
    {
      "cell_type": "code",
      "metadata": {
        "colab": {
          "base_uri": "https://localhost:8080/",
          "height": 402
        },
        "id": "uE8DIdsuymbE",
        "outputId": "3480482b-efbc-48f6-ae5f-a794cf22151c"
      },
      "source": [
        "hist=fitted_model_drop.history\n",
        "# print(hist)\n",
        "loss=hist[\"loss\"]\n",
        "accuracy=hist[\"accuracy\"]\n",
        "val_loss=hist[\"val_loss\"]\n",
        "val_accuracy=hist[\"val_accuracy\"]\n",
        "print(loss)\n",
        "print(accuracy)\n",
        "print(val_loss)\n",
        "print(val_accuracy)\n",
        "plt.figure(figsize=[20,20])\n",
        "fig,ax=plt.subplots(1,2)\n",
        "ax[0].plot(loss,label=\"training loss\",color=\"red\")\n",
        "ax[0].plot(val_loss,label=\"validation loss\",color=\"blue\")\n",
        "ax[0].legend()\n",
        "ax[0].set_xlabel(\"Number of epcohs\")\n",
        "ax[0].set_ylabel(\"Loss\")\n",
        "ax[0].set_title(\"Loss\")\n",
        "ax[1].plot(accuracy,label=\"Training accuracy\",color=\"red\")\n",
        "ax[1].plot(val_accuracy,label=\"Validation_accuracy\",color=\"blue\")\n",
        "ax[1].set_xlabel(\"Number of epcohs\")\n",
        "ax[1].set_ylabel(\"Accuracy\")\n",
        "ax[1].set_title(\"Accuracy\")\n",
        "plt.legend(loc=\"upper left\")\n",
        "plt.tight_layout()\n",
        "plt.show()"
      ],
      "execution_count": 170,
      "outputs": [
        {
          "output_type": "stream",
          "text": [
            "[0.6591492891311646, 0.5720769762992859, 0.5404650568962097, 0.5150587558746338, 0.5007810592651367, 0.48625701665878296, 0.4761866331100464, 0.4738765358924866, 0.4621947109699249, 0.4565514922142029, 0.4489287734031677, 0.4426247775554657, 0.4341557025909424, 0.4335085153579712, 0.4320589601993561, 0.4324113726615906, 0.4277244806289673, 0.42134812474250793, 0.41606763005256653, 0.4187781512737274]\n",
            "[0.73416668176651, 0.7765277624130249, 0.7880555391311646, 0.7948611378669739, 0.7965278029441833, 0.7969444394111633, 0.7993055582046509, 0.8027777671813965, 0.8066666722297668, 0.8105555772781372, 0.8141666650772095, 0.8104166388511658, 0.8181944489479065, 0.8170833587646484, 0.8193055391311646, 0.8231944441795349, 0.8234722018241882, 0.8233333230018616, 0.8269444704055786, 0.8219444155693054]\n",
            "[0.5445550680160522, 0.5156088471412659, 0.49535027146339417, 0.4806070327758789, 0.47120070457458496, 0.4605981409549713, 0.45080146193504333, 0.4445081651210785, 0.4372490346431732, 0.4307715594768524, 0.42396631836891174, 0.4187964200973511, 0.4122232496738434, 0.4074881374835968, 0.4036237597465515, 0.3987162411212921, 0.3947921693325043, 0.39257606863975525, 0.38955754041671753, 0.3847094774246216]\n",
            "[0.7975000143051147, 0.7975000143051147, 0.7975000143051147, 0.7975000143051147, 0.7975000143051147, 0.800000011920929, 0.800000011920929, 0.8025000095367432, 0.8012499809265137, 0.8100000023841858, 0.8125, 0.8149999976158142, 0.8162500262260437, 0.8149999976158142, 0.8212500214576721, 0.8199999928474426, 0.8274999856948853, 0.8262500166893005, 0.8299999833106995, 0.8337500095367432]\n"
          ],
          "name": "stdout"
        },
        {
          "output_type": "display_data",
          "data": {
            "text/plain": [
              "<Figure size 1440x1440 with 0 Axes>"
            ]
          },
          "metadata": {
            "tags": []
          }
        },
        {
          "output_type": "display_data",
          "data": {
            "image/png": "[encoded data removed]",
            "text/plain": [
              "<Figure size 432x288 with 2 Axes>"
            ]
          },
          "metadata": {
            "tags": [],
            "needs_background": "light"
          }
        }
      ]
    },
    {
      "cell_type": "code",
      "metadata": {
        "id": "hAHBklUqzB5b",
        "outputId": "111c4fc8-a9eb-4c05-9683-2469729fadf8",
        "colab": {
          "base_uri": "https://localhost:8080/"
        }
      },
      "source": [
        "# predicting the values\n",
        "pred=model_drop.predict(X_test)\n",
        "print(pred)\n",
        "pred=(pred>.5)\n",
        "print(pred)\n",
        " # buildign confustion matrix\n",
        "confusion_matrix_= confusion_matrix(y_test,pred)\n",
        "print(confusion_matrix_)\n",
        "\n",
        "print(classification_report(y_test,pred))"
      ],
      "execution_count": 172,
      "outputs": [
        {
          "output_type": "stream",
          "text": [
            "[[0.04017556]\n",
            " [0.40188512]\n",
            " [0.02190962]\n",
            " ...\n",
            " [0.14457196]\n",
            " [0.07103437]\n",
            " [0.0715515 ]]\n",
            "[[False]\n",
            " [False]\n",
            " [False]\n",
            " ...\n",
            " [False]\n",
            " [False]\n",
            " [False]]\n",
            "[[1566   27]\n",
            " [ 275  132]]\n",
            "              precision    recall  f1-score   support\n",
            "\n",
            "           0       0.85      0.98      0.91      1593\n",
            "           1       0.83      0.32      0.47       407\n",
            "\n",
            "    accuracy                           0.85      2000\n",
            "   macro avg       0.84      0.65      0.69      2000\n",
            "weighted avg       0.85      0.85      0.82      2000\n",
            "\n"
          ],
          "name": "stdout"
        }
      ]
    }
  ]
}