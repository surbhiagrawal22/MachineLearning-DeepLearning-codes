{
  "nbformat": 4,
  "nbformat_minor": 0,
  "metadata": {
    "colab": {
      "name": "Classfication task using neural network layers.ipynb",
      "provenance": [],
      "authorship_tag": "ABX9TyPCUBGeFiOLY6Jmog6Ff8IZ",
      "include_colab_link": true
    },
    "kernelspec": {
      "display_name": "Python 3",
      "name": "python3"
    }
  },
  "cells": [
    {
      "cell_type": "markdown",
      "metadata": {
        "id": "view-in-github",
        "colab_type": "text"
      },
      "source": [
        "<a href=\"https://colab.research.google.com/github/surbhiagrawal22/rep0/blob/master/Classfication_task_using_neural_network_layers.ipynb\" target=\"_parent\"><img src=\"https://colab.research.google.com/assets/colab-badge.svg\" alt=\"Open In Colab\"/></a>"
      ]
    },
    {
      "cell_type": "code",
      "metadata": {
        "id": "FfAGY7WgLsX3"
      },
      "source": [
        "# importing the necassary libraries\n",
        "import pandas as pd\n",
        "import numpy as np\n",
        "import matplotlib.pyplot as plt\n",
        "import tensorflow as tf\n",
        "from tensorflow import keras\n",
        "import seaborn as sns\n",
        "import sklearn\n",
        "from sklearn.model_selection import train_test_split\n",
        "from sklearn.metrics import confusion_matrix,recall_score,precision_score,f1_score,cohen_kappa_score,accuracy_score\n",
        "from sklearn.preprocessing import StandardScaler"
      ],
      "execution_count": null,
      "outputs": []
    },
    {
      "cell_type": "code",
      "metadata": {
        "id": "Ao5m0y6TLsl9"
      },
      "source": [
        "# reading the two dataset from local folder\n",
        "pd.set_option(\"display.max_columns\",24)\n",
        "red_wine_data=pd.read_csv(\"/content/winequality-red.csv\",sep=\";\")\n",
        "white_wine_data=pd.read_csv(\"/content/winequality-white.csv\",sep=\";\")\n",
        "\n",
        "# checking the data head,tail and sample\n",
        "print(red_wine_data.head(5))\n",
        "print(red_wine_data.tail(5))\n",
        "print(red_wine_data.sample(n=5))\n",
        "print(white_wine_data.head(5))\n",
        "print(white_wine_data.tail(5))\n",
        "print(white_wine_data.sample(n=5))"
      ],
      "execution_count": null,
      "outputs": []
    },
    {
      "cell_type": "code",
      "metadata": {
        "id": "uNyHNpmpLsrq"
      },
      "source": [
        "# checking the red wine dataset for null values and statistical values\n",
        "print(red_wine_data.info())\n",
        "print(red_wine_data.describe())\n",
        "# checking the white wine dataset for null values and statistical values\n",
        "print(white_wine_data.info())\n",
        "print(white_wine_data.describe())"
      ],
      "execution_count": null,
      "outputs": []
    },
    {
      "cell_type": "code",
      "metadata": {
        "id": "3znA3ZM5LsvG"
      },
      "source": [
        "# building a histogram for both dataset alcohol columns\n",
        "\n",
        "fig,ax=plt.subplots(1,2,figsize=(10,10))\n",
        "ax[0].hist(red_wine_data[\"alcohol\"],label=\"redwine\",color=\"red\")\n",
        "ax[1].hist(white_wine_data[\"alcohol\"],label=\"whitewine\",color=\"green\")\n",
        "ax[0].set_xlabel(\"Alcohol percentage in volume\")\n",
        "ax[1].set_xlabel(\"Alcohol percentage in volume\")\n",
        "ax[0].set_ylabel(\"Frequency\")\n",
        "ax[1].set_ylabel(\"Frequency\")\n",
        "ax[0].set_ylim([0,1000])\n",
        "ax[1].set_ylim([0,1000])\n",
        "fig.legend()\n",
        "fig.suptitle(\"Percentage of alcohol in red wine and white wine\")\n",
        "plt.show()"
      ],
      "execution_count": null,
      "outputs": []
    },
    {
      "cell_type": "code",
      "metadata": {
        "id": "OLMZvX99iicp"
      },
      "source": [
        "# building a scatter plot of quality and sulphates for both dataset \n",
        "\n",
        "fig,ax=plt.subplots(1,2,figsize=(10,10))\n",
        "ax[0].scatter(red_wine_data[\"quality\"],red_wine_data[\"sulphates\"],color=\"red\",label=\"RED wine\")\n",
        "ax[1].scatter(white_wine_data[\"quality\"],white_wine_data[\"sulphates\"],color=\"green\",label=\"white wine\")\n",
        "ax[0].set_xlabel(\"quality\")\n",
        "ax[1].set_xlabel(\"quality\")\n",
        "ax[0].set_ylabel(\"sulphates\")\n",
        "ax[1].set_ylabel(\"sulphates\")\n",
        "ax[0].set_xlim([0,10])\n",
        "ax[1].set_xlim([0,10])\n",
        "ax[0].set_ylim([0,2.5])\n",
        "ax[1].set_ylim([0,2.5])\n",
        "ax[0].set_title(\"Red wine data\")\n",
        "ax[1].set_title(\"White wine data\")\n",
        "fig.suptitle(\"scatter plot of quality vs sulphates in rediwneand whitewine\")\n",
        "fig.legend()\n",
        "plt.show()"
      ],
      "execution_count": null,
      "outputs": []
    },
    {
      "cell_type": "code",
      "metadata": {
        "id": "hoKLaNELB-JZ"
      },
      "source": [
        "# calculating the co-relation and building a pairplot of white wine data\n",
        "white_wine_data_correlation=white_wine_data.corr()\n",
        "sns.pairplot(white_wine_data,corner=True)"
      ],
      "execution_count": null,
      "outputs": []
    },
    {
      "cell_type": "code",
      "metadata": {
        "id": "tGqD8SPiCi8R"
      },
      "source": [
        "\n",
        "# calculating the co-relation and building a pairplot of red wine data\n",
        "red_wine_data_correlation=red_wine_data.corr()\n",
        "sns.pairplot(red_wine_data,corner=True)"
      ],
      "execution_count": null,
      "outputs": []
    },
    {
      "cell_type": "code",
      "metadata": {
        "id": "r8LFYHleGLLD"
      },
      "source": [
        "# drawing heatmap for red_wine_data and whote_wine_data separately to analyse co-relation\n",
        "fig,ax=plt.subplots(1,2)\n",
        "sns.heatmap(red_wine_data_correlation,ax=ax[0],square=True)\n",
        "# fig.subplots_adjust(left=1,right=5,top=5,bottom=1,wspace=1,hspace=3)\n",
        "sns.heatmap(white_wine_data_correlation,ax=ax[1],square=True)"
      ],
      "execution_count": null,
      "outputs": []
    },
    {
      "cell_type": "code",
      "metadata": {
        "id": "FeRpK9b2ii17"
      },
      "source": [
        "# adding new column on each data set and then combining both datasets into one\n",
        "red_wine_data[\"category\"]=1\n",
        "white_wine_data[\"category\"]=0\n",
        "white_wine_data=white_wine_data.append(red_wine_data,ignore_index=True)\n",
        "# checking if appending takes p;ace proplery\n",
        "print(white_wine_data.tail(6))\n",
        "print(white_wine_data.shape)"
      ],
      "execution_count": null,
      "outputs": []
    },
    {
      "cell_type": "code",
      "metadata": {
        "colab": {
          "base_uri": "https://localhost:8080/",
          "height": 370
        },
        "id": "zU-d2MRxHLPc",
        "outputId": "cc6b2959-5e37-436c-b2c4-bdb874d64889"
      },
      "source": [
        "# building a co-realtion heat map for whole dataset\n",
        "whole_data_corelation=white_wine_data.corr()\n",
        "# sns.heatmap(whole_data_corelation,annot=True,linecolor=\"black\",linewidths=\"2\",cbar=True)\n",
        "sns.heatmap(whole_data_corelation,cbar=True,robust=True)"
      ],
      "execution_count": null,
      "outputs": [
        {
          "output_type": "execute_result",
          "data": {
            "text/plain": [
              "<matplotlib.axes._subplots.AxesSubplot at 0x7fe12a5bd630>"
            ]
          },
          "metadata": {
            "tags": []
          },
          "execution_count": 30
        },
        {
          "output_type": "display_data",
          "data": {
            "image/png": "[encoded data removed]",
            "text/plain": [
              "<Figure size 432x288 with 2 Axes>"
            ]
          },
          "metadata": {
            "tags": [],
            "needs_background": "light"
          }
        }
      ]
    },
    {
      "cell_type": "code",
      "metadata": {
        "id": "HEUkutM6JBeA"
      },
      "source": [
        "# performing train test split\n",
        "X=white_wine_data.drop([\"category\"],axis=1)\n",
        "# print(white_wine_data.shape)\n",
        "# print(X.shape)\n",
        "y=white_wine_data[\"category\"]\n",
        "seed_no=7\n",
        "np.random.seed(seed_no)\n",
        "# use straify to ensure data with less values of target values are splitted in equal format in both datasets\n",
        "train_X,test_X,train_y,test_y= train_test_split(X,y,test_size=.2,stratify=y,random_state=seed_no)\n",
        "\n",
        "# checking the shape for train_X,test_X,train_y,test_y\n",
        "print(train_X.shape)\n",
        "print(test_X.shape)\n",
        "print(train_y.shape)\n",
        "print(test_y.shape)\n",
        "\n",
        "# checking for values ocunts in both data\n",
        "print(train_y.value_counts())\n",
        "print(test_y.value_counts())"
      ],
      "execution_count": null,
      "outputs": []
    },
    {
      "cell_type": "code",
      "metadata": {
        "id": "Es4JG-qnM5MB"
      },
      "source": [
        "# standaradise the data using StandardScaler\n",
        "from sklearn.preprocessing import StandardScaler\n",
        "scaler=StandardScaler()\n",
        "train_X=scaler.fit_transform(train_X)\n",
        "test_X=scaler.fit_transform(test_X)"
      ],
      "execution_count": null,
      "outputs": []
    },
    {
      "cell_type": "code",
      "metadata": {
        "id": "kzHnHBmvNUOW"
      },
      "source": [
        "# printing values after standarising\n",
        "print(train_X)\n",
        "print(test_X)\n",
        "\n",
        "\n",
        "print(train_X.shape)"
      ],
      "execution_count": null,
      "outputs": []
    },
    {
      "cell_type": "code",
      "metadata": {
        "id": "b_Z8Sm3SRdsm"
      },
      "source": [
        "# Defining a new Sequential  model\n",
        "model=tf.keras.models.Sequential()\n",
        "\n",
        "# defining the input layer\n",
        "model.add(tf.keras.layers.Dense(12,input_shape=(12,),  activation=\"relu\"))\n",
        "\n",
        "# defining the hiden layer\n",
        "model.add(tf.keras.layers.Dense(8, activation=\"relu\"))\n",
        "\n",
        "# defining the output layer\n",
        "model.add(tf.keras.layers.Dense(1, activation=\"sigmoid\"))\n",
        "\n",
        "# checking the various attributes of model\n",
        "\n",
        "# defining the input shape\n",
        "print(model.input_shape)\n",
        "# defining the output shape\n",
        "print(model.output_shape)\n",
        "# summary\n",
        "print(model.summary())\n",
        "# Model config\n",
        "print(model.get_config())\n",
        "# List all weight tensors \n",
        "print(model.get_weights())"
      ],
      "execution_count": null,
      "outputs": []
    },
    {
      "cell_type": "code",
      "metadata": {
        "id": "oREm7iUWNY2S"
      },
      "source": [
        "from sklearn.metrics import classification_report\n",
        "# compiling the model AND DEFINING THE OPTIMIZER AND LOSS FUNCTION\n",
        "model.compile(loss=\"binary_crossentropy\",optimizer=\"adam\",metrics=[\"accuracy\"])\n",
        "\n",
        "#training the model and saving it in variable model_fit , we can access history of the model \n",
        "model_fit=model.fit(train_X,train_y,epochs=20, batch_size=1, verbose=1  )\n",
        "\n",
        "# PREDICTING USING THE MODEL\n",
        "pred=model.predict(test_X)\n",
        "\n",
        "# print(pred)\n",
        "print(test_y)\n",
        "pred=(pred > 0.5)\n",
        "print(pred)\n",
        "\n",
        "# defining the error rate and accuracy rate \n",
        "loss,accuracy=model.evaluate(test_X,test_y,verbose=1)\n",
        "print(f\"loss is {loss}\")\n",
        "print(f\"Accuracy is {accuracy}\")\n",
        "# priniting the confusion matrix\n",
        "print(confusion_matrix(pred,test_y))\n",
        "\n",
        "print( pd.DataFrame(pred).value_counts())\n",
        "# priniting recall_score\n",
        "print(f'Recall score is {recall_score(pred,test_y)}') \n",
        "# priniting precision_score\n",
        "print(f'precision score is {precision_score(pred,test_y)}')\n",
        "# priniting cohen_kappa_score\n",
        "print(f'kappa score is {cohen_kappa_score(pred,test_y)}')\n",
        "\n",
        "# printing accuracy_score\n",
        "print(f'accuracy_score is {accuracy_score(pred,test_y)}')\n",
        "\n",
        "print(f'classification_report is \\n {classification_report(pred,test_y)}')"
      ],
      "execution_count": null,
      "outputs": []
    },
    {
      "cell_type": "code",
      "metadata": {
        "id": "pTzYIZPwWT5H"
      },
      "source": [
        "# # defining a new model with more hiden layers and usign acativation function is tanh\n",
        "\n",
        "model1=tf.keras.models.Sequential()\n",
        "model1.add(tf.keras.layers.Dense(12,input_shape=(12,),activation=\"tanh\"))\n",
        "model1.add(tf.keras.layers.Dense(6,activation=\"tanh\"))\n",
        "model1.add(tf.keras.layers.Dense(3,activation=\"tanh\"))\n",
        "model1.add(tf.keras.layers.Dense(1,activation=\"sigmoid\"))\n",
        "model1.compile(optimizer=\"adam\",loss=\"binary_crossentropy\",metrics=[\"accuracy\"])\n",
        "\n",
        "\n",
        "#training the model\n",
        "model1.fit(train_X,train_y,epochs=20, batch_size=1, verbose=1)\n",
        "\n",
        "# PREDICTING USING THE MODEL\n",
        "pred=model1.predict(test_X)\n",
        "\n",
        "# print(pred)\n",
        "print(test_y)\n",
        "pred=(pred > 0.5)\n",
        "print(pred)\n",
        "\n",
        "# defining the error rate and accuracy rate \n",
        "print(model1.evaluate(test_X,test_y,verbose=1))\n",
        "\n",
        "\n",
        "# priniting the confusion matrix\n",
        "print(confusion_matrix(pred,test_y))\n",
        "\n",
        "print( pd.DataFrame(pred).value_counts())\n",
        "# priniting recall_score\n",
        "print(f'Recall score is {recall_score(pred,test_y)}') \n",
        "# priniting precision_score\n",
        "print(f'precision score is {precision_score(pred,test_y)}')\n",
        "# priniting cohen_kappa_score\n",
        "print(f'kappa score is {cohen_kappa_score(pred,test_y)}')\n",
        "\n",
        "\n",
        "print(f'accuracy_score is {accuracy_score(pred,test_y)}') "
      ],
      "execution_count": null,
      "outputs": []
    },
    {
      "cell_type": "code",
      "metadata": {
        "id": "APxW6HviaLAf"
      },
      "source": [
        "# # defining a new model with more hiden layers\n",
        "\n",
        "model2=tf.keras.models.Sequential()\n",
        "model2.add(tf.keras.layers.Dense(12,input_shape=(12,),activation=\"tanh\"))\n",
        "model2.add(tf.keras.layers.Dense(9,activation=\"tanh\"))\n",
        "model2.add(tf.keras.layers.Dense(6,activation=\"tanh\"))\n",
        "model2.add(tf.keras.layers.Dense(3,activation=\"tanh\"))\n",
        "model2.add(tf.keras.layers.Dense(1,activation=\"sigmoid\"))\n",
        "model2.compile(optimizer=\"adam\",loss=\"binary_crossentropy\",metrics=[\"accuracy\"])\n",
        "\n",
        "\n",
        "#training the model\n",
        "model2.fit(train_X,train_y,epochs=20, batch_size=1, verbose=1)\n",
        "\n",
        "# PREDICTING USING THE MODEL\n",
        "pred=model2.predict(test_X)\n",
        "\n",
        "# print(pred)\n",
        "print(test_y)\n",
        "pred=(pred > 0.5)\n",
        "print(pred)\n",
        "\n",
        "# defining the error rate and accuracy rate \n",
        "print(model2.evaluate(test_X,test_y,verbose=1))\n",
        "\n",
        "\n",
        "# priniting the confusion matrix\n",
        "print(confusion_matrix(pred,test_y))\n",
        "\n",
        "print( pd.DataFrame(pred).value_counts())\n",
        "# priniting recall_score\n",
        "print(f'Recall score is {recall_score(pred,test_y)}') \n",
        "# priniting precision_score\n",
        "print(f'precision score is {precision_score(pred,test_y)}')\n",
        "# priniting cohen_kappa_score\n",
        "print(f'kappa score is {cohen_kappa_score(pred,test_y)}')\n",
        "print(f'accuracy_score is {accuracy_score(pred,test_y)}') "
      ],
      "execution_count": null,
      "outputs": []
    },
    {
      "cell_type": "code",
      "metadata": {
        "id": "-cmg9MTQbNaF"
      },
      "source": [
        "# # defining a new model with more hiden layers\n",
        "\n",
        "model3=tf.keras.models.Sequential()\n",
        "model3.add(tf.keras.layers.Dense(12,input_shape=(12,),activation=\"relu\"))\n",
        "model3.add(tf.keras.layers.Dense(9,activation=\"relu\"))\n",
        "model3.add(tf.keras.layers.Dense(6,activation=\"relu\"))\n",
        "model3.add(tf.keras.layers.Dense(3,activation=\"relu\"))\n",
        "model3.add(tf.keras.layers.Dense(1,activation=\"sigmoid\"))\n",
        "model3.compile(optimizer=\"adam\",loss=\"binary_crossentropy\",metrics=[\"accuracy\"])\n",
        "\n",
        "\n",
        "#training the model\n",
        "model3.fit(train_X,train_y,epochs=20, batch_size=1, verbose=1)\n",
        "\n",
        "# PREDICTING USING THE MODEL\n",
        "pred=model3.predict(test_X)\n",
        "\n",
        "# print(pred)\n",
        "print(test_y)\n",
        "pred=(pred > 0.5)\n",
        "print(pred)\n",
        "\n",
        "# defining the error rate and accuracy rate \n",
        "print(model3.evaluate(test_X,test_y,verbose=1))\n",
        "\n",
        "\n",
        "# priniting the confusion matrix\n",
        "print(confusion_matrix(pred,test_y))\n",
        "\n",
        "print( pd.DataFrame(pred).value_counts())\n",
        "# priniting recall_score\n",
        "print(f'Recall score is {recall_score(pred,test_y)}') \n",
        "# priniting precision_score\n",
        "print(f'precision score is {precision_score(pred,test_y)}')\n",
        "# priniting cohen_kappa_score\n",
        "print(f'kappa score is {cohen_kappa_score(pred,test_y)}')\n",
        "print(f'accuracy_score is {accuracy_score(pred,test_y)}') "
      ],
      "execution_count": null,
      "outputs": []
    },
    {
      "cell_type": "code",
      "metadata": {
        "id": "xxhEkgVhehNG"
      },
      "source": [
        "# # defining a new model with more hiden layers\n",
        "\n",
        "model3=tf.keras.models.Sequential()\n",
        "model3.add(tf.keras.layers.Dense(48,input_shape=(12,),activation=\"relu\"))\n",
        "model3.add(tf.keras.layers.Dense(24,activation=\"relu\"))\n",
        "model3.add(tf.keras.layers.Dense(12,activation=\"relu\"))\n",
        "model3.add(tf.keras.layers.Dense(6,activation=\"relu\"))\n",
        "model3.add(tf.keras.layers.Dense(3,activation=\"relu\"))\n",
        "model3.add(tf.keras.layers.Dense(1,activation=\"sigmoid\"))\n",
        "model3.compile(optimizer=\"adam\",loss=\"binary_crossentropy\",metrics=[\"accuracy\"])\n",
        "\n",
        "\n",
        "#training the model\n",
        "model3.fit(train_X,train_y,epochs=20, batch_size=1, verbose=1)\n",
        "\n",
        "# PREDICTING USING THE MODEL\n",
        "pred=model3.predict(test_X)\n",
        "\n",
        "# print(pred)\n",
        "print(test_y)\n",
        "pred=(pred > 0.5)\n",
        "print(pred)\n",
        "\n",
        "# defining the error rate and accuracy rate \n",
        "print(model3.evaluate(test_X,test_y,verbose=1))\n",
        "\n",
        "\n",
        "# priniting the confusion matrix\n",
        "print(confusion_matrix(pred,test_y))\n",
        "\n",
        "print( pd.DataFrame(pred).value_counts())\n",
        "# priniting recall_score\n",
        "print(f'Recall score is {recall_score(pred,test_y)}') \n",
        "# priniting precision_score\n",
        "print(f'precision score is {precision_score(pred,test_y)}')\n",
        "# priniting cohen_kappa_score\n",
        "print(f'kappa score is {cohen_kappa_score(pred,test_y)}')\n",
        "print(f'accuracy_score is {accuracy_score(pred,test_y)}') "
      ],
      "execution_count": null,
      "outputs": []
    },
    {
      "cell_type": "code",
      "metadata": {
        "id": "LYcz7i0whbrJ"
      },
      "source": [
        "# creating a model using \"quality\" as a response variable \n",
        "print(white_wine_data.shape)\n",
        "# dropping quality column from dataset\n",
        "X=white_wine_data.drop([\"quality\"],axis=1)\n",
        "\n",
        "# using only quality column as response varaible in y\n",
        "y=white_wine_data[\"quality\"]\n",
        "\n",
        " # chekcing the shape of varaible\n",
        "print(X.shape)\n",
        "print(y.shape)\n",
        "\n",
        "# use straify to ensure data with less values of target values are splitted in equal format in both datasets\n",
        "train_X,test_X,train_y,test_y= train_test_split(X,y,test_size=.2,stratify=y,random_state=7)\n",
        "\n",
        "# checking the shape for train_X,test_X,train_y,test_y\n",
        "print(train_X.shape)\n",
        "print(test_X.shape)\n",
        "print(train_y.shape)\n",
        "print(test_y.shape)\n",
        "\n",
        "# checking for values ocunts in both data\n",
        "print(train_y.value_counts())\n",
        "print(test_y.value_counts())\n"
      ],
      "execution_count": null,
      "outputs": []
    },
    {
      "cell_type": "code",
      "metadata": {
        "id": "x8TTzGm-kTR2"
      },
      "source": [
        "# standaradise the data using StandardScaler\n",
        "from sklearn.preprocessing import StandardScaler\n",
        "scaler=StandardScaler()\n",
        "train_X=scaler.fit_transform(train_X)\n",
        "test_X=scaler.fit_transform(test_X)\n",
        "print(train_X)\n",
        "print(test_X)"
      ],
      "execution_count": null,
      "outputs": []
    },
    {
      "cell_type": "code",
      "metadata": {
        "id": "Qed4xwBglhwU"
      },
      "source": [
        "# building a model for linear regression with one input layer and one output layer\n",
        "# defining the model\n",
        "Model=tf.keras.models.Sequential()\n",
        "# defining the input layer\n",
        "Model.add(tf.keras.layers.Dense(12,input_shape=(12,),activation=\"relu\"))\n",
        "# defining the output layer, no activation function is required\n",
        "Model.add(tf.keras.layers.Dense(1))"
      ],
      "execution_count": null,
      "outputs": []
    },
    {
      "cell_type": "code",
      "metadata": {
        "id": "vdjEfl6bnV1Z"
      },
      "source": [
        "from sklearn.metrics import mean_absolute_error,mean_squared_error,r2_score\n",
        "Model.compile(optimizer=\"rmsprop\",loss=\"mse\",metrics=[\"mae\"])\n",
        "Model.fit(train_X,train_y,epochs=20, batch_size=1, verbose=1)\n",
        "\n",
        "# PREDICTING USING THE MODEL\n",
        "pred=Model.predict(test_X)\n",
        "\n",
        "# defining the error rate and accuracy rate \n",
        "print(Model.evaluate(test_X,test_y,verbose=1))\n",
        "\n",
        "print(f'mean_absolute_error is {mean_absolute_error(pred,test_y)}') \n",
        "print(f'mean_squared_error is {mean_squared_error(pred,test_y)}') \n",
        "\n",
        "print(f'r2_score is {r2_score(pred,test_y)}') "
      ],
      "execution_count": null,
      "outputs": []
    },
    {
      "cell_type": "code",
      "metadata": {
        "id": "NYDM7twiqern"
      },
      "source": [
        "# building a model considering quality as a multi-class categorical variable \n",
        "\n",
        "# defining the model\n",
        "Model=tf.keras.models.Sequential()\n",
        "# defining the input layer\n",
        "Model.add(tf.keras.layers.Dense(12,input_shape=(12,),activation=\"relu\"))\n",
        "# defining the output layer\n",
        "Model.add(tf.keras.layers.Dense(1,activation=\"sigmoid\"))\n",
        "\n",
        "\n",
        "Model.compile(optimizer=\"adam\",loss=\"categorical_crossentropy\",metrics=[\"accuracy\"])\n",
        "Model.fit(train_X,train_y,epochs=20, batch_size=1, verbose=1)\n",
        "\n",
        "# PREDICTING USING THE MODEL\n",
        "pred=Model.predict(test_X)\n",
        "\n",
        "pred=(pred>.5)\n",
        "print(pred)\n",
        "# defining the error rate and accuracy rate \n",
        "print(Model.evaluate(test_X,test_y,verbose=1))\n",
        "\n",
        "\n",
        "# printing the confusion matrix\n",
        "print(confusion_matrix(pred,test_y))\n",
        "\n",
        "print( pd.DataFrame(pred).value_counts())\n",
        "# printing recall_score\n",
        "print(f'Recall score is {recall_score( pred,test_y,average=None)}') \n",
        "# printing precision_score\n",
        "print(f'precision score is {precision_score(pred,test_y,average=None)}')\n",
        "# printing cohen_kappa_score\n",
        "print(f'kappa score is {cohen_kappa_score(pred,test_y)}')\n",
        "# printing accuracy score\n",
        "print(f'accuracy_score is {accuracy_score(pred,test_y,average=None)}') "
      ],
      "execution_count": null,
      "outputs": []
    }
  ]
}