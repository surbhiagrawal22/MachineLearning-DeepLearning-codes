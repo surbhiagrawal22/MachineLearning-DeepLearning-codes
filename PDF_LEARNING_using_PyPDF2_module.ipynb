{
  "nbformat": 4,
  "nbformat_minor": 0,
  "metadata": {
    "colab": {
      "name": "PDF LEARNING using PyPDF2 module.ipynb",
      "provenance": [],
      "collapsed_sections": [],
      "authorship_tag": "ABX9TyPSzwCSCifc8+783dn5vZry",
      "include_colab_link": true
    },
    "kernelspec": {
      "name": "python3",
      "display_name": "Python 3"
    }
  },
  "cells": [
    {
      "cell_type": "markdown",
      "metadata": {
        "id": "view-in-github",
        "colab_type": "text"
      },
      "source": [
        "<a href=\"https://colab.research.google.com/github/surbhiagrawal22/rep0/blob/master/PDF_LEARNING_using_PyPDF2_module.ipynb\" target=\"_parent\"><img src=\"https://colab.research.google.com/assets/colab-badge.svg\" alt=\"Open In Colab\"/></a>"
      ]
    },
    {
      "cell_type": "code",
      "metadata": {
        "colab": {
          "base_uri": "https://localhost:8080/"
        },
        "id": "Jl7wlAakddT0",
        "outputId": "d4d8abfb-e668-4909-8e32-b6985c528e9f"
      },
      "source": [
        "import PyPDF2 \n",
        "from PyPDF2 import PdfFileReader,PdfFileWriter\n",
        "from pathlib import Path\n",
        "\n",
        "\n",
        "# setting the path of file \n",
        "file_path=Path(r'/content/Commerzbank-Filial-Informationen-8-06-2020.pdf')\n",
        "print(type(file_path))\n"
      ],
      "execution_count": 136,
      "outputs": [
        {
          "output_type": "stream",
          "text": [
            "<class 'pathlib.PosixPath'>\n"
          ],
          "name": "stdout"
        }
      ]
    },
    {
      "cell_type": "code",
      "metadata": {
        "id": "MJSPrS8DddtS"
      },
      "source": [
        "# reading the PDF file\n",
        "pdf_reader=PdfFileReader(str(file_path))\n"
      ],
      "execution_count": 137,
      "outputs": []
    },
    {
      "cell_type": "code",
      "metadata": {
        "id": "DN383up-ddwg"
      },
      "source": [
        "DocumentInfo=pdf_reader.getDocumentInfo()\n",
        "print(DocumentInfo)\n",
        "print(DocumentInfo[\"/Creator\"])\n",
        "print(DocumentInfo[\"/CreationDate\"])\n",
        "print(DocumentInfo[\"/ModDate\"])"
      ],
      "execution_count": null,
      "outputs": []
    },
    {
      "cell_type": "code",
      "metadata": {
        "id": "-_tp7QZvddzw"
      },
      "source": [
        "num_pages=pdf_reader.getNumPages()\n",
        "print(num_pages)\n",
        "\n",
        "page_0=pdf_reader.getPage(0)\n",
        "print(page_0)\n",
        "extratct_page_0_text=page_0.extractText()\n",
        "print(extratct_page_0_text)"
      ],
      "execution_count": null,
      "outputs": []
    },
    {
      "cell_type": "code",
      "metadata": {
        "id": "zIzt4Bg8dd29"
      },
      "source": [
        "pdf_writer=PdfFileWriter()\n",
        "# pdf_writer.addBlankPage(width=100,height=100)\n",
        "\n",
        "\n"
      ],
      "execution_count": 140,
      "outputs": []
    },
    {
      "cell_type": "code",
      "metadata": {
        "id": "fI0xC-yJh-jh"
      },
      "source": [
        "### to copy a range of pages from  PDF to a new PDF file \n",
        "\n",
        "for i in range(1):\n",
        "  tex=pdf_reader.getPage(i)\n",
        "  pdf_writer.addPage(tex)\n",
        "\n",
        "\n",
        "with open(\"blank.pdf\",mode=\"wb\") as output_file:\n",
        "  pdf_writer.write(output_file)\n",
        "\n",
        "\n",
        "\n",
        "\n"
      ],
      "execution_count": 141,
      "outputs": []
    },
    {
      "cell_type": "code",
      "metadata": {
        "id": "Sncl4roWoYb4"
      },
      "source": [
        "### to copy a range of pages from  PDF to a new PDF file \n",
        "\n",
        "import PyPDF2\n",
        "from PyPDF2 import PdfFileReader,PdfFileWriter\n",
        "from pathlib import Path\n",
        "\n",
        "file_path=Path(r'/content/Commerzbank-Filial-Informationen-8-06-2020.pdf')\n",
        "pdf_reader=PdfFileReader(str(file_path))\n",
        "pdf_writer=PdfFileWriter()\n",
        "for page in pdf_reader.pages[:2]:\n",
        "  pdf_writer.addPage(page)\n",
        "\n",
        "with open(\"new.pdf\",mode=\"wb\") as output_file1:\n",
        "    pdf_writer.write(output_file1)"
      ],
      "execution_count": 142,
      "outputs": []
    },
    {
      "cell_type": "code",
      "metadata": {
        "colab": {
          "base_uri": "https://localhost:8080/"
        },
        "id": "HgGH6SG0yfnd",
        "outputId": "546ac2d4-0bc6-42fa-a358-b1ee20d1c900"
      },
      "source": [
        "### to add last page from a PDF to a new PDF file \n",
        "import PyPDF2\n",
        "from PyPDF2 import PdfFileReader,PdfFileWriter\n",
        "filepath=Path(r'/content/Commerzbank-Filial-Informationen-8-06-2020.pdf')\n",
        "\n",
        "pdf_reader=PdfFileReader(str(filepath))\n",
        "\n",
        "no_page=pdf_reader.getNumPages()\n",
        "print(no_page)\n",
        "pdf_writer=PdfFileWriter()\n",
        "page=pdf_reader.pages[-1]\n",
        "pdf_writer.addPage(page)\n",
        "with open(\"newblank.pdf\",mode=\"wb\") as outputnew:\n",
        "      pdf_writer.write(outputnew)"
      ],
      "execution_count": 143,
      "outputs": [
        {
          "output_type": "stream",
          "text": [
            "2\n"
          ],
          "name": "stdout"
        }
      ]
    },
    {
      "cell_type": "code",
      "metadata": {
        "id": "pI5lD_-W2fXd"
      },
      "source": [
        "# append of four files in to one another one after another\n",
        "from PyPDF2 import PdfFileMerger,PdfFileReader,PdfFileWriter\n",
        "pdfmerger=PdfFileMerger()\n",
        "filepath1=Path(r'/content/Commerzbank-Filial-Informationen-8-06-2020.pdf')\n",
        "filepath2=Path(r'/content/Immatrikulationsbescheinigung_DE.pdf')\n",
        "filepath3=Path(r'/content/Immatrikulationsbescheinigung_EN.pdf')\n",
        "filepath4=Path(r'/content/Immatrikulationsnachweis.pdf')\n",
        "pdf_writer=PdfFileWriter()\n",
        "file1=PdfFileReader(str(filepath1))\n",
        "file2=PdfFileReader(str(filepath2))\n",
        "file3=PdfFileReader(str(filepath3))\n",
        "file4=PdfFileReader(str(filepath4))\n",
        "\n",
        "final_file=[file1,file2,file3,file4]\n",
        "\n",
        "for i in final_file:\n",
        "  pdfmerger.append(i)\n",
        "\n",
        "with open(\"merged.pdf\",mode=\"wb\") as merged_ouput:\n",
        "    pdfmerger.write(merged_ouput)"
      ],
      "execution_count": 149,
      "outputs": []
    },
    {
      "cell_type": "code",
      "metadata": {
        "id": "Tg4v74347Od9"
      },
      "source": [
        "# merge of four files in to one location at user defined location\n",
        "from PyPDF2 import PdfFileReader,PdfFileMerger,PdfFileWriter\n",
        "from pathlib import Path\n",
        "filepath1=Path(r'/content/Commerzbank-Filial-Informationen-8-06-2020.pdf')\n",
        "filepath2=Path(r'/content/Immatrikulationsbescheinigung_DE.pdf')\n",
        "filepath3=Path(r'/content/Immatrikulationsbescheinigung_EN.pdf')\n",
        "filepath4=Path(r'/content/Immatrikulationsnachweis.pdf')\n",
        "\n",
        "pdf_merger=PdfFileMerger()\n",
        "\n",
        "file1=PdfFileReader(str(filepath1))\n",
        "file2=PdfFileReader(str(filepath2))\n",
        "file3=PdfFileReader(str(filepath3))\n",
        "file4=PdfFileReader(str(filepath4))\n",
        "\n",
        "pdf_merger.append(file1)\n",
        "pdf_merger.merge(1,file2 )\n",
        "\n",
        "with open(\"newmerged.pdf\",mode=\"wb\") as outputfile:\n",
        "  pdf_merger.write(outputfile)\n"
      ],
      "execution_count": 157,
      "outputs": []
    },
    {
      "cell_type": "code",
      "metadata": {
        "id": "-SQPEO1-EGXB"
      },
      "source": [
        "# Rotating of pages of PDF files \n",
        "\n",
        "\n",
        "# merge of four files in to one location at user defined location\n",
        "from PyPDF2 import PdfFileReader,PdfFileMerger,PdfFileWriter\n",
        "from pathlib import Path\n",
        "filepath1=Path(r'/content/Commerzbank-Filial-Informationen-8-06-2020.pdf')\n",
        "filepath2=Path(r'/content/Immatrikulationsbescheinigung_DE.pdf')\n",
        "filepath3=Path(r'/content/Immatrikulationsbescheinigung_EN.pdf')\n",
        "filepath4=Path(r'/content/Immatrikulationsnachweis.pdf')\n",
        "\n",
        "pdf_merger=PdfFileMerger()\n",
        "\n",
        "pdf_writer=PdfFileWriter()\n",
        "file1=PdfFileReader(str(filepath1))\n",
        "file2=PdfFileReader(str(filepath2))\n",
        "file3=PdfFileReader(str(filepath3))\n",
        "file4=PdfFileReader(str(filepath4))\n",
        "\n",
        "\n",
        "file_all=[file1,file2,file3,file4]\n",
        "\n",
        "file_1_read=file1.getDocumentInfo()\n",
        "print(file_1_read)\n",
        "\n",
        "page1=file1.getPage(1)\n",
        "print(page1[\"/Rotate\"])\n",
        "\n",
        "for i in range(file1.getNumPages()):\n",
        "      page=file1.getPage(i)\n",
        "      if page[\"/Rotate\"]==0:\n",
        "        print(True)\n",
        "\n",
        "print(file1.getNumPages())\n",
        "page=file1.getPage(0)\n",
        "for i in page:\n",
        "  print(i)        \n",
        "print(file2.getNumPages())\n",
        "page=file2.getPage(0)\n",
        "print(page)\n",
        "for i in page:\n",
        "  print(i)\n",
        "for i in range(file2.getNumPages()):\n",
        "  page=file2.getPage(i)\n",
        "  try:\n",
        "   if page[\"/Rotate\"]==0:\n",
        "        print(True) \n",
        "  except  Exception:\n",
        "    print(Exception)  \n",
        "\n",
        "print(file3.getNumPages())\n",
        "page=file3.getPage(0)\n",
        "print(page)\n",
        "for i in page:\n",
        "  print(i) \n",
        "\n",
        "print(file4.getNumPages())\n",
        "page=file4.getPage(0)\n",
        "print(page)\n",
        "for i in page:\n",
        "  print(i)    \n",
        "\n",
        "for i in range(file4.getNumPages() ):\n",
        "  try:\n",
        "    page=file4.getPage(i)\n",
        "    if page[\"/Rotate\"]==0:\n",
        "      pass\n",
        "      \n",
        "    \n",
        "  except:\n",
        "    print(\"Rotate not avaible \")  \n",
        "  finally:\n",
        "    page=page.rotateClockwise(90)\n",
        "    pdf_writer.addPage(page)   \n",
        "with open(\"rotate.pdf\",\"wb\") as outputfile:\n",
        "      pdf_writer.write(outputfile)   "
      ],
      "execution_count": null,
      "outputs": []
    },
    {
      "cell_type": "code",
      "metadata": {
        "id": "BYDt7T2yMrHi"
      },
      "source": [
        "# to rotate all pages in a file\n",
        "from PyPDF2 import PdfFileMerger,PdfFileReader,PdfFileWriter\n",
        "from pathlib import Path\n",
        "\n",
        "path1=Path(r'/content/Commerzbank-Filial-Informationen-8-06-2020.pdf')\n",
        "\n",
        "fileread=PdfFileReader(str(path1))\n",
        "pdf_writer=PdfFileWriter()\n",
        "for i in range(fileread.getNumPages()):\n",
        "  page=fileread.getPage(i)\n",
        "  page=page.rotateClockwise(90)\n",
        "  pdf_writer.addPage(page)\n",
        "with open(\"all-rotated.pdf\",mode=\"wb\") as outputfile:\n",
        "    pdf_writer.write(outputfile)"
      ],
      "execution_count": 190,
      "outputs": []
    },
    {
      "cell_type": "code",
      "metadata": {
        "id": "GLJnwwvDN63W"
      },
      "source": [
        "## merging 4 file and then adding encyrption to new PDF file\n",
        "\n",
        "\n",
        "import PyPDF2 \n",
        "from PyPDF2 import PdfFileMerger,PdfFileReader,PdfFileWriter\n",
        "\n",
        "## first defining the path of all files and reading it\n",
        "filepath1=Path(r'/content/Commerzbank-Filial-Informationen-8-06-2020.pdf')\n",
        "filepath2=Path(r'/content/Immatrikulationsbescheinigung_DE.pdf')\n",
        "filepath3=Path(r'/content/Immatrikulationsbescheinigung_EN.pdf')\n",
        "filepath4=Path(r'/content/Immatrikulationsnachweis.pdf')\n",
        "\n",
        "\n",
        "file1=PdfFileReader(str(filepath1))\n",
        "file2=PdfFileReader(str(filepath2))\n",
        "file3=PdfFileReader(str(filepath3))\n",
        "file4=PdfFileReader(str(filepath4))\n",
        "\n",
        "pdf_writer=PdfFileWriter()\n",
        "pdf_merger=PdfFileMerger()\n",
        "\n",
        "file=[file1,file2,file3,file4]\n",
        "\n",
        "for i in file:\n",
        "  for page in i.pages:\n",
        "   pdf_writer.addPage(page)\n",
        "\n",
        "pdf_writer.encrypt(user_pwd=\"enterpassword\")\n",
        "with open(\"encryptedfile.pdf\",mode=\"wb\") as outputfile:\n",
        "  pdf_writer.write(outputfile)"
      ],
      "execution_count": 193,
      "outputs": []
    },
    {
      "cell_type": "code",
      "metadata": {
        "id": "abi9EfrFUHOv"
      },
      "source": [
        "# lerning to decrpyt a file\n",
        "\n",
        "\n",
        "import PyPDF2 \n",
        "from PyPDF2 import PdfFileMerger,PdfFileReader,PdfFileWriter\n",
        "filepath1=Path(r'/content/encryptedfile.pdf')\n",
        "\n",
        "fileread=PdfFileReader(str(filepath1))\n",
        "\n",
        "fileread.decrypt(password=\"enterpassword\")\n",
        "pdf_writer=PdfFileWriter()\n",
        "for page in fileread.pages:\n",
        "  pdf_writer.addPage(page)\n",
        "\n",
        "with open(\"withputpassword.pdf\",\"wb\") as outputfile:\n",
        "  pdf_writer.write(outputfile)"
      ],
      "execution_count": 199,
      "outputs": []
    }
  ]
}