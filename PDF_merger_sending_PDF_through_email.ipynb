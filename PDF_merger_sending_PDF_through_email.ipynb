{
  "nbformat": 4,
  "nbformat_minor": 0,
  "metadata": {
    "colab": {
      "name": "PDF_merger/ sending PDF through email.ipynb",
      "provenance": [],
      "collapsed_sections": [],
      "authorship_tag": "ABX9TyNTCC3kmU9aRmTP7qgPKSGH",
      "include_colab_link": true
    },
    "kernelspec": {
      "display_name": "Python 3",
      "name": "python3"
    }
  },
  "cells": [
    {
      "cell_type": "markdown",
      "metadata": {
        "id": "view-in-github",
        "colab_type": "text"
      },
      "source": [
        "<a href=\"https://colab.research.google.com/github/surbhiagrawal22/rep0/blob/master/PDF_merger_sending_PDF_through_email.ipynb\" target=\"_parent\"><img src=\"https://colab.research.google.com/assets/colab-badge.svg\" alt=\"Open In Colab\"/></a>"
      ]
    },
    {
      "cell_type": "markdown",
      "metadata": {
        "id": "mdIIxM-NdG4O"
      },
      "source": [
        "Merging Two PDF documents ( encrypt them using password) and sending via email through Python\n"
      ]
    },
    {
      "cell_type": "markdown",
      "metadata": {
        "id": "TonlIZYTpDM7"
      },
      "source": [
        "Importing all neccassary libraries"
      ]
    },
    {
      "cell_type": "code",
      "metadata": {
        "id": "uB7vZMVxc5LA"
      },
      "source": [
        "import smtplib,ssl\n",
        "from email import encoders\n",
        "import email.mime\n",
        "from email.mime.text import MIMEText\n",
        "from email.mime.multipart import MIMEMultipart\n",
        "from email.mime.base import MIMEBase\n",
        "from getpass import getpass\n",
        "import PyPDF2\n",
        "from PyPDF2 import PdfFileMerger,PdfFileReader,PdfFileWriter  \n",
        "from pathlib import Path"
      ],
      "execution_count": 26,
      "outputs": []
    },
    {
      "cell_type": "markdown",
      "metadata": {
        "id": "rpC9jAGKpHsy"
      },
      "source": [
        "Reading the Two PDF file and merging the files into one File / encrpyt the file"
      ]
    },
    {
      "cell_type": "code",
      "metadata": {
        "colab": {
          "base_uri": "https://localhost:8080/"
        },
        "id": "9LcCY6vReuvf",
        "outputId": "5b80347e-baaa-4824-ddf7-2f069581b343"
      },
      "source": [
        "\n",
        "file_path1=Path(r'/content/BDBA_M3_DataEngineering_5_Streaming.pdf')\n",
        "file_path2=Path(r'/content/Design Principles project.pdf')\n",
        "\n",
        "file_read1=PdfFileReader(str(file_path1))\n",
        "file_read2=PdfFileReader(str(file_path2))\n",
        "\n",
        "\n",
        "pdf_writer=PdfFileWriter()\n",
        "pdf_writer.appendPagesFromReader(file_read1) \n",
        "pdf_writer.appendPagesFromReader(file_read2)  \n",
        "\n",
        "pdf_encrypt_pasword=getpass(\"Enter password for PDF encyption\")\n",
        "with open(\"UniversityProject.pdf\",mode=\"wb\") as outputfile:\n",
        "  pdf_writer.encrypt(user_pwd=pdf_encrypt_pasword)\n",
        "  pdf_writer.write(outputfile)\n",
        "  \n",
        "  print(\"PDF file created and encypted succesfully\")"
      ],
      "execution_count": null,
      "outputs": [
        {
          "output_type": "stream",
          "text": [
            "Enter password for PDF encyption··········\n"
          ],
          "name": "stdout"
        }
      ]
    },
    {
      "cell_type": "markdown",
      "metadata": {
        "id": "3kuJyIO_pbDw"
      },
      "source": [
        "Creating SMTP SSL connection , Creating the Email body,attaching PDf fiel and image to Email,Sending it to receiver email address"
      ]
    },
    {
      "cell_type": "code",
      "metadata": {
        "id": "HpDnuIkagS_h"
      },
      "source": [
        "sender_email=input(\"Enter sender email address\")\n",
        "email_password=getpass(\"Enter Password\")\n",
        "receiver_email=input(\"Enter receiver email address\")\n",
        "server=\"smtp.gmail.com\"\n",
        "port=465\n",
        "\n",
        "\n",
        "context=ssl.create_default_context()\n",
        "\n",
        "message=MIMEMultipart()\n",
        "message[\"From\"]=sender_email\n",
        "message[\"To\"]=receiver_email\n",
        "message[\"Subject\"]=\"Please find attached combined PDF file\"\n",
        "\n",
        "htmltext=\"\"\"\n",
        "<html>\n",
        "<p>\n",
        "Hello Dear Surbhi,<br>\n",
        "<br>\n",
        "I have generated both files and created a combined PDF.<br>\n",
        "\n",
        "\n",
        "Please find attached email<br><br>\n",
        "\n",
        "For more information, you can check about Design principle at below link <a title=\"Design Principle Literature\" href=\"https://www.interaction-design.org/literature/topics/design-principles\">Design Principle</a><br><br>\n",
        "\n",
        "Thanks Regards\n",
        "\n",
        "\n",
        "</p>\n",
        "</html>\n",
        "\n",
        "\"\"\"\n",
        "\n",
        "htmltextpart=MIMEText(htmltext,\"html\")\n",
        "message.attach(htmltextpart)\n",
        "\n",
        "university_project_pdf_path=Path(r'/content/UniversityProject.pdf')\n",
        "\n",
        "with open(university_project_pdf_path,\"rb\") as readfile:\n",
        " part=MIMEBase(\"application\",\"octet-stream\")\n",
        " # read attachment file content into the MIMEBase object\n",
        " part.set_payload(readfile.read())\n",
        "\n",
        "encoders.encode_base64(part)\n",
        "\n",
        "# add required header data:\n",
        "part.add_header(\n",
        "    \"Content-Disposition\",\n",
        "    f\"attachment; filename= {university_project_pdf_path}\",\n",
        ")\n",
        "\n",
        "image_path=Path(r'/content/Guide to Design Principle.png')\n",
        "message.attach(image_path,\"rb\") as readfile:\n",
        "    mime = MIMEBase('image', 'png', filename=\"Guide to Design Principle.png\")\n",
        "    # add required header data:\n",
        "    mime.add_header('Content-Disposition', 'attachment', filename='Guide to Design Principle.png')\n",
        "    mime.add_header('X-Attachment-Id', '0')\n",
        "    mime.add_header('Content-ID', '<0>')\n",
        "    # read attachment file content into the MIMEBase object\n",
        "    mime.set_payload(f.read())\n",
        "\n",
        "encoders.encode_base64(mime)\n",
        "\n",
        "# attaching both pdf file and image object to message \n",
        "message.attach(mime)\n",
        "message.attach(part)\n",
        "\n",
        "\n",
        "with smtplib.SMTP_SSL(server,port=port,context=context ) as connection:\n",
        "  connection.login(sender_email,email_password)\n",
        "  connection.set_debuglevel(1)\n",
        "  connection.sendmail(sender_email,receiver_email,message.as_string())\n",
        "  print(\"Message send succesfully\")"
      ],
      "execution_count": null,
      "outputs": []
    }
  ]
}