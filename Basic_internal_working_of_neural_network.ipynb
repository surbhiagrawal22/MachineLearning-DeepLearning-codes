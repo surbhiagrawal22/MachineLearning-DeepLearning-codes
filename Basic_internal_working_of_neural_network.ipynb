{
  "nbformat": 4,
  "nbformat_minor": 0,
  "metadata": {
    "colab": {
      "name": "Learning basic working of neural netwrok.ipynb",
      "provenance": [],
      "authorship_tag": "ABX9TyN/cfj3KDiaPwm4mwJg+H4S",
      "include_colab_link": true
    },
    "kernelspec": {
      "name": "python3",
      "display_name": "Python 3"
    },
    "language_info": {
      "name": "python"
    }
  },
  "cells": [
    {
      "cell_type": "markdown",
      "metadata": {
        "id": "view-in-github",
        "colab_type": "text"
      },
      "source": [
        "<a href=\"https://colab.research.google.com/github/surbhiagrawal22/MachineLearning-DeepLearning-codes/blob/master/Basic_internal_working_of_neural_network.ipynb\" target=\"_parent\"><img src=\"https://colab.research.google.com/assets/colab-badge.svg\" alt=\"Open In Colab\"/></a>"
      ]
    },
    {
      "cell_type": "code",
      "metadata": {
        "id": "7GvjsOSsNTde"
      },
      "source": [
        "import math"
      ],
      "execution_count": 19,
      "outputs": []
    },
    {
      "cell_type": "code",
      "metadata": {
        "id": "h53TYVN7NaMC"
      },
      "source": [
        "# defining the function \n",
        "def calculate_dot_product(input_X,input_random_weights):\n",
        "   sum=0\n",
        "   for i in range(len(input_X)):\n",
        "     sum=sum+input_X[i]*input_random_weights[i]\n",
        "   return sum  "
      ],
      "execution_count": 20,
      "outputs": []
    },
    {
      "cell_type": "code",
      "metadata": {
        "id": "z7oa5wscNgXb"
      },
      "source": [
        "def activation(sum_of_weighted_inputs):\n",
        "  output=1/(1+math.exp(-sum_of_weighted_inputs))\n",
        "  return output"
      ],
      "execution_count": 21,
      "outputs": []
    },
    {
      "cell_type": "code",
      "metadata": {
        "colab": {
          "base_uri": "https://localhost:8080/"
        },
        "id": "MroiDmBINgaj",
        "outputId": "e111e525-2f72-4f38-c793-8400f680108d"
      },
      "source": [
        "\n",
        "input_X=[2,5,7]\n",
        "input_random_weights=[.6,.5,.3]\n",
        "sum_of_weighted_inputs=calculate_dot_product(input_X,input_random_weights)\n",
        "output=activation(sum_of_weighted_inputs)\n",
        "print(round(output,7))"
      ],
      "execution_count": 22,
      "outputs": [
        {
          "output_type": "stream",
          "text": [
            "0.9969816\n"
          ],
          "name": "stdout"
        }
      ]
    }
  ]
}