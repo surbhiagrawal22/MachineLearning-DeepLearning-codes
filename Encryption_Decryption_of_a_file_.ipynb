{
  "nbformat": 4,
  "nbformat_minor": 0,
  "metadata": {
    "colab": {
      "name": "Encryption/Decryption of a file .ipynb",
      "provenance": [],
      "authorship_tag": "ABX9TyOGyKZkjU0bPA82bGILODb+",
      "include_colab_link": true
    },
    "kernelspec": {
      "name": "python3",
      "display_name": "Python 3"
    }
  },
  "cells": [
    {
      "cell_type": "markdown",
      "metadata": {
        "id": "view-in-github",
        "colab_type": "text"
      },
      "source": [
        "<a href=\"https://colab.research.google.com/github/surbhiagrawal22/rep0/blob/master/Encryption_Decryption_of_a_file_.ipynb\" target=\"_parent\"><img src=\"https://colab.research.google.com/assets/colab-badge.svg\" alt=\"Open In Colab\"/></a>"
      ]
    },
    {
      "cell_type": "markdown",
      "metadata": {
        "id": "Ld2RCLpZ9nRb"
      },
      "source": [
        "**Encryption/Decryption of Text**"
      ]
    },
    {
      "cell_type": "code",
      "metadata": {
        "id": "4DUQpNRO9qs8"
      },
      "source": [
        "!pip install cryptography"
      ],
      "execution_count": null,
      "outputs": []
    },
    {
      "cell_type": "code",
      "metadata": {
        "id": "LSmm9WfQ9yFT"
      },
      "source": [
        "import cryptography\n",
        "from cryptography.fernet import Fernet\n",
        "\n"
      ],
      "execution_count": 4,
      "outputs": []
    },
    {
      "cell_type": "code",
      "metadata": {
        "id": "u6NcIOfG9740"
      },
      "source": [
        "def generate_save_key():\n",
        "  key=Fernet.generate_key()\n",
        "  with open(\"safe.key\",\"wb\") as outputfile:\n",
        "    outputfile.write(key)\n",
        "generate_save_key()    "
      ],
      "execution_count": 7,
      "outputs": []
    },
    {
      "cell_type": "markdown",
      "metadata": {
        "id": "niJGBmlo98Z0"
      },
      "source": [
        "Generating the key for encryption"
      ]
    },
    {
      "cell_type": "code",
      "metadata": {
        "colab": {
          "base_uri": "https://localhost:8080/"
        },
        "id": "qBpJWN4i-Ap_",
        "outputId": "35647695-a532-416e-f274-6f4a3e4fbc13"
      },
      "source": [
        "\n",
        "\n",
        "def load_key(filepath):\n",
        "  with open(filepath,\"rb\") as readfile:\n",
        "    return readfile.read()\n",
        "\n",
        "filepath=\"safe.key\"\n",
        "key=load_key(filepath)\n",
        "\n",
        "encrypt_object=Fernet(key)\n",
        "\n",
        "some_message=\"I am lovable\"\n",
        "\n",
        "some_message=some_message.encode()\n",
        "print(some_message)"
      ],
      "execution_count": 8,
      "outputs": [
        {
          "output_type": "stream",
          "text": [
            "b'I am lovable'\n"
          ],
          "name": "stdout"
        }
      ]
    },
    {
      "cell_type": "code",
      "metadata": {
        "colab": {
          "base_uri": "https://localhost:8080/"
        },
        "id": "c9Uicm4G_Znp",
        "outputId": "811bc2e6-a5b2-47da-ecd1-718cd951449f"
      },
      "source": [
        "def encyrpt_text(some_message,encrypt_object):\n",
        "    encrypted_text=encrypt_object.encrypt(some_message)\n",
        "    return encrypted_text\n",
        "\n",
        "\n",
        "encrypted_text=  encyrpt_text(some_message,encrypt_object)\n",
        "print(encrypted_text)  "
      ],
      "execution_count": 9,
      "outputs": [
        {
          "output_type": "stream",
          "text": [
            "b'gAAAAABf9uubz0Jm-nvSjgCBIMkzQ7RV6tfBsoDbI9rimCs7QY80wvHspg9cgfIfINjtPk7qV1o-T3cS-mkOB9OcDZ-teDC38A=='\n"
          ],
          "name": "stdout"
        }
      ]
    },
    {
      "cell_type": "code",
      "metadata": {
        "colab": {
          "base_uri": "https://localhost:8080/"
        },
        "id": "Fq6TnOPR_6i1",
        "outputId": "2ac5e0f9-9387-4173-c7e4-da2ef31b4318"
      },
      "source": [
        "def decyption_text(encrypted_text,encrypt_object):\n",
        " decrypted_original_text=encrypt_object.decrypt(encrypted_text)\n",
        " return decrypted_original_text\n",
        "\n",
        "\n",
        "decrypted_original_text=decyption_text(encrypted_text,encrypt_object)\n",
        "print(decrypted_original_text)\n"
      ],
      "execution_count": 10,
      "outputs": [
        {
          "output_type": "stream",
          "text": [
            "b'I am lovable'\n"
          ],
          "name": "stdout"
        }
      ]
    },
    {
      "cell_type": "markdown",
      "metadata": {
        "id": "_RpFUOYQAMEM"
      },
      "source": [
        "**Encrypt A CSV File **\n"
      ]
    },
    {
      "cell_type": "code",
      "metadata": {
        "id": "xzYnlQQAAcha"
      },
      "source": [
        "import cryptography\n",
        "from cryptography.fernet import Fernet\n"
      ],
      "execution_count": 11,
      "outputs": []
    },
    {
      "cell_type": "code",
      "metadata": {
        "id": "B8XQnR3bAcsH"
      },
      "source": [
        "def generate_save_key():\n",
        "  key=Fernet.generate_key()\n",
        "  with open(\"securedsavedkey.key\",\"wb\") as outputfile:\n",
        "    outputfile.write(key)\n",
        "generate_save_key()    "
      ],
      "execution_count": 12,
      "outputs": []
    },
    {
      "cell_type": "code",
      "metadata": {
        "colab": {
          "base_uri": "https://localhost:8080/"
        },
        "id": "vdgZRMqJAcwA",
        "outputId": "b295db7a-cecd-4d21-8012-8f46bc46f91c"
      },
      "source": [
        "def load_the_saved_key(filepath):\n",
        "  with open(filepath,\"rb\") as readfile:\n",
        "    return readfile.read()\n",
        "filepath=\"securedsavedkey.key\"   \n",
        "key=load_the_saved_key(filepath)\n",
        "print(key)    "
      ],
      "execution_count": 13,
      "outputs": [
        {
          "output_type": "stream",
          "text": [
            "b'q4IadqnWFhn9fxSP0AuBvclrsCQNlABTwqqfY3_WLv8='\n"
          ],
          "name": "stdout"
        }
      ]
    },
    {
      "cell_type": "code",
      "metadata": {
        "id": "4sefY6PeAczZ"
      },
      "source": [
        "from pathlib import Path\n",
        "def encypted_a_PDF_file(filedata,fernet_object):\n",
        "             encrpted_file=fernet_object.encrypt(filedata)\n",
        "             with open(\"encrypted.csv\",\"wb\") as writefile:\n",
        "                writefile.write(encrpted_file)\n",
        "filepath= Path(r'/content/sample_data/mnist_train_small.csv')            \n",
        "fernet_object=Fernet(key)  \n",
        "with open(filepath,\"rb\") as readfile:\n",
        "  encypted_a_PDF_file(readfile.read(),fernet_object)\n"
      ],
      "execution_count": 14,
      "outputs": []
    },
    {
      "cell_type": "code",
      "metadata": {
        "id": "uXBurFyWEs9u"
      },
      "source": [
        "def decrypted_file(filedata,fernet_object):\n",
        "        return fernet_object.decrypt(filedata)\n",
        "        \n",
        "filepath=Path(r'/content/encrypted.csv')  \n",
        "with open(filepath,\"rb\") as readfile:\n",
        "   newfile=decrypted_file(readfile.read(),fernet_object)\n",
        "   with open(\"original.csv\",\"wb\") as outputfile:\n",
        "     outputfile.write(newfile)"
      ],
      "execution_count": 15,
      "outputs": []
    },
    {
      "cell_type": "code",
      "metadata": {
        "id": "7HC6r7hdFg8l"
      },
      "source": [
        "import csv\n",
        "import sys\n",
        "csv.field_size_limit(sys.maxsize)\n",
        "\n",
        "with open(\"/content/original.csv\",\"r\") as readfile:\n",
        "  x=csv.reader(readfile)\n",
        "  next(x)\n",
        "  print(next(x))\n",
        "  print(next(x))\n",
        "  print(next(x))\n",
        "\n",
        "\n",
        "with open(\"/content/sample_data/mnist_train_small.csv\",\"r\") as readfile:\n",
        "  x=csv.reader(readfile)\n",
        "  next(x)\n",
        "  print(next(x))\n",
        "  print(next(x))\n",
        "  print(next(x))\n",
        "\n",
        "\n",
        "with open(\"/content/encrypted.csv\",\"r\") as readfile1:\n",
        "  y=csv.reader(readfile1)\n",
        "  # next(y)\n",
        "  print(next(y))\n",
        " \n"
      ],
      "execution_count": null,
      "outputs": []
    },
    {
      "cell_type": "code",
      "metadata": {
        "id": "OjqQACwnhU1T"
      },
      "source": [
        ""
      ],
      "execution_count": 1,
      "outputs": []
    }
  ]
}