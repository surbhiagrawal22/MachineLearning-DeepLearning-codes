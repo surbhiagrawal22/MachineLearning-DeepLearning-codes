{
  "nbformat": 4,
  "nbformat_minor": 0,
  "metadata": {
    "colab": {
      "name": "MedicalExperimentalTest.ipynb",
      "provenance": [],
      "authorship_tag": "ABX9TyP7o4q3nO9Ol8TB4sKR2VHN",
      "include_colab_link": true
    },
    "kernelspec": {
      "name": "python3",
      "display_name": "Python 3"
    }
  },
  "cells": [
    {
      "cell_type": "markdown",
      "metadata": {
        "id": "view-in-github",
        "colab_type": "text"
      },
      "source": [
        "<a href=\"https://colab.research.google.com/github/surbhiagrawal22/MachineLearning-DeepLearning-codes/blob/master/MedicalDrugExperimentalTestClassificationUsingSequentailModel.ipynb\" target=\"_parent\"><img src=\"https://colab.research.google.com/assets/colab-badge.svg\" alt=\"Open In Colab\"/></a>"
      ]
    },
    {
      "cell_type": "code",
      "metadata": {
        "id": "6sHbg2ZFfjCN"
      },
      "source": [
        ""
      ],
      "execution_count": null,
      "outputs": []
    },
    {
      "cell_type": "markdown",
      "metadata": {
        "id": "-sD9P_ZoD9vq"
      },
      "source": [
        "Problem Statement and help taken from https://deeplizard.com/learn/video/LhEMXbjGV_4 :- \n",
        "\n",
        "In  an experimental test, drug was tested on individuals ranging from age 13 to 100 in a clinical trial.\n",
        " The trial had 2100 participants. Half of the participants were under 65 years old, and the other half was 65 years of age or older.\n",
        "\n",
        " The trial showed that around 95% of patients 65 or older experienced side effects from the drug, and around 95% of patients under 65 experienced no side effects, generally showing that elderly individuals were more likely to experience side effects."
      ]
    },
    {
      "cell_type": "code",
      "metadata": {
        "id": "0l9kFH4GEKKp"
      },
      "source": [
        "## importing neccsaray libraries\n",
        "import os\n",
        "import tensorflow as tf\n",
        "import numpy as np\n",
        "import pandas as pd\n",
        "import sklearn\n",
        "from sklearn.metrics import confusion_matrix,classification_report,plot_confusion_matrix\n",
        "from sklearn.model_selection import train_test_split\n",
        "from sklearn.preprocessing import MinMaxScaler\n",
        "from tensorflow.keras.models import Sequential\n",
        "from tensorflow.keras.layers import Dense,Activation,Flatten\n",
        "from tensorflow.keras.optimizers import Adam\n",
        "from tensorflow.keras.metrics import Accuracy\n",
        "import random\n",
        "from sklearn.utils import shuffle\n",
        "import matplotlib.pyplot as plt\n",
        "from tensorflow.keras.models import load_model"
      ],
      "execution_count": 145,
      "outputs": []
    },
    {
      "cell_type": "code",
      "metadata": {
        "id": "s0ZOcYkgE6sU"
      },
      "source": [
        "## generating the data set for analysis:\n",
        "train_samples=[]\n",
        "train_labels=[]\n",
        "for i in range(50):\n",
        "\n",
        "  #around 5% of patients under 65 experienced  side effects,\n",
        "     number=random.randint(13,64)\n",
        "     train_samples.append(number)\n",
        "     train_labels.append(1)\n",
        "\n",
        "   #5% of patients 65 or older experienced no side effects from the drug,    \n",
        "     number=random.randint(65,100)\n",
        "     train_samples.append(number)\n",
        "     train_labels.append(0)\n",
        "  \n",
        "for i in range(1000):\n",
        "   #around 95% of patients under 65 experienced no side effects,\n",
        "     number=random.randint(13,64)\n",
        "     train_samples.append(number)\n",
        "     train_labels.append(0)\n",
        "\n",
        "     #95% of patients 65 or older experienced side effects from the drug,   \n",
        "     number=random.randint(65,100)\n",
        "     train_samples.append(number)\n",
        "     train_labels.append(1)\n",
        "\n",
        "  "
      ],
      "execution_count": 114,
      "outputs": []
    },
    {
      "cell_type": "code",
      "metadata": {
        "id": "P4H4mpQjGaZT"
      },
      "source": [
        "## converting to numpy array \n",
        "train_labels=np.array(train_labels)\n",
        "train_samples=np.array(train_samples)\n",
        "\n",
        "## counting the unique values and their count in a numpy array \n",
        "unique,counts=np.unique(train_labels,return_counts=True)\n",
        "\n",
        "# converting into a table form \n",
        "print(np.asarray((unique,counts)).T)"
      ],
      "execution_count": null,
      "outputs": []
    },
    {
      "cell_type": "code",
      "metadata": {
        "id": "1ePsXW62H4Yk"
      },
      "source": [
        "# shuffling the dataset before fitting the model\n",
        "train_samples,train_labels=shuffle(train_samples,train_labels)\n",
        "\n",
        "# Scaling the data ,all age values will between 0 and 1\n",
        "scaler=MinMaxScaler(feature_range=(0, 1))\n",
        "\n",
        "#Reshape your data either using array.reshape(-1, 1) if your data has a single feature or array.reshape(1, -1)\n",
        "scaled_train_samples=scaler.fit_transform(train_samples.reshape(-1,1))\n",
        "print(scaled_train_samples)\n",
        "\n",
        "print(scaled_train_samples.shape)\n",
        "print(train_labels.shape)\n"
      ],
      "execution_count": null,
      "outputs": []
    },
    {
      "cell_type": "code",
      "metadata": {
        "id": "2qniiRyeIkkM"
      },
      "source": [
        "# define a basic architecture model\n",
        "model=Sequential(\n",
        "    [Dense(16,activation=\"relu\",input_shape=(1,),name=\"First_Hidden\"),\n",
        "    Dense(32,activation=\"relu\",name=\"Second_hidden_layer\"),\n",
        "    Dense(64,activation=\"relu\",name=\"Third_hidden_layer\"),\n",
        "    Dense(2,activation=\"softmax\")])\n",
        "model.compile(loss=tf.keras.losses.sparse_categorical_crossentropy,optimizer=tf.keras.optimizers.Adam(learning_rate=.0001),metrics=\"accuracy\")"
      ],
      "execution_count": 117,
      "outputs": []
    },
    {
      "cell_type": "code",
      "metadata": {
        "colab": {
          "base_uri": "https://localhost:8080/",
          "height": 466
        },
        "id": "Lz5SNItfNy6g",
        "outputId": "f17b3fd4-ffe9-41e1-e8b5-eca0267e991d"
      },
      "source": [
        "%matplotlib inline\n",
        "tf.keras.utils.plot_model(model)\n"
      ],
      "execution_count": 118,
      "outputs": [
        {
          "output_type": "execute_result",
          "data": {
            "image/png": "[encoded data removed]",
            "text/plain": [
              "<IPython.core.display.Image object>"
            ]
          },
          "metadata": {
            "tags": []
          },
          "execution_count": 118
        }
      ]
    },
    {
      "cell_type": "code",
      "metadata": {
        "colab": {
          "base_uri": "https://localhost:8080/"
        },
        "id": "RStuqtU6OPHB",
        "outputId": "f661b3d2-c984-4c51-b47c-d6dc6f5a9158"
      },
      "source": [
        "print(model.summary())"
      ],
      "execution_count": 119,
      "outputs": [
        {
          "output_type": "stream",
          "text": [
            "Model: \"sequential_9\"\n",
            "_________________________________________________________________\n",
            "Layer (type)                 Output Shape              Param #   \n",
            "=================================================================\n",
            "First_Hidden (Dense)         (None, 16)                32        \n",
            "_________________________________________________________________\n",
            "Second_hidden_layer (Dense)  (None, 32)                544       \n",
            "_________________________________________________________________\n",
            "Third_hidden_layer (Dense)   (None, 64)                2112      \n",
            "_________________________________________________________________\n",
            "dense_16 (Dense)             (None, 2)                 130       \n",
            "=================================================================\n",
            "Total params: 2,818\n",
            "Trainable params: 2,818\n",
            "Non-trainable params: 0\n",
            "_________________________________________________________________\n",
            "None\n"
          ],
          "name": "stdout"
        }
      ]
    },
    {
      "cell_type": "code",
      "metadata": {
        "colab": {
          "base_uri": "https://localhost:8080/"
        },
        "id": "h71-U8nxOy-E",
        "outputId": "026480ad-2e95-4609-8058-d564c11d5eb5"
      },
      "source": [
        "fitted_model=model.fit(scaled_train_samples,train_labels,batch_size=10,epochs=30,verbose=2,shuffle=True,validation_split=.1)"
      ],
      "execution_count": 120,
      "outputs": [
        {
          "output_type": "stream",
          "text": [
            "Epoch 1/30\n",
            "189/189 - 1s - loss: 0.6327 - accuracy: 0.5836 - val_loss: 0.5803 - val_accuracy: 0.7048\n",
            "Epoch 2/30\n",
            "189/189 - 0s - loss: 0.5775 - accuracy: 0.6878 - val_loss: 0.5205 - val_accuracy: 0.8048\n",
            "Epoch 3/30\n",
            "189/189 - 0s - loss: 0.5057 - accuracy: 0.8042 - val_loss: 0.4471 - val_accuracy: 0.8429\n",
            "Epoch 4/30\n",
            "189/189 - 0s - loss: 0.4283 - accuracy: 0.8677 - val_loss: 0.3823 - val_accuracy: 0.8714\n",
            "Epoch 5/30\n",
            "189/189 - 0s - loss: 0.3665 - accuracy: 0.8910 - val_loss: 0.3388 - val_accuracy: 0.8952\n",
            "Epoch 6/30\n",
            "189/189 - 0s - loss: 0.3242 - accuracy: 0.9101 - val_loss: 0.3122 - val_accuracy: 0.9238\n",
            "Epoch 7/30\n",
            "189/189 - 0s - loss: 0.2977 - accuracy: 0.9233 - val_loss: 0.2976 - val_accuracy: 0.9429\n",
            "Epoch 8/30\n",
            "189/189 - 0s - loss: 0.2824 - accuracy: 0.9344 - val_loss: 0.2893 - val_accuracy: 0.9333\n",
            "Epoch 9/30\n",
            "189/189 - 0s - loss: 0.2737 - accuracy: 0.9333 - val_loss: 0.2843 - val_accuracy: 0.9429\n",
            "Epoch 10/30\n",
            "189/189 - 0s - loss: 0.2679 - accuracy: 0.9370 - val_loss: 0.2809 - val_accuracy: 0.9429\n",
            "Epoch 11/30\n",
            "189/189 - 0s - loss: 0.2639 - accuracy: 0.9381 - val_loss: 0.2776 - val_accuracy: 0.9476\n",
            "Epoch 12/30\n",
            "189/189 - 0s - loss: 0.2609 - accuracy: 0.9434 - val_loss: 0.2754 - val_accuracy: 0.9571\n",
            "Epoch 13/30\n",
            "189/189 - 0s - loss: 0.2587 - accuracy: 0.9423 - val_loss: 0.2726 - val_accuracy: 0.9476\n",
            "Epoch 14/30\n",
            "189/189 - 0s - loss: 0.2564 - accuracy: 0.9418 - val_loss: 0.2701 - val_accuracy: 0.9476\n",
            "Epoch 15/30\n",
            "189/189 - 0s - loss: 0.2545 - accuracy: 0.9407 - val_loss: 0.2677 - val_accuracy: 0.9476\n",
            "Epoch 16/30\n",
            "189/189 - 0s - loss: 0.2528 - accuracy: 0.9413 - val_loss: 0.2658 - val_accuracy: 0.9476\n",
            "Epoch 17/30\n",
            "189/189 - 0s - loss: 0.2514 - accuracy: 0.9444 - val_loss: 0.2639 - val_accuracy: 0.9476\n",
            "Epoch 18/30\n",
            "189/189 - 0s - loss: 0.2505 - accuracy: 0.9407 - val_loss: 0.2631 - val_accuracy: 0.9571\n",
            "Epoch 19/30\n",
            "189/189 - 0s - loss: 0.2489 - accuracy: 0.9434 - val_loss: 0.2602 - val_accuracy: 0.9476\n",
            "Epoch 20/30\n",
            "189/189 - 0s - loss: 0.2479 - accuracy: 0.9402 - val_loss: 0.2591 - val_accuracy: 0.9571\n",
            "Epoch 21/30\n",
            "189/189 - 0s - loss: 0.2476 - accuracy: 0.9434 - val_loss: 0.2573 - val_accuracy: 0.9476\n",
            "Epoch 22/30\n",
            "189/189 - 0s - loss: 0.2460 - accuracy: 0.9429 - val_loss: 0.2561 - val_accuracy: 0.9476\n",
            "Epoch 23/30\n",
            "189/189 - 0s - loss: 0.2448 - accuracy: 0.9418 - val_loss: 0.2550 - val_accuracy: 0.9571\n",
            "Epoch 24/30\n",
            "189/189 - 0s - loss: 0.2440 - accuracy: 0.9434 - val_loss: 0.2543 - val_accuracy: 0.9571\n",
            "Epoch 25/30\n",
            "189/189 - 0s - loss: 0.2433 - accuracy: 0.9413 - val_loss: 0.2519 - val_accuracy: 0.9476\n",
            "Epoch 26/30\n",
            "189/189 - 0s - loss: 0.2426 - accuracy: 0.9429 - val_loss: 0.2506 - val_accuracy: 0.9571\n",
            "Epoch 27/30\n",
            "189/189 - 0s - loss: 0.2414 - accuracy: 0.9444 - val_loss: 0.2494 - val_accuracy: 0.9571\n",
            "Epoch 28/30\n",
            "189/189 - 0s - loss: 0.2409 - accuracy: 0.9466 - val_loss: 0.2483 - val_accuracy: 0.9476\n",
            "Epoch 29/30\n",
            "189/189 - 0s - loss: 0.2401 - accuracy: 0.9434 - val_loss: 0.2474 - val_accuracy: 0.9476\n",
            "Epoch 30/30\n",
            "189/189 - 0s - loss: 0.2391 - accuracy: 0.9444 - val_loss: 0.2480 - val_accuracy: 0.9571\n"
          ],
          "name": "stdout"
        }
      ]
    },
    {
      "cell_type": "code",
      "metadata": {
        "colab": {
          "base_uri": "https://localhost:8080/",
          "height": 296
        },
        "id": "7lG2kluyPgdE",
        "outputId": "5d844932-8eee-4f5b-d216-3869bbed229a"
      },
      "source": [
        "# plotting the history attribute of the model ( we observe both validation and training accuracy is increasing with number of epcohs \n",
        "#and loss/validation loss is decreasing with number of epochs)\n",
        "hist=pd.DataFrame(fitted_model.history)\n",
        "hist.plot(xlabel=\"Number of Epochs\")"
      ],
      "execution_count": 121,
      "outputs": [
        {
          "output_type": "execute_result",
          "data": {
            "text/plain": [
              "<matplotlib.axes._subplots.AxesSubplot at 0x7f2dd52cc860>"
            ]
          },
          "metadata": {
            "tags": []
          },
          "execution_count": 121
        },
        {
          "output_type": "display_data",
          "data": {
            "image/png": "[encoded data removed]",
            "text/plain": [
              "<Figure size 432x288 with 1 Axes>"
            ]
          },
          "metadata": {
            "tags": [],
            "needs_background": "light"
          }
        }
      ]
    },
    {
      "cell_type": "code",
      "metadata": {
        "id": "7JB7m1_kP5eE"
      },
      "source": [
        "# getting the weights of the model\n",
        "print(model.weights)"
      ],
      "execution_count": null,
      "outputs": []
    },
    {
      "cell_type": "code",
      "metadata": {
        "id": "G-PpqfxuQfnH"
      },
      "source": [
        "## generating some data for prediction\n",
        "## generating the data set :\n",
        "pedict_samples=[]\n",
        "predict_labels=[]\n",
        "for i in range(10):\n",
        "\n",
        "  #around 5% of patients under 65 experienced  side effects,\n",
        "     number=random.randint(13,64)\n",
        "     pedict_samples.append(number)\n",
        "     predict_labels.append(1)\n",
        "\n",
        "   #5% of patients 65 or older experienced no side effects from the drug,    \n",
        "     number=random.randint(65,100)\n",
        "     pedict_samples.append(number)\n",
        "     predict_labels.append(0)\n",
        "  \n",
        "for i in range(200):\n",
        "   #around 95% of patients under 65 experienced no side effects,\n",
        "     number=random.randint(13,64)\n",
        "     pedict_samples.append(number)\n",
        "     predict_labels.append(0)\n",
        "\n",
        "     #95% of patients 65 or older experienced side effects from the drug,   \n",
        "     number=random.randint(65,100)\n",
        "     pedict_samples.append(number)\n",
        "     predict_labels.append(1)\n"
      ],
      "execution_count": 123,
      "outputs": []
    },
    {
      "cell_type": "code",
      "metadata": {
        "id": "cn1--W7pV5HC"
      },
      "source": [
        "\n",
        "# pre-processing the testing data      \n",
        "pedict_samples=np.array(pedict_samples)\n",
        "predict_labels=np.array(predict_labels)\n",
        "pedict_samples,predict_labels=shuffle(pedict_samples,predict_labels)\n",
        "\n",
        "# scaling the testing data\n",
        "scaler=MinMaxScaler(feature_range=(0, 1))\n",
        "#Reshape your data either using array.reshape(-1, 1) if your data has a single feature or array.reshape(1, -1)\n",
        "scaled_pedict_samples=scaler.fit_transform(pedict_samples.reshape(-1,1))\n",
        "\n",
        "# print(scaled_pedict_samples)\n",
        "\n",
        "# print(scaled_pedict_samples.shape)\n",
        "# print(predict_labels.shape)\n"
      ],
      "execution_count": null,
      "outputs": []
    },
    {
      "cell_type": "code",
      "metadata": {
        "id": "B0IkhbGIQvT_"
      },
      "source": [
        "# using the model for predition\n",
        "pred=model.predict(scaled_pedict_samples,verbose=0)\n",
        "print(pred)\n",
        "\n",
        "# simce probablities are given , we will use np.argmax for specifyin the axis which has maximum value\n",
        "pred=np.argmax(pred,axis=-1)\n",
        "print(pred)"
      ],
      "execution_count": null,
      "outputs": []
    },
    {
      "cell_type": "code",
      "metadata": {
        "id": "VX_XRdU-SkME"
      },
      "source": [
        "# creating a confusion matrix\n",
        "conf=confusion_matrix(y_true=predict_labels,y_pred=pred)\n",
        "print(conf)\n"
      ],
      "execution_count": null,
      "outputs": []
    },
    {
      "cell_type": "code",
      "metadata": {
        "colab": {
          "base_uri": "https://localhost:8080/",
          "height": 469
        },
        "id": "xPNSxlwSXxNH",
        "outputId": "6b5ec0ee-208c-48f1-fe1f-67a85473e63f"
      },
      "source": [
        "# code taken from skikit learn library\n",
        "def plot_confusion_matrix(cm,\n",
        "                          target_names,\n",
        "                          title='Confusion matrix',\n",
        "                          cmap=None,\n",
        "                          normalize=True):\n",
        "  \"\"\"\n",
        "    This function prints and plots the confusion matrix.\n",
        "    Normalization can be applied by setting `normalize=True`.\n",
        "    \"\"\"\n",
        "    \n",
        "    import matplotlib.pyplot as plt\n",
        "    import numpy as np\n",
        "    import itertools\n",
        "\n",
        "    accuracy = np.trace(cm) / float(np.sum(cm))\n",
        "    misclass = 1 - accuracy\n",
        "\n",
        "    if cmap is None:\n",
        "        cmap = plt.get_cmap('Blues')\n",
        "\n",
        "    plt.figure(figsize=(8, 6))\n",
        "    plt.imshow(cm, interpolation='nearest', cmap=cmap)\n",
        "    plt.title(title)\n",
        "    plt.colorbar()\n",
        "\n",
        "    if target_names is not None:\n",
        "        tick_marks = np.arange(len(target_names))\n",
        "        plt.xticks(tick_marks, target_names, rotation=45)\n",
        "        plt.yticks(tick_marks, target_names)\n",
        "\n",
        "    if normalize:\n",
        "        cm = cm.astype('float') / cm.sum(axis=1)[:, np.newaxis]\n",
        "\n",
        "\n",
        "    thresh = cm.max() / 1.5 if normalize else cm.max() / 2\n",
        "    for i, j in itertools.product(range(cm.shape[0]), range(cm.shape[1])):\n",
        "        if normalize:\n",
        "            plt.text(j, i, \"{:0.4f}\".format(cm[i, j]),\n",
        "                     horizontalalignment=\"center\",\n",
        "                     color=\"white\" if cm[i, j] > thresh else \"black\")\n",
        "        else:\n",
        "            plt.text(j, i, \"{:,}\".format(cm[i, j]),\n",
        "                     horizontalalignment=\"center\",\n",
        "                     color=\"white\" if cm[i, j] > thresh else \"black\")\n",
        "\n",
        "\n",
        "    plt.tight_layout()\n",
        "    plt.ylabel('True label')\n",
        "    plt.xlabel('Predicted label\\naccuracy={:0.4f}; misclass={:0.4f}'.format(accuracy, misclass))\n",
        "    plt.show()\n",
        "\n",
        "plot_confusion_matrix(cm=conf, normalize=False ,               \n",
        "                          target_names =[\"No side effects\",\"Side effects\"],       # list of names of the classes\n",
        "                          title        = \"Confusion Matrix\",cmap=plt.cm.Blues)    "
      ],
      "execution_count": 140,
      "outputs": [
        {
          "output_type": "display_data",
          "data": {
            "image/png": "[encoded data removed]",
            "text/plain": [
              "<Figure size 576x432 with 2 Axes>"
            ]
          },
          "metadata": {
            "tags": []
          }
        }
      ]
    },
    {
      "cell_type": "code",
      "metadata": {
        "id": "MZjg3guwcuHb"
      },
      "source": [
        "## saving the model for future use\n",
        "import os\n",
        "\n",
        "# checking if the same name file already existed or not  \n",
        "if os.path.isfile(\"MedicalExperimentalTest.h5\") is False:\n",
        "      model.save(\"MedicalExperimentalTest.h5\")"
      ],
      "execution_count": 142,
      "outputs": []
    },
    {
      "cell_type": "code",
      "metadata": {
        "id": "b90J_EyfeT9V"
      },
      "source": [
        "opened_model=load_model(\"MedicalExperimentalTest.h5\")\n",
        "print(opened_model.summary())\n",
        "# print(opened_model.weights)\n",
        "# print(opened_model.optimizer)\n",
        "# print(opened_model.loss)"
      ],
      "execution_count": null,
      "outputs": []
    }
  ]
}