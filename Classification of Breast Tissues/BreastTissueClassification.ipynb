{
  "nbformat": 4,
  "nbformat_minor": 0,
  "metadata": {
    "colab": {
      "name": "BreastTissueClassification.ipynb",
      "provenance": [],
      "toc_visible": true
    },
    "kernelspec": {
      "name": "python3",
      "display_name": "Python 3"
    }
  },
  "cells": [
    {
      "cell_type": "markdown",
      "metadata": {
        "id": "3fappIK3-b1O"
      },
      "source": [
        "# **Breast Tissue Classification Data Set**\n",
        "Source UCI Machine Repository:\n",
        "\n",
        "# **Data Set Information:**\n",
        "The dataset can be used for predicting the classification of either the original 6 classes or of 4 classes by merging together the fibro-adenoma, mastopathy and glandular classes whose discrimination is not important (they cannot be accurately discriminated anyway).\n",
        "\n",
        "# **Attribute Information:**\n",
        "I0 Impedivity (ohm) at zero frequency\n",
        "\n",
        "PA500 phase angle at 500 KHz\n",
        "\n",
        "HFS high-frequency slope of phase angle\n",
        "\n",
        "DA impedance distance between spectral ends\n",
        "\n",
        "AREA area under spectrum\n",
        "\n",
        "A/DA area normalized by DA\n",
        "\n",
        "MAX IP maximum of the spectrum\n",
        "\n",
        "DR distance between I0 and real part of the maximum frequency point\n",
        "\n",
        "P length of the spectral curve\n",
        "\n",
        "Class car(carcinoma), fad (fibro-adenoma), mas (mastopathy), gla (glandular), con (connective), adi (adipose)."
      ]
    },
    {
      "cell_type": "code",
      "metadata": {
        "id": "5mbS1cB9-tIU"
      },
      "source": [
        "# Importing libraries\n",
        "import numpy as np\n",
        "import pandas as pd\n",
        "import sklearn\n",
        "from sklearn.model_selection import train_test_split\n",
        "from sklearn.metrics import precision_score,accuracy_score,recall_score,confusion_matrix"
      ],
      "execution_count": 1,
      "outputs": []
    },
    {
      "cell_type": "code",
      "metadata": {
        "id": "W3zawVND-tTY"
      },
      "source": [
        "# Reading Dataset\n",
        "dataset=pd.read_excel(\"/content/BreastTissue.xls\",sheet_name=\"Data\",index_col=0)\n",
        "\n",
        "# Taking a glance at dataset and class labels, there are no null values in dataset\n",
        "print(dataset)\n",
        "print(dataset.info())\n",
        "print(dataset.describe())\n",
        "print(dataset.sample(frac=.6))\n",
        "print(dataset[\"Class\"].value_counts())"
      ],
      "execution_count": null,
      "outputs": []
    },
    {
      "cell_type": "code",
      "metadata": {
        "id": "Hp5p_oOO-tWw"
      },
      "source": [
        "# Merging the 3 classes fibro-adenoma, mastopathy and glandular together  \n",
        "dataset.loc[dataset['Class'] ==\"fad\", 'Class'] = \"gla\"\n",
        "dataset.loc[dataset['Class'] ==\"mas\", 'Class'] = \"gla\"\n",
        "print(dataset[\"Class\"].value_counts())"
      ],
      "execution_count": null,
      "outputs": []
    },
    {
      "cell_type": "code",
      "metadata": {
        "id": "aYQOoDN5GjNB"
      },
      "source": [
        "# Separating dataset in predictor and dependent variables\n",
        "X=dataset.iloc[:,1:].values\n",
        "y=dataset.iloc[:,0].values\n",
        "print(X)\n",
        "print(y)"
      ],
      "execution_count": null,
      "outputs": []
    },
    {
      "cell_type": "code",
      "metadata": {
        "id": "rciBvwL-HH3b"
      },
      "source": [
        "#  Performing train test Split 70%-30%\n",
        "X_train, X_test, y_train, y_test = train_test_split(X,y,test_size=.3,random_state=23,stratify=y)\n",
        "print(X_train.shape)\n",
        "print(X_test.shape)\n",
        "print(y_train.shape)\n",
        "print(y_test.shape)"
      ],
      "execution_count": null,
      "outputs": []
    },
    {
      "cell_type": "markdown",
      "metadata": {
        "id": "1rz42cUbMyEN"
      },
      "source": [
        "**Scaling the data**"
      ]
    },
    {
      "cell_type": "code",
      "metadata": {
        "id": "7J2EnIZGHg8v"
      },
      "source": [
        "from sklearn.preprocessing import StandardScaler\n",
        "scalar=StandardScaler()\n",
        "X_train=scalar.fit_transform(X_train)\n",
        "X_test=scalar.transform(X_test)\n",
        "\n",
        "# print(X_train)\n",
        "# print(X_test)"
      ],
      "execution_count": 6,
      "outputs": []
    },
    {
      "cell_type": "markdown",
      "metadata": {
        "id": "c3LxTkpAMsSu"
      },
      "source": [
        "# Building a Nearest Neighbour Classifier"
      ]
    },
    {
      "cell_type": "code",
      "metadata": {
        "colab": {
          "base_uri": "https://localhost:8080/"
        },
        "id": "T_ItiXREJKGt",
        "outputId": "583a09e2-9072-46b1-a007-5e533497ccc8"
      },
      "source": [
        "from sklearn.neighbors import KNeighborsClassifier\n",
        "knnclassifier=KNeighborsClassifier(n_neighbors=5,metric=\"minkowski\",p=2)\n",
        "knnclassifier.fit(X_train,y_train)"
      ],
      "execution_count": 7,
      "outputs": [
        {
          "output_type": "execute_result",
          "data": {
            "text/plain": [
              "KNeighborsClassifier(algorithm='auto', leaf_size=30, metric='minkowski',\n",
              "                     metric_params=None, n_jobs=None, n_neighbors=5, p=2,\n",
              "                     weights='uniform')"
            ]
          },
          "metadata": {
            "tags": []
          },
          "execution_count": 7
        }
      ]
    },
    {
      "cell_type": "code",
      "metadata": {
        "id": "LYO4ddJ7JKQ_"
      },
      "source": [
        "# predicting the values\n",
        "predicted=knnclassifier.predict(X_test)\n",
        "# Building confusion Matrix\n",
        "confusion=confusion_matrix(y_test,predicted)\n",
        "print(f'Confusion Matrix is \\n')\n",
        "print(confusion)"
      ],
      "execution_count": null,
      "outputs": []
    },
    {
      "cell_type": "code",
      "metadata": {
        "colab": {
          "base_uri": "https://localhost:8080/"
        },
        "id": "dRzQgSEFJKXQ",
        "outputId": "dada16f8-960e-4d1a-dbef-d3c9699ef7bf"
      },
      "source": [
        "# Caluclting accuracy score\n",
        "print(f'Accuracy score is {round(accuracy_score(y_test,predicted),2)*100} %')\n",
        "print(f'Precison score is {round(precision_score(y_test,predicted,average=\"macro\"),2)}')"
      ],
      "execution_count": 11,
      "outputs": [
        {
          "output_type": "stream",
          "text": [
            "Accuracy score is 81.0 %\n",
            "Precison score is 0.79\n"
          ],
          "name": "stdout"
        }
      ]
    },
    {
      "cell_type": "markdown",
      "metadata": {
        "id": "q2LlYfBsCkdz"
      },
      "source": [
        "# **Accuracy score with KNearestNeighbour is 81% which is very low , now we will try Random Forest Classifier if we can get better accuracy.**"
      ]
    },
    {
      "cell_type": "code",
      "metadata": {
        "id": "ZlsjsL_uCjpW"
      },
      "source": [
        "np.set_printoptions('precision',2)\n",
        "from sklearn.ensemble import RandomForestClassifier\n",
        "randomclassifier=RandomForestClassifier(random_state=34,n_estimators=100)\n",
        "randomclassifier.fit(X_train,y_train)"
      ],
      "execution_count": null,
      "outputs": []
    },
    {
      "cell_type": "code",
      "metadata": {
        "id": "LlIzyLOoCjwP"
      },
      "source": [
        "# Predicting the values\n",
        "predicted=randomclassifier.predict(X_test)\n",
        "# Building confusion Matrix\n",
        "confusion=confusion_matrix(y_test,predicted)\n",
        "print(f'Confusion Matrix is \\n')\n",
        "print(confusion)"
      ],
      "execution_count": null,
      "outputs": []
    },
    {
      "cell_type": "code",
      "metadata": {
        "colab": {
          "base_uri": "https://localhost:8080/"
        },
        "id": "bmXiAgy8CjzX",
        "outputId": "a97e1dcc-f89b-4812-aa57-e5712e89e9be"
      },
      "source": [
        "# Caluclting accuracy score\n",
        "print(f'Accuracy score is {round(accuracy_score(y_test,predicted),2)*100} %')\n",
        "print(f'Precison score is {round(precision_score(y_test,predicted,average=\"macro\"),2)}')"
      ],
      "execution_count": 18,
      "outputs": [
        {
          "output_type": "stream",
          "text": [
            "Accuracy score is 88.0 %\n",
            "Precison score is 0.86\n"
          ],
          "name": "stdout"
        }
      ]
    },
    {
      "cell_type": "markdown",
      "metadata": {
        "id": "ht6wKKww4ey3"
      },
      "source": [
        "**An accuracy of 88% accracy is obtained with Random Forest Classifier(Ensemble Learning) as compared to KNearest Neighbour Classifier**"
      ]
    }
  ]
}