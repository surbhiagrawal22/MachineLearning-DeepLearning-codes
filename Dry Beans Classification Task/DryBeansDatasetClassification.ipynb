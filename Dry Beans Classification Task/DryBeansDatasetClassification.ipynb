{
  "nbformat": 4,
  "nbformat_minor": 0,
  "metadata": {
    "colab": {
      "name": "DryBeansDatasetClassification.ipynb",
      "provenance": [],
      "collapsed_sections": [],
      "toc_visible": true
    },
    "kernelspec": {
      "name": "python3",
      "display_name": "Python 3"
    }
  },
  "cells": [
    {
      "cell_type": "markdown",
      "metadata": {
        "id": "yIVhoEfOhsHB"
      },
      "source": [
        "# Abstract:\n",
        "Images of 13,611 grains of 7 different registered dry beans were taken with a high-resolution camera. A total of 16 features; 12 dimensions and 4 shape forms, were obtained from the grains.\n",
        "\n",
        "# Source UCI Machine Repository:\n",
        "Murat KOKLU\n",
        "Faculty of Technology,\n",
        "Selcuk University,\n",
        "TURKEY.\n",
        "ORCID : 0000-0002-2737-2360\n",
        "mkoklu@selcuk.edu.tr\n",
        "\n",
        "# Classification Task of Coffee Beans\n",
        "Attribute Information:\n",
        "1.) Area (A): The area of a bean zone and the number of pixels within its boundaries.\n",
        "\n",
        "2.) Perimeter (P): Bean circumference is defined as the length of its border.\n",
        "\n",
        "3.) Major axis length (L): The distance between the ends of the longest line that can be drawn from a bean.\n",
        "\n",
        "4.) Minor axis length (l): The longest line that can be drawn from the bean while standing perpendicular to the main axis.\n",
        "\n",
        "5.) Aspect ratio (K): Defines the relationship between L and l.\n",
        "\n",
        "6.) Eccentricity (Ec): Eccentricity of the ellipse having the same moments as the region.\n",
        "\n",
        "7.) Convex area (C): Number of pixels in the smallest convex polygon that can contain the area of a bean seed.\n",
        "\n",
        "8.) Equivalent diameter (Ed): The diameter of a circle having the same area as a bean seed area. \n",
        "\n",
        "9.) Extent (Ex): The ratio of the pixels in the bounding box to the bean area.\n",
        "\n",
        "10.)Solidity (S): Also known as convexity. The ratio of the pixels in the convex shell to those found in beans.\n",
        "\n",
        "11.)Roundness (R): Calculated with the following formula: (4piA)/(P^2)\n",
        "\n",
        "12.)Compactness (CO): Measures the roundness of an object: Ed/L\n",
        "\n",
        "13.)ShapeFactor1 (SF1)\n",
        "\n",
        "14.)ShapeFactor2 (SF2)\n",
        "\n",
        "15.)ShapeFactor3 (SF3)\n",
        "\n",
        "16.)ShapeFactor4 (SF4)\n",
        "\n",
        "17.)Class (Seker, Barbunya, Bombay, Cali, Dermosan, Horoz and Sira) "
      ]
    },
    {
      "cell_type": "markdown",
      "metadata": {
        "id": "s4iJm7T8BdCa"
      },
      "source": [
        "Step1:-Importing libraries"
      ]
    },
    {
      "cell_type": "code",
      "metadata": {
        "id": "U2ongpqEgSZ1"
      },
      "source": [
        "import numpy as np\n",
        "import pandas as pd\n",
        "import sklearn\n",
        "import itertools\n",
        "import matplotlib.pyplot as plt\n",
        "from sklearn.preprocessing import StandardScaler\n",
        "from sklearn.model_selection import train_test_split\n",
        "from sklearn.metrics import precision_score,accuracy_score,recall_score,confusion_matrix,classification_report"
      ],
      "execution_count": 72,
      "outputs": []
    },
    {
      "cell_type": "markdown",
      "metadata": {
        "id": "a_0imZiCBiXW"
      },
      "source": [
        "Step 2:-Reading Dataset"
      ]
    },
    {
      "cell_type": "code",
      "metadata": {
        "id": "I9S398dAhGZw"
      },
      "source": [
        "dataset=pd.read_excel(\"/content/Dry_Bean_Dataset.xlsx\")\n",
        "\n",
        "# Analysing the dataset , no values are found missing in dataset\n",
        "print(dataset.tail())\n",
        "print(dataset.tail())\n",
        "print(dataset.info())\n",
        "print(dataset.describe())\n",
        "print(dataset.sample(frac=.3))"
      ],
      "execution_count": null,
      "outputs": []
    },
    {
      "cell_type": "markdown",
      "metadata": {
        "id": "m-35zLaHBmzH"
      },
      "source": [
        "Step 3 :Pre-Processing"
      ]
    },
    {
      "cell_type": "code",
      "metadata": {
        "id": "5WMzFhmgidnW"
      },
      "source": [
        "# Separating the dependent and independent variables into X(independent) and y(dependent)\n",
        "X=dataset.iloc[:,:-1].values\n",
        "y=dataset.iloc[:,-1].values\n",
        "\n",
        "# Checking the number of labels in classification values, Dataset is little imbalance in labels\n",
        "unique, counts = np.unique(y, return_counts=True)\n",
        "print(np.asarray((unique, counts)).T)"
      ],
      "execution_count": null,
      "outputs": []
    },
    {
      "cell_type": "markdown",
      "metadata": {
        "id": "OJDHrPuUjK_n"
      },
      "source": [
        "**Splitting the data into train and test dataset and Performing Scaling**\n",
        "\n",
        "\n",
        "\n",
        "\n"
      ]
    },
    {
      "cell_type": "code",
      "metadata": {
        "id": "JVoGJwiEhGdu"
      },
      "source": [
        "X_train, X_test, y_train, y_test = train_test_split(X,y,random_state=56,test_size=.2,stratify=y)"
      ],
      "execution_count": 75,
      "outputs": []
    },
    {
      "cell_type": "code",
      "metadata": {
        "id": "ZlcRr1dVhGg7"
      },
      "source": [
        "# checking shape of data\n",
        "print(X_train.shape)\n",
        "# print(np.asarray((np.unique(y_test,return_counts=True))).T)\n",
        "print(X_test.shape)\n",
        "print(y_train.shape)\n",
        "print(y_test.shape)\n"
      ],
      "execution_count": null,
      "outputs": []
    },
    {
      "cell_type": "markdown",
      "metadata": {
        "id": "Tk6rgeIfjC9e"
      },
      "source": [
        "# **Building a Decision Tree Classifier**"
      ]
    },
    {
      "cell_type": "code",
      "metadata": {
        "id": "M3XpEInxhGjq"
      },
      "source": [
        "from sklearn.tree import DecisionTreeClassifier\n",
        "decisiontree=DecisionTreeClassifier(random_state=32)\n",
        "decisiontree.fit(X_train,y_train)"
      ],
      "execution_count": null,
      "outputs": []
    },
    {
      "cell_type": "code",
      "metadata": {
        "id": "Aww8nRhGhGpm"
      },
      "source": [
        "pred_value=decisiontree.predict(X_test)\n",
        "print(pred_value)"
      ],
      "execution_count": null,
      "outputs": []
    },
    {
      "cell_type": "code",
      "metadata": {
        "id": "zPImu6vwr8gF"
      },
      "source": [
        "print( f'\\033[1m \\033[91m Accuracy score is {round( accuracy_score(y_test,pred_value),3)}')\n",
        "print(f'\\033[1m \\033[91m Precision Score is {round(precision_score(y_test,pred_value,average=\"weighted\"),3)}')"
      ],
      "execution_count": null,
      "outputs": []
    },
    {
      "cell_type": "code",
      "metadata": {
        "colab": {
          "base_uri": "https://localhost:8080/"
        },
        "id": "H8p4Dnw_o6nk",
        "outputId": "b527ef3c-9267-4011-8da8-09bfe38fe7d6"
      },
      "source": [
        "print(f'\\033[1m \\033[94m Confusion Matrix \\n')\n",
        "df_confusion=confusion_matrix(y_test,pred_value)\n",
        "print(df_confusion)"
      ],
      "execution_count": 97,
      "outputs": [
        {
          "output_type": "stream",
          "text": [
            "\u001b[1m \u001b[94m Confusion Matrix \n",
            "\n",
            "[[242   0  13   1   2   0   7]\n",
            " [  0 104   0   0   0   0   0]\n",
            " [ 19   0 297   0   9   1   0]\n",
            " [  0   0   0 629   6  10  64]\n",
            " [  2   0  12   3 358   0  11]\n",
            " [  1   0   0  16   0 373  16]\n",
            " [  5   0   3  49  15  12 443]]\n"
          ],
          "name": "stdout"
        }
      ]
    },
    {
      "cell_type": "code",
      "metadata": {
        "colab": {
          "base_uri": "https://localhost:8080/",
          "height": 467
        },
        "id": "_eR8sU1HC4Xu",
        "outputId": "11d3625b-f536-4175-fceb-0e76703f4b3e"
      },
      "source": [
        "# code taken from sklearn learn library\n",
        "def plot_confusion_matrix(cm,target_names,title='Confusion matrix',cmap=None,normalize=True):\n",
        "    \"\"\"\n",
        "    This function prints and plots the confusion matrix.\n",
        "    Normalization can be applied by setting `normalize=True`.\n",
        "    \"\"\"\n",
        "\n",
        "    accuracy = np.trace(cm) / float(np.sum(cm))\n",
        "    misclass = 1 - accuracy\n",
        "\n",
        "    if cmap is None:\n",
        "        cmap = plt.get_cmap('Blues')\n",
        "\n",
        "    plt.figure(figsize=(8, 6))\n",
        "    plt.imshow(cm, interpolation='nearest', cmap=cmap)\n",
        "    plt.title(title)\n",
        "    plt.colorbar()\n",
        "\n",
        "    if target_names is not None:\n",
        "        tick_marks = np.arange(len(target_names))\n",
        "        plt.xticks(tick_marks, target_names, rotation=45)\n",
        "        plt.yticks(tick_marks, target_names)\n",
        "\n",
        "    if normalize:\n",
        "        cm = cm.astype('float') / cm.sum(axis=1)[:, np.newaxis]\n",
        "\n",
        "\n",
        "    thresh = cm.max() / 1.5 if normalize else cm.max() / 2\n",
        "    for i, j in itertools.product(range(cm.shape[0]), range(cm.shape[1])):\n",
        "        if normalize:\n",
        "            plt.text(j, i, \"{:0.4f}\".format(cm[i, j]),\n",
        "                     horizontalalignment=\"center\",\n",
        "                     color=\"white\" if cm[i, j] > thresh else \"black\")\n",
        "        else:\n",
        "            plt.text(j, i, \"{:,}\".format(cm[i, j]),\n",
        "                     horizontalalignment=\"center\",\n",
        "                     color=\"white\" if cm[i, j] > thresh else \"black\")\n",
        "\n",
        "\n",
        "    plt.tight_layout()\n",
        "    plt.ylabel('True label')\n",
        "    plt.xlabel('Predicted label\\naccuracy={:0.4f}; misclass={:0.4f}'.format(accuracy, misclass))\n",
        "    plt.show()\n",
        "\n",
        "plot_confusion_matrix(cm=df_confusion, normalize=False ,               \n",
        "                          target_names =['BARBUNYA' ,'BOMBAY' ,'CALI', 'DERMASON', 'HOROZ', 'SEKER', 'SIRA'],       # list of names of the classes\n",
        "                          title        = \"Confusion Matrix\",cmap=plt.cm.Blues)\n",
        "\n",
        "\n"
      ],
      "execution_count": 98,
      "outputs": [
        {
          "output_type": "display_data",
          "data": {
            "image/png": "[encoded data removed]",
            "text/plain": [
              "<Figure size 576x432 with 2 Axes>"
            ]
          },
          "metadata": {
            "tags": [],
            "needs_background": "light"
          }
        }
      ]
    },
    {
      "cell_type": "markdown",
      "metadata": {
        "id": "MlfLE4n7FQs2"
      },
      "source": [
        "# **We will now try and build a K-Nearest Neighbour classifier**"
      ]
    },
    {
      "cell_type": "code",
      "metadata": {
        "id": "hZW3sL76FQP9"
      },
      "source": [
        "from sklearn.neighbors import KNeighborsClassifier\n",
        "KnnClasifier=KNeighborsClassifier(n_neighbors=5,random_state=42)\n",
        "KnnClasifier.fit(X_train,y_train)"
      ],
      "execution_count": null,
      "outputs": []
    },
    {
      "cell_type": "code",
      "metadata": {
        "id": "x1Nms25uFQU7"
      },
      "source": [
        "knnPred_value=KnnClasifier.predict(X_test)\n",
        "print(knnPred_value)"
      ],
      "execution_count": null,
      "outputs": []
    },
    {
      "cell_type": "code",
      "metadata": {
        "colab": {
          "base_uri": "https://localhost:8080/"
        },
        "id": "ZHqZePK1GtOs",
        "outputId": "fc6f417c-96cd-41f6-cdbc-6a4a2f5940eb"
      },
      "source": [
        "print(f'\\033[1m \\033[91m Accuracy score is {round(accuracy_score(y_test,knnPred_value),3)}')\n",
        "print(f' \\033[91m Precision Score is {round(precision_score(y_test,knnPred_value,average=\"weighted\"),2)}')\n",
        "print(\"\\n\")\n",
        "print('\\033[1m'+ '\\033[94m'+ 'Confusion Matrix'+ '\\n')\n",
        "print(confusion_matrix(y_test,knnPred_value))"
      ],
      "execution_count": 89,
      "outputs": [
        {
          "output_type": "stream",
          "text": [
            "\u001b[1m \u001b[91m Accuracy score is 0.729\n",
            " \u001b[91m Precision Score is 0.73\n",
            "\n",
            "\n",
            "\u001b[1m\u001b[94mConfusion Matrix\n",
            "\n",
            "[[120   0 103   0  33   0   9]\n",
            " [  0 104   0   0   0   0   0]\n",
            " [ 88   2 218   0  18   0   0]\n",
            " [  0   0   0 632   1  41  35]\n",
            " [ 18   0  19   9 275   0  65]\n",
            " [  1   0   0  68   7 257  73]\n",
            " [  4   0   0  72  40  33 378]]\n"
          ],
          "name": "stdout"
        }
      ]
    },
    {
      "cell_type": "markdown",
      "metadata": {
        "id": "hmZX4W5YLnOK"
      },
      "source": [
        "**Accuracy score has decresed with use of K nearest Neighbour Classifier , We can Use Random forest for better accuracy**"
      ]
    },
    {
      "cell_type": "markdown",
      "metadata": {
        "id": "xO47xet5LulP"
      },
      "source": [
        "# **Building a Random Forest Classifier**"
      ]
    },
    {
      "cell_type": "code",
      "metadata": {
        "id": "5UgPv-mfL5dR"
      },
      "source": [
        "from sklearn.ensemble import RandomForestClassifier\n",
        "randomClasifier=RandomForestClassifier(n_estimators=40,random_state=42)\n",
        "randomClasifier.fit(X_train,y_train)"
      ],
      "execution_count": null,
      "outputs": []
    },
    {
      "cell_type": "code",
      "metadata": {
        "id": "Oi-gGyk1L5gG"
      },
      "source": [
        "randomPred_value=randomClasifier.predict(X_test)\n",
        "print(randomPred_value)"
      ],
      "execution_count": null,
      "outputs": []
    },
    {
      "cell_type": "code",
      "metadata": {
        "colab": {
          "base_uri": "https://localhost:8080/"
        },
        "id": "IcN9afnwL5jy",
        "outputId": "9706ee16-390a-4926-935c-72a5f0bd218f"
      },
      "source": [
        "print(f'\\033[1m \\033[91m Accuracy score is {round(accuracy_score(y_test,randomPred_value),3)}')\n",
        "print(f' \\033[91m Precision Score is {round(precision_score(y_test,randomPred_value,average=\"weighted\"),2)}')\n",
        "print(\"\\n\")\n",
        "print('\\033[1m'+ '\\033[94m'+ 'Confusion Matrix'+ '\\n')\n",
        "print(confusion_matrix(y_test,randomPred_value))"
      ],
      "execution_count": 93,
      "outputs": [
        {
          "output_type": "stream",
          "text": [
            "\u001b[1m \u001b[91m Accuracy score is 0.92\n",
            " \u001b[91m Precision Score is 0.92\n",
            "\n",
            "\n",
            "\u001b[1m\u001b[94mConfusion Matrix\n",
            "\n",
            "[[245   0   7   0   2   2   9]\n",
            " [  0 104   0   0   0   0   0]\n",
            " [ 13   0 303   0   8   1   1]\n",
            " [  0   0   0 652   3   9  45]\n",
            " [  2   0   8   2 362   0  12]\n",
            " [  3   0   0  11   0 386   6]\n",
            " [  1   0   1  55   9   8 453]]\n"
          ],
          "name": "stdout"
        }
      ]
    },
    {
      "cell_type": "markdown",
      "metadata": {
        "id": "Yu0Mapl8MwL9"
      },
      "source": [
        "**Out of all three models tried and comparing their accuracies on test dataset , Random Forest has resulted in highest accuracy with 92 %**"
      ]
    }
  ]
}